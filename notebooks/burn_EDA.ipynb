{
 "cells": [
  {
   "cell_type": "code",
   "execution_count": 43,
   "metadata": {},
   "outputs": [],
   "source": [
    "import numpy as np\n",
    "import pandas as pd\n",
    "import tqdm, glob\n",
    "from pybel import *\n",
    "import plotly.graph_objs as go\n",
    "from plotly.offline import init_notebook_mode, iplot\n",
    "from sympy.geometry import Point3D"
   ]
  },
  {
   "cell_type": "code",
   "execution_count": 27,
   "metadata": {},
   "outputs": [
    {
     "data": {
      "text/html": [
       "        <script type=\"text/javascript\">\n",
       "        window.PlotlyConfig = {MathJaxConfig: 'local'};\n",
       "        if (window.MathJax) {MathJax.Hub.Config({SVG: {font: \"STIX-Web\"}});}\n",
       "        if (typeof require !== 'undefined') {\n",
       "        require.undef(\"plotly\");\n",
       "        requirejs.config({\n",
       "            paths: {\n",
       "                'plotly': ['https://cdn.plot.ly/plotly-latest.min']\n",
       "            }\n",
       "        });\n",
       "        require(['plotly'], function(Plotly) {\n",
       "            window._Plotly = Plotly;\n",
       "        });\n",
       "        }\n",
       "        </script>\n",
       "        "
      ]
     },
     "metadata": {},
     "output_type": "display_data"
    }
   ],
   "source": [
    "# initiate the plotly notebook mode\n",
    "init_notebook_mode(connected=True)\n",
    "\n",
    "\n",
    "def plot_molecule(molecule_name, structures_df):\n",
    "    \"\"\"Creates a 3D plot of the molecule\"\"\"\n",
    "    \n",
    "    atomic_radii = dict(C=0.77, F=0.71, H=0.38, N=0.75, O=0.73)  \n",
    "    cpk_colors = dict(C='black', F='green', H='white', N='blue', O='red')\n",
    "\n",
    "    molecule = structures_df[structures_df.molecule_name == molecule_name]\n",
    "    coordinates = molecule[['x', 'y', 'z']].values\n",
    "    x_coordinates = coordinates[:, 0]\n",
    "    y_coordinates = coordinates[:, 1]\n",
    "    z_coordinates = coordinates[:, 2]\n",
    "    elements = molecule.atom.tolist()\n",
    "    radii = [atomic_radii[element] for element in elements]\n",
    "    \n",
    "    def get_bonds():\n",
    "        \"\"\"Generates a set of bonds from atomic cartesian coordinates\"\"\"\n",
    "        ids = np.arange(coordinates.shape[0])\n",
    "        bonds = dict()\n",
    "        coordinates_compare, radii_compare, ids_compare = coordinates, radii, ids\n",
    "        \n",
    "        for _ in range(len(ids)):\n",
    "            coordinates_compare = np.roll(coordinates_compare, -1, axis=0)\n",
    "            radii_compare = np.roll(radii_compare, -1, axis=0)\n",
    "            ids_compare = np.roll(ids_compare, -1, axis=0)\n",
    "            distances = np.linalg.norm(coordinates - coordinates_compare, axis=1)\n",
    "            bond_distances = (radii + radii_compare) * 1.3\n",
    "            mask = np.logical_and(distances > 0.1, distances <  bond_distances)\n",
    "            distances = distances.round(2)\n",
    "            new_bonds = {frozenset([i, j]): dist for i, j, dist in zip(ids[mask], ids_compare[mask], distances[mask])}\n",
    "            bonds.update(new_bonds)\n",
    "        return bonds            \n",
    "            \n",
    "    def atom_trace():\n",
    "        \"\"\"Creates an atom trace for the plot\"\"\"\n",
    "        colors = [cpk_colors[element] for element in elements]\n",
    "        markers = dict(color=colors, line=dict(color='lightgray', width=2), size=7, symbol='circle', opacity=0.8)\n",
    "        trace = go.Scatter3d(x=x_coordinates, y=y_coordinates, z=z_coordinates, mode='markers', marker=markers,\n",
    "                             text=elements, name='')\n",
    "        return trace\n",
    "\n",
    "    def bond_trace():\n",
    "        \"\"\"\"Creates a bond trace for the plot\"\"\"\n",
    "        trace = go.Scatter3d(x=[], y=[], z=[], hoverinfo='none', mode='lines',\n",
    "                             marker=dict(color='grey', size=7, opacity=1))\n",
    "        for i, j in bonds.keys():\n",
    "            trace['x'] += (x_coordinates[i], x_coordinates[j], None)\n",
    "            trace['y'] += (y_coordinates[i], y_coordinates[j], None)\n",
    "            trace['z'] += (z_coordinates[i], z_coordinates[j], None)\n",
    "        return trace\n",
    "    \n",
    "    bonds = get_bonds()\n",
    "    \n",
    "    zipped = zip(range(len(elements)), x_coordinates, y_coordinates, z_coordinates)\n",
    "    annotations_id = [dict(text=num, x=x, y=y, z=z, showarrow=False, yshift=15, font = dict(color = \"blue\"))\n",
    "                   for num, x, y, z in zipped]\n",
    "    \n",
    "    annotations_length = []\n",
    "    for (i, j), dist in bonds.items():\n",
    "        p_i, p_j = Point3D(coordinates[i]), Point3D(coordinates[j])\n",
    "        p = p_i.midpoint(p_j)\n",
    "        annotation = dict(text=dist, x=float(p.x), y=float(p.y), z=float(p.z), showarrow=False, yshift=15)\n",
    "        annotations_length.append(annotation)   \n",
    "    \n",
    "    updatemenus = list([\n",
    "        dict(buttons=list([\n",
    "                 dict(label = 'Atom indices',\n",
    "                      method = 'relayout',\n",
    "                      args = [{'scene.annotations': annotations_id}]),\n",
    "                 dict(label = 'Bond lengths',\n",
    "                      method = 'relayout',\n",
    "                      args = [{'scene.annotations': annotations_length}]),\n",
    "                 dict(label = 'Atom indices & Bond lengths',\n",
    "                      method = 'relayout',\n",
    "                      args = [{'scene.annotations': annotations_id + annotations_length}]),\n",
    "                 dict(label = 'Hide all',\n",
    "                      method = 'relayout',\n",
    "                      args = [{'scene.annotations': []}])\n",
    "                 ]),\n",
    "                 direction='down',\n",
    "                 xanchor = 'left',\n",
    "                 yanchor = 'top'\n",
    "            ),        \n",
    "    ])\n",
    "    \n",
    "    data = [atom_trace(), bond_trace()]\n",
    "    axis_params = dict(showgrid=False, showbackground=False, showticklabels=False, zeroline=False, titlefont=dict(color='white'))\n",
    "    layout = dict(scene=dict(xaxis=axis_params, yaxis=axis_params, zaxis=axis_params, annotations=annotations_id), \n",
    "                  margin=dict(r=0, l=0, b=0, t=0), showlegend=False, updatemenus=updatemenus)\n",
    "\n",
    "    fig = go.Figure(data=data, layout=layout)\n",
    "    iplot(fig)"
   ]
  },
  {
   "cell_type": "markdown",
   "metadata": {},
   "source": [
    "# Read necessary files"
   ]
  },
  {
   "cell_type": "code",
   "execution_count": 3,
   "metadata": {},
   "outputs": [],
   "source": [
    "struct = pd.read_csv('../data/structures.csv')\n",
    "train = pd.read_csv('../data/train.csv')\n",
    "tes = pd.read_csv('../data/test.csv')"
   ]
  },
  {
   "cell_type": "code",
   "execution_count": 4,
   "metadata": {},
   "outputs": [
    {
     "data": {
      "text/html": [
       "<div>\n",
       "<style scoped>\n",
       "    .dataframe tbody tr th:only-of-type {\n",
       "        vertical-align: middle;\n",
       "    }\n",
       "\n",
       "    .dataframe tbody tr th {\n",
       "        vertical-align: top;\n",
       "    }\n",
       "\n",
       "    .dataframe thead th {\n",
       "        text-align: right;\n",
       "    }\n",
       "</style>\n",
       "<table border=\"1\" class=\"dataframe\">\n",
       "  <thead>\n",
       "    <tr style=\"text-align: right;\">\n",
       "      <th></th>\n",
       "      <th>molecule_name</th>\n",
       "      <th>atom_index</th>\n",
       "      <th>atom</th>\n",
       "      <th>x</th>\n",
       "      <th>y</th>\n",
       "      <th>z</th>\n",
       "    </tr>\n",
       "  </thead>\n",
       "  <tbody>\n",
       "    <tr>\n",
       "      <th>0</th>\n",
       "      <td>dsgdb9nsd_000001</td>\n",
       "      <td>0</td>\n",
       "      <td>C</td>\n",
       "      <td>-0.012698</td>\n",
       "      <td>1.085804</td>\n",
       "      <td>0.008001</td>\n",
       "    </tr>\n",
       "    <tr>\n",
       "      <th>1</th>\n",
       "      <td>dsgdb9nsd_000001</td>\n",
       "      <td>1</td>\n",
       "      <td>H</td>\n",
       "      <td>0.002150</td>\n",
       "      <td>-0.006031</td>\n",
       "      <td>0.001976</td>\n",
       "    </tr>\n",
       "    <tr>\n",
       "      <th>2</th>\n",
       "      <td>dsgdb9nsd_000001</td>\n",
       "      <td>2</td>\n",
       "      <td>H</td>\n",
       "      <td>1.011731</td>\n",
       "      <td>1.463751</td>\n",
       "      <td>0.000277</td>\n",
       "    </tr>\n",
       "  </tbody>\n",
       "</table>\n",
       "</div>"
      ],
      "text/plain": [
       "      molecule_name  atom_index atom         x         y         z\n",
       "0  dsgdb9nsd_000001           0    C -0.012698  1.085804  0.008001\n",
       "1  dsgdb9nsd_000001           1    H  0.002150 -0.006031  0.001976\n",
       "2  dsgdb9nsd_000001           2    H  1.011731  1.463751  0.000277"
      ]
     },
     "execution_count": 4,
     "metadata": {},
     "output_type": "execute_result"
    }
   ],
   "source": [
    "struct.head(3)"
   ]
  },
  {
   "cell_type": "code",
   "execution_count": 5,
   "metadata": {},
   "outputs": [
    {
     "data": {
      "text/html": [
       "<div>\n",
       "<style scoped>\n",
       "    .dataframe tbody tr th:only-of-type {\n",
       "        vertical-align: middle;\n",
       "    }\n",
       "\n",
       "    .dataframe tbody tr th {\n",
       "        vertical-align: top;\n",
       "    }\n",
       "\n",
       "    .dataframe thead th {\n",
       "        text-align: right;\n",
       "    }\n",
       "</style>\n",
       "<table border=\"1\" class=\"dataframe\">\n",
       "  <thead>\n",
       "    <tr style=\"text-align: right;\">\n",
       "      <th></th>\n",
       "      <th>id</th>\n",
       "      <th>molecule_name</th>\n",
       "      <th>atom_index_0</th>\n",
       "      <th>atom_index_1</th>\n",
       "      <th>type</th>\n",
       "      <th>scalar_coupling_constant</th>\n",
       "    </tr>\n",
       "  </thead>\n",
       "  <tbody>\n",
       "    <tr>\n",
       "      <th>0</th>\n",
       "      <td>0</td>\n",
       "      <td>dsgdb9nsd_000001</td>\n",
       "      <td>1</td>\n",
       "      <td>0</td>\n",
       "      <td>1JHC</td>\n",
       "      <td>84.8076</td>\n",
       "    </tr>\n",
       "    <tr>\n",
       "      <th>1</th>\n",
       "      <td>1</td>\n",
       "      <td>dsgdb9nsd_000001</td>\n",
       "      <td>1</td>\n",
       "      <td>2</td>\n",
       "      <td>2JHH</td>\n",
       "      <td>-11.2570</td>\n",
       "    </tr>\n",
       "    <tr>\n",
       "      <th>2</th>\n",
       "      <td>2</td>\n",
       "      <td>dsgdb9nsd_000001</td>\n",
       "      <td>1</td>\n",
       "      <td>3</td>\n",
       "      <td>2JHH</td>\n",
       "      <td>-11.2548</td>\n",
       "    </tr>\n",
       "  </tbody>\n",
       "</table>\n",
       "</div>"
      ],
      "text/plain": [
       "   id     molecule_name  atom_index_0  atom_index_1  type  \\\n",
       "0   0  dsgdb9nsd_000001             1             0  1JHC   \n",
       "1   1  dsgdb9nsd_000001             1             2  2JHH   \n",
       "2   2  dsgdb9nsd_000001             1             3  2JHH   \n",
       "\n",
       "   scalar_coupling_constant  \n",
       "0                   84.8076  \n",
       "1                  -11.2570  \n",
       "2                  -11.2548  "
      ]
     },
     "execution_count": 5,
     "metadata": {},
     "output_type": "execute_result"
    }
   ],
   "source": [
    "train.head(3)"
   ]
  },
  {
   "cell_type": "markdown",
   "metadata": {},
   "source": [
    "# Pybel MVP"
   ]
  },
  {
   "cell_type": "code",
   "execution_count": 51,
   "metadata": {},
   "outputs": [],
   "source": [
    "mol_file = '../data/structures/dsgdb9nsd_005567.xyz'"
   ]
  },
  {
   "cell_type": "code",
   "execution_count": 52,
   "metadata": {},
   "outputs": [
    {
     "data": {
      "application/vnd.plotly.v1+json": {
       "config": {
        "linkText": "Export to plot.ly",
        "plotlyServerURL": "https://plot.ly",
        "showLink": false
       },
       "data": [
        {
         "marker": {
          "color": [
           "black",
           "black",
           "black",
           "black",
           "black",
           "blue",
           "black",
           "blue",
           "white",
           "white",
           "white",
           "white",
           "white",
           "white",
           "white",
           "white",
           "white",
           "white"
          ],
          "line": {
           "color": "lightgray",
           "width": 2
          },
          "opacity": 0.8,
          "size": 7,
          "symbol": "circle"
         },
         "mode": "markers",
         "name": "",
         "text": [
          "C",
          "C",
          "C",
          "C",
          "C",
          "N",
          "C",
          "N",
          "H",
          "H",
          "H",
          "H",
          "H",
          "H",
          "H",
          "H",
          "H",
          "H"
         ],
         "type": "scatter3d",
         "x": [
          0.0790916631,
          0.0050567714,
          -1.3986467880000002,
          -2.13322865,
          -1.832048558,
          -3.362442675,
          -3.3157007989999996,
          -2.151776089,
          1.117945021,
          -0.40010513649999996,
          -0.4375816722,
          0.5864704765,
          0.4790607758,
          -2.4942689319999998,
          -1.931177018,
          -0.8067277967,
          -4.14454012,
          -4.155552583
         ],
         "y": [
          1.5835524769999998,
          0.1106778142,
          -0.4114294653,
          -0.8386078103,
          -0.952507682,
          -1.1979655809999998,
          -0.9756260652,
          -0.503218076,
          1.9204849830000001,
          1.7137731219999999,
          2.230255236,
          -0.4968728918,
          -0.0138857509,
          -0.32524336719999997,
          -1.983079641,
          -0.6334999956,
          -1.55908637,
          -1.179928375
         ],
         "z": [
          -0.32405345739999997,
          0.1095455248,
          0.1556100732,
          1.2379964970000001,
          2.69463834,
          0.711510153,
          -0.6321740241,
          -1.001930338,
          -0.4006584922,
          -1.2980002179999999,
          0.39279910079999997,
          -0.5952165211,
          1.089680189,
          3.30472494,
          3.0582556519999997,
          2.8929474039999996,
          1.23160547,
          -1.2800337720000001
         ]
        },
        {
         "hoverinfo": "none",
         "marker": {
          "color": "grey",
          "opacity": 1,
          "size": 7
         },
         "mode": "lines",
         "type": "scatter3d",
         "x": [
          0.0790916631,
          0.0050567714,
          null,
          0.0050567714,
          -1.3986467880000002,
          null,
          -1.3986467880000002,
          -2.13322865,
          null,
          -2.13322865,
          -1.832048558,
          null,
          -3.362442675,
          -3.3157007989999996,
          null,
          -3.3157007989999996,
          -2.151776089,
          null,
          -2.13322865,
          -3.362442675,
          null,
          -1.3986467880000002,
          -2.151776089,
          null,
          0.0050567714,
          0.4790607758,
          null,
          -1.832048558,
          -0.8067277967,
          null,
          -4.14454012,
          -3.362442675,
          null,
          -4.155552583,
          -3.3157007989999996,
          null,
          0.0790916631,
          1.117945021,
          null,
          0.0790916631,
          -0.4375816722,
          null,
          0.0050567714,
          0.5864704765,
          null,
          -1.832048558,
          -1.931177018,
          null,
          0.0790916631,
          -0.40010513649999996,
          null,
          -1.832048558,
          -2.4942689319999998,
          null
         ],
         "y": [
          1.5835524769999998,
          0.1106778142,
          null,
          0.1106778142,
          -0.4114294653,
          null,
          -0.4114294653,
          -0.8386078103,
          null,
          -0.8386078103,
          -0.952507682,
          null,
          -1.1979655809999998,
          -0.9756260652,
          null,
          -0.9756260652,
          -0.503218076,
          null,
          -0.8386078103,
          -1.1979655809999998,
          null,
          -0.4114294653,
          -0.503218076,
          null,
          0.1106778142,
          -0.0138857509,
          null,
          -0.952507682,
          -0.6334999956,
          null,
          -1.55908637,
          -1.1979655809999998,
          null,
          -1.179928375,
          -0.9756260652,
          null,
          1.5835524769999998,
          1.9204849830000001,
          null,
          1.5835524769999998,
          2.230255236,
          null,
          0.1106778142,
          -0.4968728918,
          null,
          -0.952507682,
          -1.983079641,
          null,
          1.5835524769999998,
          1.7137731219999999,
          null,
          -0.952507682,
          -0.32524336719999997,
          null
         ],
         "z": [
          -0.32405345739999997,
          0.1095455248,
          null,
          0.1095455248,
          0.1556100732,
          null,
          0.1556100732,
          1.2379964970000001,
          null,
          1.2379964970000001,
          2.69463834,
          null,
          0.711510153,
          -0.6321740241,
          null,
          -0.6321740241,
          -1.001930338,
          null,
          1.2379964970000001,
          0.711510153,
          null,
          0.1556100732,
          -1.001930338,
          null,
          0.1095455248,
          1.089680189,
          null,
          2.69463834,
          2.8929474039999996,
          null,
          1.23160547,
          0.711510153,
          null,
          -1.2800337720000001,
          -0.6321740241,
          null,
          -0.32405345739999997,
          -0.4006584922,
          null,
          -0.32405345739999997,
          0.39279910079999997,
          null,
          0.1095455248,
          -0.5952165211,
          null,
          2.69463834,
          3.0582556519999997,
          null,
          -0.32405345739999997,
          -1.2980002179999999,
          null,
          2.69463834,
          3.30472494,
          null
         ]
        }
       ],
       "layout": {
        "margin": {
         "b": 0,
         "l": 0,
         "r": 0,
         "t": 0
        },
        "scene": {
         "annotations": [
          {
           "font": {
            "color": "blue"
           },
           "showarrow": false,
           "text": "0",
           "x": 0.0790916631,
           "y": 1.5835524769999998,
           "yshift": 15,
           "z": -0.32405345739999997
          },
          {
           "font": {
            "color": "blue"
           },
           "showarrow": false,
           "text": "1",
           "x": 0.0050567714,
           "y": 0.1106778142,
           "yshift": 15,
           "z": 0.1095455248
          },
          {
           "font": {
            "color": "blue"
           },
           "showarrow": false,
           "text": "2",
           "x": -1.3986467880000002,
           "y": -0.4114294653,
           "yshift": 15,
           "z": 0.1556100732
          },
          {
           "font": {
            "color": "blue"
           },
           "showarrow": false,
           "text": "3",
           "x": -2.13322865,
           "y": -0.8386078103,
           "yshift": 15,
           "z": 1.2379964970000001
          },
          {
           "font": {
            "color": "blue"
           },
           "showarrow": false,
           "text": "4",
           "x": -1.832048558,
           "y": -0.952507682,
           "yshift": 15,
           "z": 2.69463834
          },
          {
           "font": {
            "color": "blue"
           },
           "showarrow": false,
           "text": "5",
           "x": -3.362442675,
           "y": -1.1979655809999998,
           "yshift": 15,
           "z": 0.711510153
          },
          {
           "font": {
            "color": "blue"
           },
           "showarrow": false,
           "text": "6",
           "x": -3.3157007989999996,
           "y": -0.9756260652,
           "yshift": 15,
           "z": -0.6321740241
          },
          {
           "font": {
            "color": "blue"
           },
           "showarrow": false,
           "text": "7",
           "x": -2.151776089,
           "y": -0.503218076,
           "yshift": 15,
           "z": -1.001930338
          },
          {
           "font": {
            "color": "blue"
           },
           "showarrow": false,
           "text": "8",
           "x": 1.117945021,
           "y": 1.9204849830000001,
           "yshift": 15,
           "z": -0.4006584922
          },
          {
           "font": {
            "color": "blue"
           },
           "showarrow": false,
           "text": "9",
           "x": -0.40010513649999996,
           "y": 1.7137731219999999,
           "yshift": 15,
           "z": -1.2980002179999999
          },
          {
           "font": {
            "color": "blue"
           },
           "showarrow": false,
           "text": "10",
           "x": -0.4375816722,
           "y": 2.230255236,
           "yshift": 15,
           "z": 0.39279910079999997
          },
          {
           "font": {
            "color": "blue"
           },
           "showarrow": false,
           "text": "11",
           "x": 0.5864704765,
           "y": -0.4968728918,
           "yshift": 15,
           "z": -0.5952165211
          },
          {
           "font": {
            "color": "blue"
           },
           "showarrow": false,
           "text": "12",
           "x": 0.4790607758,
           "y": -0.0138857509,
           "yshift": 15,
           "z": 1.089680189
          },
          {
           "font": {
            "color": "blue"
           },
           "showarrow": false,
           "text": "13",
           "x": -2.4942689319999998,
           "y": -0.32524336719999997,
           "yshift": 15,
           "z": 3.30472494
          },
          {
           "font": {
            "color": "blue"
           },
           "showarrow": false,
           "text": "14",
           "x": -1.931177018,
           "y": -1.983079641,
           "yshift": 15,
           "z": 3.0582556519999997
          },
          {
           "font": {
            "color": "blue"
           },
           "showarrow": false,
           "text": "15",
           "x": -0.8067277967,
           "y": -0.6334999956,
           "yshift": 15,
           "z": 2.8929474039999996
          },
          {
           "font": {
            "color": "blue"
           },
           "showarrow": false,
           "text": "16",
           "x": -4.14454012,
           "y": -1.55908637,
           "yshift": 15,
           "z": 1.23160547
          },
          {
           "font": {
            "color": "blue"
           },
           "showarrow": false,
           "text": "17",
           "x": -4.155552583,
           "y": -1.179928375,
           "yshift": 15,
           "z": -1.2800337720000001
          }
         ],
         "xaxis": {
          "showbackground": false,
          "showgrid": false,
          "showticklabels": false,
          "title": {
           "font": {
            "color": "white"
           }
          },
          "zeroline": false
         },
         "yaxis": {
          "showbackground": false,
          "showgrid": false,
          "showticklabels": false,
          "title": {
           "font": {
            "color": "white"
           }
          },
          "zeroline": false
         },
         "zaxis": {
          "showbackground": false,
          "showgrid": false,
          "showticklabels": false,
          "title": {
           "font": {
            "color": "white"
           }
          },
          "zeroline": false
         }
        },
        "showlegend": false,
        "template": {
         "data": {
          "bar": [
           {
            "error_x": {
             "color": "#2a3f5f"
            },
            "error_y": {
             "color": "#2a3f5f"
            },
            "marker": {
             "line": {
              "color": "#E5ECF6",
              "width": 0.5
             }
            },
            "type": "bar"
           }
          ],
          "barpolar": [
           {
            "marker": {
             "line": {
              "color": "#E5ECF6",
              "width": 0.5
             }
            },
            "type": "barpolar"
           }
          ],
          "carpet": [
           {
            "aaxis": {
             "endlinecolor": "#2a3f5f",
             "gridcolor": "white",
             "linecolor": "white",
             "minorgridcolor": "white",
             "startlinecolor": "#2a3f5f"
            },
            "baxis": {
             "endlinecolor": "#2a3f5f",
             "gridcolor": "white",
             "linecolor": "white",
             "minorgridcolor": "white",
             "startlinecolor": "#2a3f5f"
            },
            "type": "carpet"
           }
          ],
          "choropleth": [
           {
            "colorbar": {
             "outlinewidth": 0,
             "ticks": ""
            },
            "type": "choropleth"
           }
          ],
          "contour": [
           {
            "colorbar": {
             "outlinewidth": 0,
             "ticks": ""
            },
            "colorscale": [
             [
              0,
              "#0d0887"
             ],
             [
              0.1111111111111111,
              "#46039f"
             ],
             [
              0.2222222222222222,
              "#7201a8"
             ],
             [
              0.3333333333333333,
              "#9c179e"
             ],
             [
              0.4444444444444444,
              "#bd3786"
             ],
             [
              0.5555555555555556,
              "#d8576b"
             ],
             [
              0.6666666666666666,
              "#ed7953"
             ],
             [
              0.7777777777777778,
              "#fb9f3a"
             ],
             [
              0.8888888888888888,
              "#fdca26"
             ],
             [
              1,
              "#f0f921"
             ]
            ],
            "type": "contour"
           }
          ],
          "contourcarpet": [
           {
            "colorbar": {
             "outlinewidth": 0,
             "ticks": ""
            },
            "type": "contourcarpet"
           }
          ],
          "heatmap": [
           {
            "colorbar": {
             "outlinewidth": 0,
             "ticks": ""
            },
            "colorscale": [
             [
              0,
              "#0d0887"
             ],
             [
              0.1111111111111111,
              "#46039f"
             ],
             [
              0.2222222222222222,
              "#7201a8"
             ],
             [
              0.3333333333333333,
              "#9c179e"
             ],
             [
              0.4444444444444444,
              "#bd3786"
             ],
             [
              0.5555555555555556,
              "#d8576b"
             ],
             [
              0.6666666666666666,
              "#ed7953"
             ],
             [
              0.7777777777777778,
              "#fb9f3a"
             ],
             [
              0.8888888888888888,
              "#fdca26"
             ],
             [
              1,
              "#f0f921"
             ]
            ],
            "type": "heatmap"
           }
          ],
          "heatmapgl": [
           {
            "colorbar": {
             "outlinewidth": 0,
             "ticks": ""
            },
            "colorscale": [
             [
              0,
              "#0d0887"
             ],
             [
              0.1111111111111111,
              "#46039f"
             ],
             [
              0.2222222222222222,
              "#7201a8"
             ],
             [
              0.3333333333333333,
              "#9c179e"
             ],
             [
              0.4444444444444444,
              "#bd3786"
             ],
             [
              0.5555555555555556,
              "#d8576b"
             ],
             [
              0.6666666666666666,
              "#ed7953"
             ],
             [
              0.7777777777777778,
              "#fb9f3a"
             ],
             [
              0.8888888888888888,
              "#fdca26"
             ],
             [
              1,
              "#f0f921"
             ]
            ],
            "type": "heatmapgl"
           }
          ],
          "histogram": [
           {
            "marker": {
             "colorbar": {
              "outlinewidth": 0,
              "ticks": ""
             }
            },
            "type": "histogram"
           }
          ],
          "histogram2d": [
           {
            "colorbar": {
             "outlinewidth": 0,
             "ticks": ""
            },
            "colorscale": [
             [
              0,
              "#0d0887"
             ],
             [
              0.1111111111111111,
              "#46039f"
             ],
             [
              0.2222222222222222,
              "#7201a8"
             ],
             [
              0.3333333333333333,
              "#9c179e"
             ],
             [
              0.4444444444444444,
              "#bd3786"
             ],
             [
              0.5555555555555556,
              "#d8576b"
             ],
             [
              0.6666666666666666,
              "#ed7953"
             ],
             [
              0.7777777777777778,
              "#fb9f3a"
             ],
             [
              0.8888888888888888,
              "#fdca26"
             ],
             [
              1,
              "#f0f921"
             ]
            ],
            "type": "histogram2d"
           }
          ],
          "histogram2dcontour": [
           {
            "colorbar": {
             "outlinewidth": 0,
             "ticks": ""
            },
            "colorscale": [
             [
              0,
              "#0d0887"
             ],
             [
              0.1111111111111111,
              "#46039f"
             ],
             [
              0.2222222222222222,
              "#7201a8"
             ],
             [
              0.3333333333333333,
              "#9c179e"
             ],
             [
              0.4444444444444444,
              "#bd3786"
             ],
             [
              0.5555555555555556,
              "#d8576b"
             ],
             [
              0.6666666666666666,
              "#ed7953"
             ],
             [
              0.7777777777777778,
              "#fb9f3a"
             ],
             [
              0.8888888888888888,
              "#fdca26"
             ],
             [
              1,
              "#f0f921"
             ]
            ],
            "type": "histogram2dcontour"
           }
          ],
          "mesh3d": [
           {
            "colorbar": {
             "outlinewidth": 0,
             "ticks": ""
            },
            "type": "mesh3d"
           }
          ],
          "parcoords": [
           {
            "line": {
             "colorbar": {
              "outlinewidth": 0,
              "ticks": ""
             }
            },
            "type": "parcoords"
           }
          ],
          "scatter": [
           {
            "marker": {
             "colorbar": {
              "outlinewidth": 0,
              "ticks": ""
             }
            },
            "type": "scatter"
           }
          ],
          "scatter3d": [
           {
            "line": {
             "colorbar": {
              "outlinewidth": 0,
              "ticks": ""
             }
            },
            "marker": {
             "colorbar": {
              "outlinewidth": 0,
              "ticks": ""
             }
            },
            "type": "scatter3d"
           }
          ],
          "scattercarpet": [
           {
            "marker": {
             "colorbar": {
              "outlinewidth": 0,
              "ticks": ""
             }
            },
            "type": "scattercarpet"
           }
          ],
          "scattergeo": [
           {
            "marker": {
             "colorbar": {
              "outlinewidth": 0,
              "ticks": ""
             }
            },
            "type": "scattergeo"
           }
          ],
          "scattergl": [
           {
            "marker": {
             "colorbar": {
              "outlinewidth": 0,
              "ticks": ""
             }
            },
            "type": "scattergl"
           }
          ],
          "scattermapbox": [
           {
            "marker": {
             "colorbar": {
              "outlinewidth": 0,
              "ticks": ""
             }
            },
            "type": "scattermapbox"
           }
          ],
          "scatterpolar": [
           {
            "marker": {
             "colorbar": {
              "outlinewidth": 0,
              "ticks": ""
             }
            },
            "type": "scatterpolar"
           }
          ],
          "scatterpolargl": [
           {
            "marker": {
             "colorbar": {
              "outlinewidth": 0,
              "ticks": ""
             }
            },
            "type": "scatterpolargl"
           }
          ],
          "scatterternary": [
           {
            "marker": {
             "colorbar": {
              "outlinewidth": 0,
              "ticks": ""
             }
            },
            "type": "scatterternary"
           }
          ],
          "surface": [
           {
            "colorbar": {
             "outlinewidth": 0,
             "ticks": ""
            },
            "colorscale": [
             [
              0,
              "#0d0887"
             ],
             [
              0.1111111111111111,
              "#46039f"
             ],
             [
              0.2222222222222222,
              "#7201a8"
             ],
             [
              0.3333333333333333,
              "#9c179e"
             ],
             [
              0.4444444444444444,
              "#bd3786"
             ],
             [
              0.5555555555555556,
              "#d8576b"
             ],
             [
              0.6666666666666666,
              "#ed7953"
             ],
             [
              0.7777777777777778,
              "#fb9f3a"
             ],
             [
              0.8888888888888888,
              "#fdca26"
             ],
             [
              1,
              "#f0f921"
             ]
            ],
            "type": "surface"
           }
          ],
          "table": [
           {
            "cells": {
             "fill": {
              "color": "#EBF0F8"
             },
             "line": {
              "color": "white"
             }
            },
            "header": {
             "fill": {
              "color": "#C8D4E3"
             },
             "line": {
              "color": "white"
             }
            },
            "type": "table"
           }
          ]
         },
         "layout": {
          "annotationdefaults": {
           "arrowcolor": "#2a3f5f",
           "arrowhead": 0,
           "arrowwidth": 1
          },
          "colorscale": {
           "diverging": [
            [
             0,
             "#8e0152"
            ],
            [
             0.1,
             "#c51b7d"
            ],
            [
             0.2,
             "#de77ae"
            ],
            [
             0.3,
             "#f1b6da"
            ],
            [
             0.4,
             "#fde0ef"
            ],
            [
             0.5,
             "#f7f7f7"
            ],
            [
             0.6,
             "#e6f5d0"
            ],
            [
             0.7,
             "#b8e186"
            ],
            [
             0.8,
             "#7fbc41"
            ],
            [
             0.9,
             "#4d9221"
            ],
            [
             1,
             "#276419"
            ]
           ],
           "sequential": [
            [
             0,
             "#0d0887"
            ],
            [
             0.1111111111111111,
             "#46039f"
            ],
            [
             0.2222222222222222,
             "#7201a8"
            ],
            [
             0.3333333333333333,
             "#9c179e"
            ],
            [
             0.4444444444444444,
             "#bd3786"
            ],
            [
             0.5555555555555556,
             "#d8576b"
            ],
            [
             0.6666666666666666,
             "#ed7953"
            ],
            [
             0.7777777777777778,
             "#fb9f3a"
            ],
            [
             0.8888888888888888,
             "#fdca26"
            ],
            [
             1,
             "#f0f921"
            ]
           ],
           "sequentialminus": [
            [
             0,
             "#0d0887"
            ],
            [
             0.1111111111111111,
             "#46039f"
            ],
            [
             0.2222222222222222,
             "#7201a8"
            ],
            [
             0.3333333333333333,
             "#9c179e"
            ],
            [
             0.4444444444444444,
             "#bd3786"
            ],
            [
             0.5555555555555556,
             "#d8576b"
            ],
            [
             0.6666666666666666,
             "#ed7953"
            ],
            [
             0.7777777777777778,
             "#fb9f3a"
            ],
            [
             0.8888888888888888,
             "#fdca26"
            ],
            [
             1,
             "#f0f921"
            ]
           ]
          },
          "colorway": [
           "#636efa",
           "#EF553B",
           "#00cc96",
           "#ab63fa",
           "#FFA15A",
           "#19d3f3",
           "#FF6692",
           "#B6E880",
           "#FF97FF",
           "#FECB52"
          ],
          "font": {
           "color": "#2a3f5f"
          },
          "geo": {
           "bgcolor": "white",
           "lakecolor": "white",
           "landcolor": "#E5ECF6",
           "showlakes": true,
           "showland": true,
           "subunitcolor": "white"
          },
          "hoverlabel": {
           "align": "left"
          },
          "hovermode": "closest",
          "mapbox": {
           "style": "light"
          },
          "paper_bgcolor": "white",
          "plot_bgcolor": "#E5ECF6",
          "polar": {
           "angularaxis": {
            "gridcolor": "white",
            "linecolor": "white",
            "ticks": ""
           },
           "bgcolor": "#E5ECF6",
           "radialaxis": {
            "gridcolor": "white",
            "linecolor": "white",
            "ticks": ""
           }
          },
          "scene": {
           "xaxis": {
            "backgroundcolor": "#E5ECF6",
            "gridcolor": "white",
            "gridwidth": 2,
            "linecolor": "white",
            "showbackground": true,
            "ticks": "",
            "zerolinecolor": "white"
           },
           "yaxis": {
            "backgroundcolor": "#E5ECF6",
            "gridcolor": "white",
            "gridwidth": 2,
            "linecolor": "white",
            "showbackground": true,
            "ticks": "",
            "zerolinecolor": "white"
           },
           "zaxis": {
            "backgroundcolor": "#E5ECF6",
            "gridcolor": "white",
            "gridwidth": 2,
            "linecolor": "white",
            "showbackground": true,
            "ticks": "",
            "zerolinecolor": "white"
           }
          },
          "shapedefaults": {
           "line": {
            "color": "#2a3f5f"
           }
          },
          "ternary": {
           "aaxis": {
            "gridcolor": "white",
            "linecolor": "white",
            "ticks": ""
           },
           "baxis": {
            "gridcolor": "white",
            "linecolor": "white",
            "ticks": ""
           },
           "bgcolor": "#E5ECF6",
           "caxis": {
            "gridcolor": "white",
            "linecolor": "white",
            "ticks": ""
           }
          },
          "title": {
           "x": 0.05
          },
          "xaxis": {
           "automargin": true,
           "gridcolor": "white",
           "linecolor": "white",
           "ticks": "",
           "zerolinecolor": "white",
           "zerolinewidth": 2
          },
          "yaxis": {
           "automargin": true,
           "gridcolor": "white",
           "linecolor": "white",
           "ticks": "",
           "zerolinecolor": "white",
           "zerolinewidth": 2
          }
         }
        },
        "updatemenus": [
         {
          "buttons": [
           {
            "args": [
             {
              "scene.annotations": [
               {
                "font": {
                 "color": "blue"
                },
                "showarrow": false,
                "text": 0,
                "x": 0.0790916631,
                "y": 1.5835524769999998,
                "yshift": 15,
                "z": -0.32405345739999997
               },
               {
                "font": {
                 "color": "blue"
                },
                "showarrow": false,
                "text": 1,
                "x": 0.0050567714,
                "y": 0.1106778142,
                "yshift": 15,
                "z": 0.1095455248
               },
               {
                "font": {
                 "color": "blue"
                },
                "showarrow": false,
                "text": 2,
                "x": -1.3986467880000002,
                "y": -0.4114294653,
                "yshift": 15,
                "z": 0.1556100732
               },
               {
                "font": {
                 "color": "blue"
                },
                "showarrow": false,
                "text": 3,
                "x": -2.13322865,
                "y": -0.8386078103,
                "yshift": 15,
                "z": 1.2379964970000001
               },
               {
                "font": {
                 "color": "blue"
                },
                "showarrow": false,
                "text": 4,
                "x": -1.832048558,
                "y": -0.952507682,
                "yshift": 15,
                "z": 2.69463834
               },
               {
                "font": {
                 "color": "blue"
                },
                "showarrow": false,
                "text": 5,
                "x": -3.362442675,
                "y": -1.1979655809999998,
                "yshift": 15,
                "z": 0.711510153
               },
               {
                "font": {
                 "color": "blue"
                },
                "showarrow": false,
                "text": 6,
                "x": -3.3157007989999996,
                "y": -0.9756260652,
                "yshift": 15,
                "z": -0.6321740241
               },
               {
                "font": {
                 "color": "blue"
                },
                "showarrow": false,
                "text": 7,
                "x": -2.151776089,
                "y": -0.503218076,
                "yshift": 15,
                "z": -1.001930338
               },
               {
                "font": {
                 "color": "blue"
                },
                "showarrow": false,
                "text": 8,
                "x": 1.117945021,
                "y": 1.9204849830000001,
                "yshift": 15,
                "z": -0.4006584922
               },
               {
                "font": {
                 "color": "blue"
                },
                "showarrow": false,
                "text": 9,
                "x": -0.40010513649999996,
                "y": 1.7137731219999999,
                "yshift": 15,
                "z": -1.2980002179999999
               },
               {
                "font": {
                 "color": "blue"
                },
                "showarrow": false,
                "text": 10,
                "x": -0.4375816722,
                "y": 2.230255236,
                "yshift": 15,
                "z": 0.39279910079999997
               },
               {
                "font": {
                 "color": "blue"
                },
                "showarrow": false,
                "text": 11,
                "x": 0.5864704765,
                "y": -0.4968728918,
                "yshift": 15,
                "z": -0.5952165211
               },
               {
                "font": {
                 "color": "blue"
                },
                "showarrow": false,
                "text": 12,
                "x": 0.4790607758,
                "y": -0.0138857509,
                "yshift": 15,
                "z": 1.089680189
               },
               {
                "font": {
                 "color": "blue"
                },
                "showarrow": false,
                "text": 13,
                "x": -2.4942689319999998,
                "y": -0.32524336719999997,
                "yshift": 15,
                "z": 3.30472494
               },
               {
                "font": {
                 "color": "blue"
                },
                "showarrow": false,
                "text": 14,
                "x": -1.931177018,
                "y": -1.983079641,
                "yshift": 15,
                "z": 3.0582556519999997
               },
               {
                "font": {
                 "color": "blue"
                },
                "showarrow": false,
                "text": 15,
                "x": -0.8067277967,
                "y": -0.6334999956,
                "yshift": 15,
                "z": 2.8929474039999996
               },
               {
                "font": {
                 "color": "blue"
                },
                "showarrow": false,
                "text": 16,
                "x": -4.14454012,
                "y": -1.55908637,
                "yshift": 15,
                "z": 1.23160547
               },
               {
                "font": {
                 "color": "blue"
                },
                "showarrow": false,
                "text": 17,
                "x": -4.155552583,
                "y": -1.179928375,
                "yshift": 15,
                "z": -1.2800337720000001
               }
              ]
             }
            ],
            "label": "Atom indices",
            "method": "relayout"
           },
           {
            "args": [
             {
              "scene.annotations": [
               {
                "showarrow": false,
                "text": 1.54,
                "x": 0.04207421725,
                "y": 0.8471151456,
                "yshift": 15,
                "z": -0.1072539663
               },
               {
                "showarrow": false,
                "text": 1.5,
                "x": -0.6967950083,
                "y": -0.15037582555,
                "yshift": 15,
                "z": 0.132577799
               },
               {
                "showarrow": false,
                "text": 1.38,
                "x": -1.765937719,
                "y": -0.6250186378,
                "yshift": 15,
                "z": 0.6968032851
               },
               {
                "showarrow": false,
                "text": 1.49,
                "x": -1.982638604,
                "y": -0.89555774615,
                "yshift": 15,
                "z": 1.9663174185
               },
               {
                "showarrow": false,
                "text": 1.36,
                "x": -3.339071737,
                "y": -1.0867958231,
                "yshift": 15,
                "z": 0.03966806445
               },
               {
                "showarrow": false,
                "text": 1.31,
                "x": -2.733738444,
                "y": -0.7394220706,
                "yshift": 15,
                "z": -0.81705218105
               },
               {
                "showarrow": false,
                "text": 1.38,
                "x": -2.7478356625,
                "y": -1.01828669565,
                "yshift": 15,
                "z": 0.974753325
               },
               {
                "showarrow": false,
                "text": 1.38,
                "x": -1.7752114385,
                "y": -0.45732377065,
                "yshift": 15,
                "z": -0.4231601324
               },
               {
                "showarrow": false,
                "text": 1.1,
                "x": 0.2420587736,
                "y": 0.04839603165,
                "yshift": 15,
                "z": 0.5996128569
               },
               {
                "showarrow": false,
                "text": 1.09,
                "x": -1.31938817735,
                "y": -0.7930038388,
                "yshift": 15,
                "z": 2.793792872
               },
               {
                "showarrow": false,
                "text": 1.01,
                "x": -3.7534913975,
                "y": -1.3785259755,
                "yshift": 15,
                "z": 0.9715578115
               },
               {
                "showarrow": false,
                "text": 1.08,
                "x": -3.735626691,
                "y": -1.0777772201,
                "yshift": 15,
                "z": -0.95610389805
               },
               {
                "showarrow": false,
                "text": 1.09,
                "x": 0.59851834205,
                "y": 1.75201873,
                "yshift": 15,
                "z": -0.3623559748
               },
               {
                "showarrow": false,
                "text": 1.1,
                "x": -0.17924500455,
                "y": 1.9069038565,
                "yshift": 15,
                "z": 0.0343728217
               },
               {
                "showarrow": false,
                "text": 1.1,
                "x": 0.29576362395,
                "y": -0.1930975388,
                "yshift": 15,
                "z": -0.24283549815
               },
               {
                "showarrow": false,
                "text": 1.1,
                "x": -1.881612788,
                "y": -1.4677936615,
                "yshift": 15,
                "z": 2.876446996
               },
               {
                "showarrow": false,
                "text": 1.09,
                "x": -0.1605067367,
                "y": 1.6486627995,
                "yshift": 15,
                "z": -0.8110268377
               },
               {
                "showarrow": false,
                "text": 1.1,
                "x": -2.163158745,
                "y": -0.6388755246,
                "yshift": 15,
                "z": 2.99968164
               }
              ]
             }
            ],
            "label": "Bond lengths",
            "method": "relayout"
           },
           {
            "args": [
             {
              "scene.annotations": [
               {
                "font": {
                 "color": "blue"
                },
                "showarrow": false,
                "text": 0,
                "x": 0.0790916631,
                "y": 1.5835524769999998,
                "yshift": 15,
                "z": -0.32405345739999997
               },
               {
                "font": {
                 "color": "blue"
                },
                "showarrow": false,
                "text": 1,
                "x": 0.0050567714,
                "y": 0.1106778142,
                "yshift": 15,
                "z": 0.1095455248
               },
               {
                "font": {
                 "color": "blue"
                },
                "showarrow": false,
                "text": 2,
                "x": -1.3986467880000002,
                "y": -0.4114294653,
                "yshift": 15,
                "z": 0.1556100732
               },
               {
                "font": {
                 "color": "blue"
                },
                "showarrow": false,
                "text": 3,
                "x": -2.13322865,
                "y": -0.8386078103,
                "yshift": 15,
                "z": 1.2379964970000001
               },
               {
                "font": {
                 "color": "blue"
                },
                "showarrow": false,
                "text": 4,
                "x": -1.832048558,
                "y": -0.952507682,
                "yshift": 15,
                "z": 2.69463834
               },
               {
                "font": {
                 "color": "blue"
                },
                "showarrow": false,
                "text": 5,
                "x": -3.362442675,
                "y": -1.1979655809999998,
                "yshift": 15,
                "z": 0.711510153
               },
               {
                "font": {
                 "color": "blue"
                },
                "showarrow": false,
                "text": 6,
                "x": -3.3157007989999996,
                "y": -0.9756260652,
                "yshift": 15,
                "z": -0.6321740241
               },
               {
                "font": {
                 "color": "blue"
                },
                "showarrow": false,
                "text": 7,
                "x": -2.151776089,
                "y": -0.503218076,
                "yshift": 15,
                "z": -1.001930338
               },
               {
                "font": {
                 "color": "blue"
                },
                "showarrow": false,
                "text": 8,
                "x": 1.117945021,
                "y": 1.9204849830000001,
                "yshift": 15,
                "z": -0.4006584922
               },
               {
                "font": {
                 "color": "blue"
                },
                "showarrow": false,
                "text": 9,
                "x": -0.40010513649999996,
                "y": 1.7137731219999999,
                "yshift": 15,
                "z": -1.2980002179999999
               },
               {
                "font": {
                 "color": "blue"
                },
                "showarrow": false,
                "text": 10,
                "x": -0.4375816722,
                "y": 2.230255236,
                "yshift": 15,
                "z": 0.39279910079999997
               },
               {
                "font": {
                 "color": "blue"
                },
                "showarrow": false,
                "text": 11,
                "x": 0.5864704765,
                "y": -0.4968728918,
                "yshift": 15,
                "z": -0.5952165211
               },
               {
                "font": {
                 "color": "blue"
                },
                "showarrow": false,
                "text": 12,
                "x": 0.4790607758,
                "y": -0.0138857509,
                "yshift": 15,
                "z": 1.089680189
               },
               {
                "font": {
                 "color": "blue"
                },
                "showarrow": false,
                "text": 13,
                "x": -2.4942689319999998,
                "y": -0.32524336719999997,
                "yshift": 15,
                "z": 3.30472494
               },
               {
                "font": {
                 "color": "blue"
                },
                "showarrow": false,
                "text": 14,
                "x": -1.931177018,
                "y": -1.983079641,
                "yshift": 15,
                "z": 3.0582556519999997
               },
               {
                "font": {
                 "color": "blue"
                },
                "showarrow": false,
                "text": 15,
                "x": -0.8067277967,
                "y": -0.6334999956,
                "yshift": 15,
                "z": 2.8929474039999996
               },
               {
                "font": {
                 "color": "blue"
                },
                "showarrow": false,
                "text": 16,
                "x": -4.14454012,
                "y": -1.55908637,
                "yshift": 15,
                "z": 1.23160547
               },
               {
                "font": {
                 "color": "blue"
                },
                "showarrow": false,
                "text": 17,
                "x": -4.155552583,
                "y": -1.179928375,
                "yshift": 15,
                "z": -1.2800337720000001
               },
               {
                "showarrow": false,
                "text": 1.54,
                "x": 0.04207421725,
                "y": 0.8471151456,
                "yshift": 15,
                "z": -0.1072539663
               },
               {
                "showarrow": false,
                "text": 1.5,
                "x": -0.6967950083,
                "y": -0.15037582555,
                "yshift": 15,
                "z": 0.132577799
               },
               {
                "showarrow": false,
                "text": 1.38,
                "x": -1.765937719,
                "y": -0.6250186378,
                "yshift": 15,
                "z": 0.6968032851
               },
               {
                "showarrow": false,
                "text": 1.49,
                "x": -1.982638604,
                "y": -0.89555774615,
                "yshift": 15,
                "z": 1.9663174185
               },
               {
                "showarrow": false,
                "text": 1.36,
                "x": -3.339071737,
                "y": -1.0867958231,
                "yshift": 15,
                "z": 0.03966806445
               },
               {
                "showarrow": false,
                "text": 1.31,
                "x": -2.733738444,
                "y": -0.7394220706,
                "yshift": 15,
                "z": -0.81705218105
               },
               {
                "showarrow": false,
                "text": 1.38,
                "x": -2.7478356625,
                "y": -1.01828669565,
                "yshift": 15,
                "z": 0.974753325
               },
               {
                "showarrow": false,
                "text": 1.38,
                "x": -1.7752114385,
                "y": -0.45732377065,
                "yshift": 15,
                "z": -0.4231601324
               },
               {
                "showarrow": false,
                "text": 1.1,
                "x": 0.2420587736,
                "y": 0.04839603165,
                "yshift": 15,
                "z": 0.5996128569
               },
               {
                "showarrow": false,
                "text": 1.09,
                "x": -1.31938817735,
                "y": -0.7930038388,
                "yshift": 15,
                "z": 2.793792872
               },
               {
                "showarrow": false,
                "text": 1.01,
                "x": -3.7534913975,
                "y": -1.3785259755,
                "yshift": 15,
                "z": 0.9715578115
               },
               {
                "showarrow": false,
                "text": 1.08,
                "x": -3.735626691,
                "y": -1.0777772201,
                "yshift": 15,
                "z": -0.95610389805
               },
               {
                "showarrow": false,
                "text": 1.09,
                "x": 0.59851834205,
                "y": 1.75201873,
                "yshift": 15,
                "z": -0.3623559748
               },
               {
                "showarrow": false,
                "text": 1.1,
                "x": -0.17924500455,
                "y": 1.9069038565,
                "yshift": 15,
                "z": 0.0343728217
               },
               {
                "showarrow": false,
                "text": 1.1,
                "x": 0.29576362395,
                "y": -0.1930975388,
                "yshift": 15,
                "z": -0.24283549815
               },
               {
                "showarrow": false,
                "text": 1.1,
                "x": -1.881612788,
                "y": -1.4677936615,
                "yshift": 15,
                "z": 2.876446996
               },
               {
                "showarrow": false,
                "text": 1.09,
                "x": -0.1605067367,
                "y": 1.6486627995,
                "yshift": 15,
                "z": -0.8110268377
               },
               {
                "showarrow": false,
                "text": 1.1,
                "x": -2.163158745,
                "y": -0.6388755246,
                "yshift": 15,
                "z": 2.99968164
               }
              ]
             }
            ],
            "label": "Atom indices & Bond lengths",
            "method": "relayout"
           },
           {
            "args": [
             {
              "scene.annotations": []
             }
            ],
            "label": "Hide all",
            "method": "relayout"
           }
          ],
          "direction": "down",
          "xanchor": "left",
          "yanchor": "top"
         }
        ]
       }
      },
      "text/html": [
       "<div>\n",
       "        \n",
       "        \n",
       "            <div id=\"c69b239a-5007-4747-9ebf-4309f6a7f0b6\" class=\"plotly-graph-div\" style=\"height:525px; width:100%;\"></div>\n",
       "            <script type=\"text/javascript\">\n",
       "                require([\"plotly\"], function(Plotly) {\n",
       "                    window.PLOTLYENV=window.PLOTLYENV || {};\n",
       "                    \n",
       "                if (document.getElementById(\"c69b239a-5007-4747-9ebf-4309f6a7f0b6\")) {\n",
       "                    Plotly.newPlot(\n",
       "                        'c69b239a-5007-4747-9ebf-4309f6a7f0b6',\n",
       "                        [{\"marker\": {\"color\": [\"black\", \"black\", \"black\", \"black\", \"black\", \"blue\", \"black\", \"blue\", \"white\", \"white\", \"white\", \"white\", \"white\", \"white\", \"white\", \"white\", \"white\", \"white\"], \"line\": {\"color\": \"lightgray\", \"width\": 2}, \"opacity\": 0.8, \"size\": 7, \"symbol\": \"circle\"}, \"mode\": \"markers\", \"name\": \"\", \"text\": [\"C\", \"C\", \"C\", \"C\", \"C\", \"N\", \"C\", \"N\", \"H\", \"H\", \"H\", \"H\", \"H\", \"H\", \"H\", \"H\", \"H\", \"H\"], \"type\": \"scatter3d\", \"x\": [0.0790916631, 0.0050567714, -1.3986467880000002, -2.13322865, -1.832048558, -3.362442675, -3.3157007989999996, -2.151776089, 1.117945021, -0.40010513649999996, -0.4375816722, 0.5864704765, 0.4790607758, -2.4942689319999998, -1.931177018, -0.8067277967, -4.14454012, -4.155552583], \"y\": [1.5835524769999998, 0.1106778142, -0.4114294653, -0.8386078103, -0.952507682, -1.1979655809999998, -0.9756260652, -0.503218076, 1.9204849830000001, 1.7137731219999999, 2.230255236, -0.4968728918, -0.0138857509, -0.32524336719999997, -1.983079641, -0.6334999956, -1.55908637, -1.179928375], \"z\": [-0.32405345739999997, 0.1095455248, 0.1556100732, 1.2379964970000001, 2.69463834, 0.711510153, -0.6321740241, -1.001930338, -0.4006584922, -1.2980002179999999, 0.39279910079999997, -0.5952165211, 1.089680189, 3.30472494, 3.0582556519999997, 2.8929474039999996, 1.23160547, -1.2800337720000001]}, {\"hoverinfo\": \"none\", \"marker\": {\"color\": \"grey\", \"opacity\": 1, \"size\": 7}, \"mode\": \"lines\", \"type\": \"scatter3d\", \"x\": [0.0790916631, 0.0050567714, null, 0.0050567714, -1.3986467880000002, null, -1.3986467880000002, -2.13322865, null, -2.13322865, -1.832048558, null, -3.362442675, -3.3157007989999996, null, -3.3157007989999996, -2.151776089, null, -2.13322865, -3.362442675, null, -1.3986467880000002, -2.151776089, null, 0.0050567714, 0.4790607758, null, -1.832048558, -0.8067277967, null, -4.14454012, -3.362442675, null, -4.155552583, -3.3157007989999996, null, 0.0790916631, 1.117945021, null, 0.0790916631, -0.4375816722, null, 0.0050567714, 0.5864704765, null, -1.832048558, -1.931177018, null, 0.0790916631, -0.40010513649999996, null, -1.832048558, -2.4942689319999998, null], \"y\": [1.5835524769999998, 0.1106778142, null, 0.1106778142, -0.4114294653, null, -0.4114294653, -0.8386078103, null, -0.8386078103, -0.952507682, null, -1.1979655809999998, -0.9756260652, null, -0.9756260652, -0.503218076, null, -0.8386078103, -1.1979655809999998, null, -0.4114294653, -0.503218076, null, 0.1106778142, -0.0138857509, null, -0.952507682, -0.6334999956, null, -1.55908637, -1.1979655809999998, null, -1.179928375, -0.9756260652, null, 1.5835524769999998, 1.9204849830000001, null, 1.5835524769999998, 2.230255236, null, 0.1106778142, -0.4968728918, null, -0.952507682, -1.983079641, null, 1.5835524769999998, 1.7137731219999999, null, -0.952507682, -0.32524336719999997, null], \"z\": [-0.32405345739999997, 0.1095455248, null, 0.1095455248, 0.1556100732, null, 0.1556100732, 1.2379964970000001, null, 1.2379964970000001, 2.69463834, null, 0.711510153, -0.6321740241, null, -0.6321740241, -1.001930338, null, 1.2379964970000001, 0.711510153, null, 0.1556100732, -1.001930338, null, 0.1095455248, 1.089680189, null, 2.69463834, 2.8929474039999996, null, 1.23160547, 0.711510153, null, -1.2800337720000001, -0.6321740241, null, -0.32405345739999997, -0.4006584922, null, -0.32405345739999997, 0.39279910079999997, null, 0.1095455248, -0.5952165211, null, 2.69463834, 3.0582556519999997, null, -0.32405345739999997, -1.2980002179999999, null, 2.69463834, 3.30472494, null]}],\n",
       "                        {\"margin\": {\"b\": 0, \"l\": 0, \"r\": 0, \"t\": 0}, \"scene\": {\"annotations\": [{\"font\": {\"color\": \"blue\"}, \"showarrow\": false, \"text\": \"0\", \"x\": 0.0790916631, \"y\": 1.5835524769999998, \"yshift\": 15, \"z\": -0.32405345739999997}, {\"font\": {\"color\": \"blue\"}, \"showarrow\": false, \"text\": \"1\", \"x\": 0.0050567714, \"y\": 0.1106778142, \"yshift\": 15, \"z\": 0.1095455248}, {\"font\": {\"color\": \"blue\"}, \"showarrow\": false, \"text\": \"2\", \"x\": -1.3986467880000002, \"y\": -0.4114294653, \"yshift\": 15, \"z\": 0.1556100732}, {\"font\": {\"color\": \"blue\"}, \"showarrow\": false, \"text\": \"3\", \"x\": -2.13322865, \"y\": -0.8386078103, \"yshift\": 15, \"z\": 1.2379964970000001}, {\"font\": {\"color\": \"blue\"}, \"showarrow\": false, \"text\": \"4\", \"x\": -1.832048558, \"y\": -0.952507682, \"yshift\": 15, \"z\": 2.69463834}, {\"font\": {\"color\": \"blue\"}, \"showarrow\": false, \"text\": \"5\", \"x\": -3.362442675, \"y\": -1.1979655809999998, \"yshift\": 15, \"z\": 0.711510153}, {\"font\": {\"color\": \"blue\"}, \"showarrow\": false, \"text\": \"6\", \"x\": -3.3157007989999996, \"y\": -0.9756260652, \"yshift\": 15, \"z\": -0.6321740241}, {\"font\": {\"color\": \"blue\"}, \"showarrow\": false, \"text\": \"7\", \"x\": -2.151776089, \"y\": -0.503218076, \"yshift\": 15, \"z\": -1.001930338}, {\"font\": {\"color\": \"blue\"}, \"showarrow\": false, \"text\": \"8\", \"x\": 1.117945021, \"y\": 1.9204849830000001, \"yshift\": 15, \"z\": -0.4006584922}, {\"font\": {\"color\": \"blue\"}, \"showarrow\": false, \"text\": \"9\", \"x\": -0.40010513649999996, \"y\": 1.7137731219999999, \"yshift\": 15, \"z\": -1.2980002179999999}, {\"font\": {\"color\": \"blue\"}, \"showarrow\": false, \"text\": \"10\", \"x\": -0.4375816722, \"y\": 2.230255236, \"yshift\": 15, \"z\": 0.39279910079999997}, {\"font\": {\"color\": \"blue\"}, \"showarrow\": false, \"text\": \"11\", \"x\": 0.5864704765, \"y\": -0.4968728918, \"yshift\": 15, \"z\": -0.5952165211}, {\"font\": {\"color\": \"blue\"}, \"showarrow\": false, \"text\": \"12\", \"x\": 0.4790607758, \"y\": -0.0138857509, \"yshift\": 15, \"z\": 1.089680189}, {\"font\": {\"color\": \"blue\"}, \"showarrow\": false, \"text\": \"13\", \"x\": -2.4942689319999998, \"y\": -0.32524336719999997, \"yshift\": 15, \"z\": 3.30472494}, {\"font\": {\"color\": \"blue\"}, \"showarrow\": false, \"text\": \"14\", \"x\": -1.931177018, \"y\": -1.983079641, \"yshift\": 15, \"z\": 3.0582556519999997}, {\"font\": {\"color\": \"blue\"}, \"showarrow\": false, \"text\": \"15\", \"x\": -0.8067277967, \"y\": -0.6334999956, \"yshift\": 15, \"z\": 2.8929474039999996}, {\"font\": {\"color\": \"blue\"}, \"showarrow\": false, \"text\": \"16\", \"x\": -4.14454012, \"y\": -1.55908637, \"yshift\": 15, \"z\": 1.23160547}, {\"font\": {\"color\": \"blue\"}, \"showarrow\": false, \"text\": \"17\", \"x\": -4.155552583, \"y\": -1.179928375, \"yshift\": 15, \"z\": -1.2800337720000001}], \"xaxis\": {\"showbackground\": false, \"showgrid\": false, \"showticklabels\": false, \"title\": {\"font\": {\"color\": \"white\"}}, \"zeroline\": false}, \"yaxis\": {\"showbackground\": false, \"showgrid\": false, \"showticklabels\": false, \"title\": {\"font\": {\"color\": \"white\"}}, \"zeroline\": false}, \"zaxis\": {\"showbackground\": false, \"showgrid\": false, \"showticklabels\": false, \"title\": {\"font\": {\"color\": \"white\"}}, \"zeroline\": false}}, \"showlegend\": false, \"template\": {\"data\": {\"bar\": [{\"error_x\": {\"color\": \"#2a3f5f\"}, \"error_y\": {\"color\": \"#2a3f5f\"}, \"marker\": {\"line\": {\"color\": \"#E5ECF6\", \"width\": 0.5}}, \"type\": \"bar\"}], \"barpolar\": [{\"marker\": {\"line\": {\"color\": \"#E5ECF6\", \"width\": 0.5}}, \"type\": \"barpolar\"}], \"carpet\": [{\"aaxis\": {\"endlinecolor\": \"#2a3f5f\", \"gridcolor\": \"white\", \"linecolor\": \"white\", \"minorgridcolor\": \"white\", \"startlinecolor\": \"#2a3f5f\"}, \"baxis\": {\"endlinecolor\": \"#2a3f5f\", \"gridcolor\": \"white\", \"linecolor\": \"white\", \"minorgridcolor\": \"white\", \"startlinecolor\": \"#2a3f5f\"}, \"type\": \"carpet\"}], \"choropleth\": [{\"colorbar\": {\"outlinewidth\": 0, \"ticks\": \"\"}, \"type\": \"choropleth\"}], \"contour\": [{\"colorbar\": {\"outlinewidth\": 0, \"ticks\": \"\"}, \"colorscale\": [[0.0, \"#0d0887\"], [0.1111111111111111, \"#46039f\"], [0.2222222222222222, \"#7201a8\"], [0.3333333333333333, \"#9c179e\"], [0.4444444444444444, \"#bd3786\"], [0.5555555555555556, \"#d8576b\"], [0.6666666666666666, \"#ed7953\"], [0.7777777777777778, \"#fb9f3a\"], [0.8888888888888888, \"#fdca26\"], [1.0, \"#f0f921\"]], \"type\": \"contour\"}], \"contourcarpet\": [{\"colorbar\": {\"outlinewidth\": 0, \"ticks\": \"\"}, \"type\": \"contourcarpet\"}], \"heatmap\": [{\"colorbar\": {\"outlinewidth\": 0, \"ticks\": \"\"}, \"colorscale\": [[0.0, \"#0d0887\"], [0.1111111111111111, \"#46039f\"], [0.2222222222222222, \"#7201a8\"], [0.3333333333333333, \"#9c179e\"], [0.4444444444444444, \"#bd3786\"], [0.5555555555555556, \"#d8576b\"], [0.6666666666666666, \"#ed7953\"], [0.7777777777777778, \"#fb9f3a\"], [0.8888888888888888, \"#fdca26\"], [1.0, \"#f0f921\"]], \"type\": \"heatmap\"}], \"heatmapgl\": [{\"colorbar\": {\"outlinewidth\": 0, \"ticks\": \"\"}, \"colorscale\": [[0.0, \"#0d0887\"], [0.1111111111111111, \"#46039f\"], [0.2222222222222222, \"#7201a8\"], [0.3333333333333333, \"#9c179e\"], [0.4444444444444444, \"#bd3786\"], [0.5555555555555556, \"#d8576b\"], [0.6666666666666666, \"#ed7953\"], [0.7777777777777778, \"#fb9f3a\"], [0.8888888888888888, \"#fdca26\"], [1.0, \"#f0f921\"]], \"type\": \"heatmapgl\"}], \"histogram\": [{\"marker\": {\"colorbar\": {\"outlinewidth\": 0, \"ticks\": \"\"}}, \"type\": \"histogram\"}], \"histogram2d\": [{\"colorbar\": {\"outlinewidth\": 0, \"ticks\": \"\"}, \"colorscale\": [[0.0, \"#0d0887\"], [0.1111111111111111, \"#46039f\"], [0.2222222222222222, \"#7201a8\"], [0.3333333333333333, \"#9c179e\"], [0.4444444444444444, \"#bd3786\"], [0.5555555555555556, \"#d8576b\"], [0.6666666666666666, \"#ed7953\"], [0.7777777777777778, \"#fb9f3a\"], [0.8888888888888888, \"#fdca26\"], [1.0, \"#f0f921\"]], \"type\": \"histogram2d\"}], \"histogram2dcontour\": [{\"colorbar\": {\"outlinewidth\": 0, \"ticks\": \"\"}, \"colorscale\": [[0.0, \"#0d0887\"], [0.1111111111111111, \"#46039f\"], [0.2222222222222222, \"#7201a8\"], [0.3333333333333333, \"#9c179e\"], [0.4444444444444444, \"#bd3786\"], [0.5555555555555556, \"#d8576b\"], [0.6666666666666666, \"#ed7953\"], [0.7777777777777778, \"#fb9f3a\"], [0.8888888888888888, \"#fdca26\"], [1.0, \"#f0f921\"]], \"type\": \"histogram2dcontour\"}], \"mesh3d\": [{\"colorbar\": {\"outlinewidth\": 0, \"ticks\": \"\"}, \"type\": \"mesh3d\"}], \"parcoords\": [{\"line\": {\"colorbar\": {\"outlinewidth\": 0, \"ticks\": \"\"}}, \"type\": \"parcoords\"}], \"scatter\": [{\"marker\": {\"colorbar\": {\"outlinewidth\": 0, \"ticks\": \"\"}}, \"type\": \"scatter\"}], \"scatter3d\": [{\"line\": {\"colorbar\": {\"outlinewidth\": 0, \"ticks\": \"\"}}, \"marker\": {\"colorbar\": {\"outlinewidth\": 0, \"ticks\": \"\"}}, \"type\": \"scatter3d\"}], \"scattercarpet\": [{\"marker\": {\"colorbar\": {\"outlinewidth\": 0, \"ticks\": \"\"}}, \"type\": \"scattercarpet\"}], \"scattergeo\": [{\"marker\": {\"colorbar\": {\"outlinewidth\": 0, \"ticks\": \"\"}}, \"type\": \"scattergeo\"}], \"scattergl\": [{\"marker\": {\"colorbar\": {\"outlinewidth\": 0, \"ticks\": \"\"}}, \"type\": \"scattergl\"}], \"scattermapbox\": [{\"marker\": {\"colorbar\": {\"outlinewidth\": 0, \"ticks\": \"\"}}, \"type\": \"scattermapbox\"}], \"scatterpolar\": [{\"marker\": {\"colorbar\": {\"outlinewidth\": 0, \"ticks\": \"\"}}, \"type\": \"scatterpolar\"}], \"scatterpolargl\": [{\"marker\": {\"colorbar\": {\"outlinewidth\": 0, \"ticks\": \"\"}}, \"type\": \"scatterpolargl\"}], \"scatterternary\": [{\"marker\": {\"colorbar\": {\"outlinewidth\": 0, \"ticks\": \"\"}}, \"type\": \"scatterternary\"}], \"surface\": [{\"colorbar\": {\"outlinewidth\": 0, \"ticks\": \"\"}, \"colorscale\": [[0.0, \"#0d0887\"], [0.1111111111111111, \"#46039f\"], [0.2222222222222222, \"#7201a8\"], [0.3333333333333333, \"#9c179e\"], [0.4444444444444444, \"#bd3786\"], [0.5555555555555556, \"#d8576b\"], [0.6666666666666666, \"#ed7953\"], [0.7777777777777778, \"#fb9f3a\"], [0.8888888888888888, \"#fdca26\"], [1.0, \"#f0f921\"]], \"type\": \"surface\"}], \"table\": [{\"cells\": {\"fill\": {\"color\": \"#EBF0F8\"}, \"line\": {\"color\": \"white\"}}, \"header\": {\"fill\": {\"color\": \"#C8D4E3\"}, \"line\": {\"color\": \"white\"}}, \"type\": \"table\"}]}, \"layout\": {\"annotationdefaults\": {\"arrowcolor\": \"#2a3f5f\", \"arrowhead\": 0, \"arrowwidth\": 1}, \"colorscale\": {\"diverging\": [[0, \"#8e0152\"], [0.1, \"#c51b7d\"], [0.2, \"#de77ae\"], [0.3, \"#f1b6da\"], [0.4, \"#fde0ef\"], [0.5, \"#f7f7f7\"], [0.6, \"#e6f5d0\"], [0.7, \"#b8e186\"], [0.8, \"#7fbc41\"], [0.9, \"#4d9221\"], [1, \"#276419\"]], \"sequential\": [[0.0, \"#0d0887\"], [0.1111111111111111, \"#46039f\"], [0.2222222222222222, \"#7201a8\"], [0.3333333333333333, \"#9c179e\"], [0.4444444444444444, \"#bd3786\"], [0.5555555555555556, \"#d8576b\"], [0.6666666666666666, \"#ed7953\"], [0.7777777777777778, \"#fb9f3a\"], [0.8888888888888888, \"#fdca26\"], [1.0, \"#f0f921\"]], \"sequentialminus\": [[0.0, \"#0d0887\"], [0.1111111111111111, \"#46039f\"], [0.2222222222222222, \"#7201a8\"], [0.3333333333333333, \"#9c179e\"], [0.4444444444444444, \"#bd3786\"], [0.5555555555555556, \"#d8576b\"], [0.6666666666666666, \"#ed7953\"], [0.7777777777777778, \"#fb9f3a\"], [0.8888888888888888, \"#fdca26\"], [1.0, \"#f0f921\"]]}, \"colorway\": [\"#636efa\", \"#EF553B\", \"#00cc96\", \"#ab63fa\", \"#FFA15A\", \"#19d3f3\", \"#FF6692\", \"#B6E880\", \"#FF97FF\", \"#FECB52\"], \"font\": {\"color\": \"#2a3f5f\"}, \"geo\": {\"bgcolor\": \"white\", \"lakecolor\": \"white\", \"landcolor\": \"#E5ECF6\", \"showlakes\": true, \"showland\": true, \"subunitcolor\": \"white\"}, \"hoverlabel\": {\"align\": \"left\"}, \"hovermode\": \"closest\", \"mapbox\": {\"style\": \"light\"}, \"paper_bgcolor\": \"white\", \"plot_bgcolor\": \"#E5ECF6\", \"polar\": {\"angularaxis\": {\"gridcolor\": \"white\", \"linecolor\": \"white\", \"ticks\": \"\"}, \"bgcolor\": \"#E5ECF6\", \"radialaxis\": {\"gridcolor\": \"white\", \"linecolor\": \"white\", \"ticks\": \"\"}}, \"scene\": {\"xaxis\": {\"backgroundcolor\": \"#E5ECF6\", \"gridcolor\": \"white\", \"gridwidth\": 2, \"linecolor\": \"white\", \"showbackground\": true, \"ticks\": \"\", \"zerolinecolor\": \"white\"}, \"yaxis\": {\"backgroundcolor\": \"#E5ECF6\", \"gridcolor\": \"white\", \"gridwidth\": 2, \"linecolor\": \"white\", \"showbackground\": true, \"ticks\": \"\", \"zerolinecolor\": \"white\"}, \"zaxis\": {\"backgroundcolor\": \"#E5ECF6\", \"gridcolor\": \"white\", \"gridwidth\": 2, \"linecolor\": \"white\", \"showbackground\": true, \"ticks\": \"\", \"zerolinecolor\": \"white\"}}, \"shapedefaults\": {\"line\": {\"color\": \"#2a3f5f\"}}, \"ternary\": {\"aaxis\": {\"gridcolor\": \"white\", \"linecolor\": \"white\", \"ticks\": \"\"}, \"baxis\": {\"gridcolor\": \"white\", \"linecolor\": \"white\", \"ticks\": \"\"}, \"bgcolor\": \"#E5ECF6\", \"caxis\": {\"gridcolor\": \"white\", \"linecolor\": \"white\", \"ticks\": \"\"}}, \"title\": {\"x\": 0.05}, \"xaxis\": {\"automargin\": true, \"gridcolor\": \"white\", \"linecolor\": \"white\", \"ticks\": \"\", \"zerolinecolor\": \"white\", \"zerolinewidth\": 2}, \"yaxis\": {\"automargin\": true, \"gridcolor\": \"white\", \"linecolor\": \"white\", \"ticks\": \"\", \"zerolinecolor\": \"white\", \"zerolinewidth\": 2}}}, \"updatemenus\": [{\"buttons\": [{\"args\": [{\"scene.annotations\": [{\"font\": {\"color\": \"blue\"}, \"showarrow\": false, \"text\": 0, \"x\": 0.0790916631, \"y\": 1.5835524769999998, \"yshift\": 15, \"z\": -0.32405345739999997}, {\"font\": {\"color\": \"blue\"}, \"showarrow\": false, \"text\": 1, \"x\": 0.0050567714, \"y\": 0.1106778142, \"yshift\": 15, \"z\": 0.1095455248}, {\"font\": {\"color\": \"blue\"}, \"showarrow\": false, \"text\": 2, \"x\": -1.3986467880000002, \"y\": -0.4114294653, \"yshift\": 15, \"z\": 0.1556100732}, {\"font\": {\"color\": \"blue\"}, \"showarrow\": false, \"text\": 3, \"x\": -2.13322865, \"y\": -0.8386078103, \"yshift\": 15, \"z\": 1.2379964970000001}, {\"font\": {\"color\": \"blue\"}, \"showarrow\": false, \"text\": 4, \"x\": -1.832048558, \"y\": -0.952507682, \"yshift\": 15, \"z\": 2.69463834}, {\"font\": {\"color\": \"blue\"}, \"showarrow\": false, \"text\": 5, \"x\": -3.362442675, \"y\": -1.1979655809999998, \"yshift\": 15, \"z\": 0.711510153}, {\"font\": {\"color\": \"blue\"}, \"showarrow\": false, \"text\": 6, \"x\": -3.3157007989999996, \"y\": -0.9756260652, \"yshift\": 15, \"z\": -0.6321740241}, {\"font\": {\"color\": \"blue\"}, \"showarrow\": false, \"text\": 7, \"x\": -2.151776089, \"y\": -0.503218076, \"yshift\": 15, \"z\": -1.001930338}, {\"font\": {\"color\": \"blue\"}, \"showarrow\": false, \"text\": 8, \"x\": 1.117945021, \"y\": 1.9204849830000001, \"yshift\": 15, \"z\": -0.4006584922}, {\"font\": {\"color\": \"blue\"}, \"showarrow\": false, \"text\": 9, \"x\": -0.40010513649999996, \"y\": 1.7137731219999999, \"yshift\": 15, \"z\": -1.2980002179999999}, {\"font\": {\"color\": \"blue\"}, \"showarrow\": false, \"text\": 10, \"x\": -0.4375816722, \"y\": 2.230255236, \"yshift\": 15, \"z\": 0.39279910079999997}, {\"font\": {\"color\": \"blue\"}, \"showarrow\": false, \"text\": 11, \"x\": 0.5864704765, \"y\": -0.4968728918, \"yshift\": 15, \"z\": -0.5952165211}, {\"font\": {\"color\": \"blue\"}, \"showarrow\": false, \"text\": 12, \"x\": 0.4790607758, \"y\": -0.0138857509, \"yshift\": 15, \"z\": 1.089680189}, {\"font\": {\"color\": \"blue\"}, \"showarrow\": false, \"text\": 13, \"x\": -2.4942689319999998, \"y\": -0.32524336719999997, \"yshift\": 15, \"z\": 3.30472494}, {\"font\": {\"color\": \"blue\"}, \"showarrow\": false, \"text\": 14, \"x\": -1.931177018, \"y\": -1.983079641, \"yshift\": 15, \"z\": 3.0582556519999997}, {\"font\": {\"color\": \"blue\"}, \"showarrow\": false, \"text\": 15, \"x\": -0.8067277967, \"y\": -0.6334999956, \"yshift\": 15, \"z\": 2.8929474039999996}, {\"font\": {\"color\": \"blue\"}, \"showarrow\": false, \"text\": 16, \"x\": -4.14454012, \"y\": -1.55908637, \"yshift\": 15, \"z\": 1.23160547}, {\"font\": {\"color\": \"blue\"}, \"showarrow\": false, \"text\": 17, \"x\": -4.155552583, \"y\": -1.179928375, \"yshift\": 15, \"z\": -1.2800337720000001}]}], \"label\": \"Atom indices\", \"method\": \"relayout\"}, {\"args\": [{\"scene.annotations\": [{\"showarrow\": false, \"text\": 1.54, \"x\": 0.04207421725, \"y\": 0.8471151456, \"yshift\": 15, \"z\": -0.1072539663}, {\"showarrow\": false, \"text\": 1.5, \"x\": -0.6967950083, \"y\": -0.15037582555, \"yshift\": 15, \"z\": 0.132577799}, {\"showarrow\": false, \"text\": 1.38, \"x\": -1.765937719, \"y\": -0.6250186378, \"yshift\": 15, \"z\": 0.6968032851}, {\"showarrow\": false, \"text\": 1.49, \"x\": -1.982638604, \"y\": -0.89555774615, \"yshift\": 15, \"z\": 1.9663174185}, {\"showarrow\": false, \"text\": 1.36, \"x\": -3.339071737, \"y\": -1.0867958231, \"yshift\": 15, \"z\": 0.03966806445}, {\"showarrow\": false, \"text\": 1.31, \"x\": -2.733738444, \"y\": -0.7394220706, \"yshift\": 15, \"z\": -0.81705218105}, {\"showarrow\": false, \"text\": 1.38, \"x\": -2.7478356625, \"y\": -1.01828669565, \"yshift\": 15, \"z\": 0.974753325}, {\"showarrow\": false, \"text\": 1.38, \"x\": -1.7752114385, \"y\": -0.45732377065, \"yshift\": 15, \"z\": -0.4231601324}, {\"showarrow\": false, \"text\": 1.1, \"x\": 0.2420587736, \"y\": 0.04839603165, \"yshift\": 15, \"z\": 0.5996128569}, {\"showarrow\": false, \"text\": 1.09, \"x\": -1.31938817735, \"y\": -0.7930038388, \"yshift\": 15, \"z\": 2.793792872}, {\"showarrow\": false, \"text\": 1.01, \"x\": -3.7534913975, \"y\": -1.3785259755, \"yshift\": 15, \"z\": 0.9715578115}, {\"showarrow\": false, \"text\": 1.08, \"x\": -3.735626691, \"y\": -1.0777772201, \"yshift\": 15, \"z\": -0.95610389805}, {\"showarrow\": false, \"text\": 1.09, \"x\": 0.59851834205, \"y\": 1.75201873, \"yshift\": 15, \"z\": -0.3623559748}, {\"showarrow\": false, \"text\": 1.1, \"x\": -0.17924500455, \"y\": 1.9069038565, \"yshift\": 15, \"z\": 0.0343728217}, {\"showarrow\": false, \"text\": 1.1, \"x\": 0.29576362395, \"y\": -0.1930975388, \"yshift\": 15, \"z\": -0.24283549815}, {\"showarrow\": false, \"text\": 1.1, \"x\": -1.881612788, \"y\": -1.4677936615, \"yshift\": 15, \"z\": 2.876446996}, {\"showarrow\": false, \"text\": 1.09, \"x\": -0.1605067367, \"y\": 1.6486627995, \"yshift\": 15, \"z\": -0.8110268377}, {\"showarrow\": false, \"text\": 1.1, \"x\": -2.163158745, \"y\": -0.6388755246, \"yshift\": 15, \"z\": 2.99968164}]}], \"label\": \"Bond lengths\", \"method\": \"relayout\"}, {\"args\": [{\"scene.annotations\": [{\"font\": {\"color\": \"blue\"}, \"showarrow\": false, \"text\": 0, \"x\": 0.0790916631, \"y\": 1.5835524769999998, \"yshift\": 15, \"z\": -0.32405345739999997}, {\"font\": {\"color\": \"blue\"}, \"showarrow\": false, \"text\": 1, \"x\": 0.0050567714, \"y\": 0.1106778142, \"yshift\": 15, \"z\": 0.1095455248}, {\"font\": {\"color\": \"blue\"}, \"showarrow\": false, \"text\": 2, \"x\": -1.3986467880000002, \"y\": -0.4114294653, \"yshift\": 15, \"z\": 0.1556100732}, {\"font\": {\"color\": \"blue\"}, \"showarrow\": false, \"text\": 3, \"x\": -2.13322865, \"y\": -0.8386078103, \"yshift\": 15, \"z\": 1.2379964970000001}, {\"font\": {\"color\": \"blue\"}, \"showarrow\": false, \"text\": 4, \"x\": -1.832048558, \"y\": -0.952507682, \"yshift\": 15, \"z\": 2.69463834}, {\"font\": {\"color\": \"blue\"}, \"showarrow\": false, \"text\": 5, \"x\": -3.362442675, \"y\": -1.1979655809999998, \"yshift\": 15, \"z\": 0.711510153}, {\"font\": {\"color\": \"blue\"}, \"showarrow\": false, \"text\": 6, \"x\": -3.3157007989999996, \"y\": -0.9756260652, \"yshift\": 15, \"z\": -0.6321740241}, {\"font\": {\"color\": \"blue\"}, \"showarrow\": false, \"text\": 7, \"x\": -2.151776089, \"y\": -0.503218076, \"yshift\": 15, \"z\": -1.001930338}, {\"font\": {\"color\": \"blue\"}, \"showarrow\": false, \"text\": 8, \"x\": 1.117945021, \"y\": 1.9204849830000001, \"yshift\": 15, \"z\": -0.4006584922}, {\"font\": {\"color\": \"blue\"}, \"showarrow\": false, \"text\": 9, \"x\": -0.40010513649999996, \"y\": 1.7137731219999999, \"yshift\": 15, \"z\": -1.2980002179999999}, {\"font\": {\"color\": \"blue\"}, \"showarrow\": false, \"text\": 10, \"x\": -0.4375816722, \"y\": 2.230255236, \"yshift\": 15, \"z\": 0.39279910079999997}, {\"font\": {\"color\": \"blue\"}, \"showarrow\": false, \"text\": 11, \"x\": 0.5864704765, \"y\": -0.4968728918, \"yshift\": 15, \"z\": -0.5952165211}, {\"font\": {\"color\": \"blue\"}, \"showarrow\": false, \"text\": 12, \"x\": 0.4790607758, \"y\": -0.0138857509, \"yshift\": 15, \"z\": 1.089680189}, {\"font\": {\"color\": \"blue\"}, \"showarrow\": false, \"text\": 13, \"x\": -2.4942689319999998, \"y\": -0.32524336719999997, \"yshift\": 15, \"z\": 3.30472494}, {\"font\": {\"color\": \"blue\"}, \"showarrow\": false, \"text\": 14, \"x\": -1.931177018, \"y\": -1.983079641, \"yshift\": 15, \"z\": 3.0582556519999997}, {\"font\": {\"color\": \"blue\"}, \"showarrow\": false, \"text\": 15, \"x\": -0.8067277967, \"y\": -0.6334999956, \"yshift\": 15, \"z\": 2.8929474039999996}, {\"font\": {\"color\": \"blue\"}, \"showarrow\": false, \"text\": 16, \"x\": -4.14454012, \"y\": -1.55908637, \"yshift\": 15, \"z\": 1.23160547}, {\"font\": {\"color\": \"blue\"}, \"showarrow\": false, \"text\": 17, \"x\": -4.155552583, \"y\": -1.179928375, \"yshift\": 15, \"z\": -1.2800337720000001}, {\"showarrow\": false, \"text\": 1.54, \"x\": 0.04207421725, \"y\": 0.8471151456, \"yshift\": 15, \"z\": -0.1072539663}, {\"showarrow\": false, \"text\": 1.5, \"x\": -0.6967950083, \"y\": -0.15037582555, \"yshift\": 15, \"z\": 0.132577799}, {\"showarrow\": false, \"text\": 1.38, \"x\": -1.765937719, \"y\": -0.6250186378, \"yshift\": 15, \"z\": 0.6968032851}, {\"showarrow\": false, \"text\": 1.49, \"x\": -1.982638604, \"y\": -0.89555774615, \"yshift\": 15, \"z\": 1.9663174185}, {\"showarrow\": false, \"text\": 1.36, \"x\": -3.339071737, \"y\": -1.0867958231, \"yshift\": 15, \"z\": 0.03966806445}, {\"showarrow\": false, \"text\": 1.31, \"x\": -2.733738444, \"y\": -0.7394220706, \"yshift\": 15, \"z\": -0.81705218105}, {\"showarrow\": false, \"text\": 1.38, \"x\": -2.7478356625, \"y\": -1.01828669565, \"yshift\": 15, \"z\": 0.974753325}, {\"showarrow\": false, \"text\": 1.38, \"x\": -1.7752114385, \"y\": -0.45732377065, \"yshift\": 15, \"z\": -0.4231601324}, {\"showarrow\": false, \"text\": 1.1, \"x\": 0.2420587736, \"y\": 0.04839603165, \"yshift\": 15, \"z\": 0.5996128569}, {\"showarrow\": false, \"text\": 1.09, \"x\": -1.31938817735, \"y\": -0.7930038388, \"yshift\": 15, \"z\": 2.793792872}, {\"showarrow\": false, \"text\": 1.01, \"x\": -3.7534913975, \"y\": -1.3785259755, \"yshift\": 15, \"z\": 0.9715578115}, {\"showarrow\": false, \"text\": 1.08, \"x\": -3.735626691, \"y\": -1.0777772201, \"yshift\": 15, \"z\": -0.95610389805}, {\"showarrow\": false, \"text\": 1.09, \"x\": 0.59851834205, \"y\": 1.75201873, \"yshift\": 15, \"z\": -0.3623559748}, {\"showarrow\": false, \"text\": 1.1, \"x\": -0.17924500455, \"y\": 1.9069038565, \"yshift\": 15, \"z\": 0.0343728217}, {\"showarrow\": false, \"text\": 1.1, \"x\": 0.29576362395, \"y\": -0.1930975388, \"yshift\": 15, \"z\": -0.24283549815}, {\"showarrow\": false, \"text\": 1.1, \"x\": -1.881612788, \"y\": -1.4677936615, \"yshift\": 15, \"z\": 2.876446996}, {\"showarrow\": false, \"text\": 1.09, \"x\": -0.1605067367, \"y\": 1.6486627995, \"yshift\": 15, \"z\": -0.8110268377}, {\"showarrow\": false, \"text\": 1.1, \"x\": -2.163158745, \"y\": -0.6388755246, \"yshift\": 15, \"z\": 2.99968164}]}], \"label\": \"Atom indices & Bond lengths\", \"method\": \"relayout\"}, {\"args\": [{\"scene.annotations\": []}], \"label\": \"Hide all\", \"method\": \"relayout\"}], \"direction\": \"down\", \"xanchor\": \"left\", \"yanchor\": \"top\"}]},\n",
       "                        {\"responsive\": true}\n",
       "                    ).then(function(){\n",
       "                            \n",
       "var gd = document.getElementById('c69b239a-5007-4747-9ebf-4309f6a7f0b6');\n",
       "var x = new MutationObserver(function (mutations, observer) {{\n",
       "        var display = window.getComputedStyle(gd).display;\n",
       "        if (!display || display === 'none') {{\n",
       "            console.log([gd, 'removed!']);\n",
       "            Plotly.purge(gd);\n",
       "            observer.disconnect();\n",
       "        }}\n",
       "}});\n",
       "\n",
       "// Listen for the removal of the full notebook cells\n",
       "var notebookContainer = gd.closest('#notebook-container');\n",
       "if (notebookContainer) {{\n",
       "    x.observe(notebookContainer, {childList: true});\n",
       "}}\n",
       "\n",
       "// Listen for the clearing of the current output cell\n",
       "var outputEl = gd.closest('.output');\n",
       "if (outputEl) {{\n",
       "    x.observe(outputEl, {childList: true});\n",
       "}}\n",
       "\n",
       "                        })\n",
       "                };\n",
       "                });\n",
       "            </script>\n",
       "        </div>"
      ]
     },
     "metadata": {},
     "output_type": "display_data"
    }
   ],
   "source": [
    "plot_molecule(mol_file.split('/')[-1].split('.')[0], struct)"
   ]
  },
  {
   "cell_type": "code",
   "execution_count": 63,
   "metadata": {},
   "outputs": [
    {
     "name": "stdout",
     "output_type": "stream",
     "text": [
      "0 ['1-bond | 9-0', '1-bond | 8-0', '1-bond | 0-1', '1-bond | 0-10']\n",
      "1 ['1-bond | 11-1', '1-bond | 0-1', '1-bond | 1-2', '1-bond | 1-12']\n",
      "2 ['1-bond | 7-2', '1-bond | 1-2', '2-bond | 2-3']\n",
      "3 ['2-bond | 2-3', '1-bond | 5-3', '1-bond | 3-4']\n",
      "4 ['1-bond | 3-4', '1-bond | 4-15', '1-bond | 4-14', '1-bond | 4-13']\n",
      "5 ['1-bond | 6-5', '1-bond | 5-16', '1-bond | 5-3']\n",
      "6 ['1-bond | 17-6', '2-bond | 7-6', '1-bond | 6-5']\n",
      "7 ['2-bond | 7-6', '1-bond | 7-2']\n",
      "8 ['1-bond | 8-0']\n",
      "9 ['1-bond | 9-0']\n",
      "10 ['1-bond | 0-10']\n",
      "11 ['1-bond | 11-1']\n",
      "12 ['1-bond | 1-12']\n",
      "13 ['1-bond | 4-13']\n",
      "14 ['1-bond | 4-14']\n",
      "15 ['1-bond | 4-15']\n",
      "16 ['1-bond | 5-16']\n",
      "17 ['1-bond | 17-6']\n",
      "CPU times: user 4.13 ms, sys: 5 µs, total: 4.14 ms\n",
      "Wall time: 3.3 ms\n"
     ]
    }
   ],
   "source": [
    "%%time\n",
    "for mol in readfile('xyz', mol_file):\n",
    "    for atm in mol:\n",
    "        ix = atm.idx - 1\n",
    "        bonds = []\n",
    "        for bond in OBAtomBondIter(atm.OBAtom):\n",
    "            beg_ix = bond.GetBeginAtomIdx() - 1\n",
    "            end_ix = bond.GetEndAtomIdx() - 1\n",
    "            bond_order = bond.GetBondOrder()\n",
    "            bonds.append(f'{bond_order:d}-bond | {beg_ix:d}-{end_ix:d}')\n",
    "        print(ix, bonds)"
   ]
  },
  {
   "cell_type": "code",
   "execution_count": null,
   "metadata": {},
   "outputs": [],
   "source": []
  }
 ],
 "metadata": {
  "kernelspec": {
   "display_name": "Python 3",
   "language": "python",
   "name": "python3"
  },
  "language_info": {
   "codemirror_mode": {
    "name": "ipython",
    "version": 3
   },
   "file_extension": ".py",
   "mimetype": "text/x-python",
   "name": "python",
   "nbconvert_exporter": "python",
   "pygments_lexer": "ipython3",
   "version": "3.7.3"
  }
 },
 "nbformat": 4,
 "nbformat_minor": 2
}
