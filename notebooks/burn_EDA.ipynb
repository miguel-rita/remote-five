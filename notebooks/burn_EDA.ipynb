{
 "cells": [
  {
   "cell_type": "code",
   "execution_count": 1,
   "metadata": {},
   "outputs": [],
   "source": [
    "import numpy as np\n",
    "import pandas as pd\n",
    "import tqdm, glob, gc\n",
    "from numba import jit\n",
    "from tqdm import tqdm_notebook\n",
    "from pybel import *\n",
    "from openbabel import *\n",
    "import plotly.graph_objs as go\n",
    "from plotly.offline import init_notebook_mode, iplot\n",
    "from sympy.geometry import Point3D"
   ]
  },
  {
   "cell_type": "code",
   "execution_count": 2,
   "metadata": {},
   "outputs": [
    {
     "data": {
      "text/html": [
       "        <script type=\"text/javascript\">\n",
       "        window.PlotlyConfig = {MathJaxConfig: 'local'};\n",
       "        if (window.MathJax) {MathJax.Hub.Config({SVG: {font: \"STIX-Web\"}});}\n",
       "        if (typeof require !== 'undefined') {\n",
       "        require.undef(\"plotly\");\n",
       "        requirejs.config({\n",
       "            paths: {\n",
       "                'plotly': ['https://cdn.plot.ly/plotly-latest.min']\n",
       "            }\n",
       "        });\n",
       "        require(['plotly'], function(Plotly) {\n",
       "            window._Plotly = Plotly;\n",
       "        });\n",
       "        }\n",
       "        </script>\n",
       "        "
      ]
     },
     "metadata": {},
     "output_type": "display_data"
    }
   ],
   "source": [
    "# initiate the plotly notebook mode\n",
    "init_notebook_mode(connected=True)\n",
    "\n",
    "\n",
    "def plot_molecule(molecule_name, structures_df):\n",
    "    \"\"\"Creates a 3D plot of the molecule\"\"\"\n",
    "    \n",
    "    atomic_radii = dict(C=0.77, F=0.71, H=0.38, N=0.75, O=0.73)  \n",
    "    cpk_colors = dict(C='black', F='green', H='white', N='blue', O='red')\n",
    "\n",
    "    molecule = structures_df[structures_df.molecule_name == molecule_name]\n",
    "    coordinates = molecule[['x', 'y', 'z']].values\n",
    "    x_coordinates = coordinates[:, 0]\n",
    "    y_coordinates = coordinates[:, 1]\n",
    "    z_coordinates = coordinates[:, 2]\n",
    "    elements = molecule.atom.tolist()\n",
    "    radii = [atomic_radii[element] for element in elements]\n",
    "    \n",
    "    def get_bonds():\n",
    "        \"\"\"Generates a set of bonds from atomic cartesian coordinates\"\"\"\n",
    "        ids = np.arange(coordinates.shape[0])\n",
    "        bonds = dict()\n",
    "        coordinates_compare, radii_compare, ids_compare = coordinates, radii, ids\n",
    "        \n",
    "        for _ in range(len(ids)):\n",
    "            coordinates_compare = np.roll(coordinates_compare, -1, axis=0)\n",
    "            radii_compare = np.roll(radii_compare, -1, axis=0)\n",
    "            ids_compare = np.roll(ids_compare, -1, axis=0)\n",
    "            distances = np.linalg.norm(coordinates - coordinates_compare, axis=1)\n",
    "            bond_distances = (radii + radii_compare) * 1.3\n",
    "            mask = np.logical_and(distances > 0.1, distances <  bond_distances)\n",
    "            distances = distances.round(2)\n",
    "            new_bonds = {frozenset([i, j]): dist for i, j, dist in zip(ids[mask], ids_compare[mask], distances[mask])}\n",
    "            bonds.update(new_bonds)\n",
    "        return bonds            \n",
    "            \n",
    "    def atom_trace():\n",
    "        \"\"\"Creates an atom trace for the plot\"\"\"\n",
    "        colors = [cpk_colors[element] for element in elements]\n",
    "        markers = dict(color=colors, line=dict(color='lightgray', width=2), size=7, symbol='circle', opacity=0.8)\n",
    "        trace = go.Scatter3d(x=x_coordinates, y=y_coordinates, z=z_coordinates, mode='markers', marker=markers,\n",
    "                             text=elements, name='')\n",
    "        return trace\n",
    "\n",
    "    def bond_trace():\n",
    "        \"\"\"\"Creates a bond trace for the plot\"\"\"\n",
    "        trace = go.Scatter3d(x=[], y=[], z=[], hoverinfo='none', mode='lines',\n",
    "                             marker=dict(color='grey', size=7, opacity=1))\n",
    "        for i, j in bonds.keys():\n",
    "            trace['x'] += (x_coordinates[i], x_coordinates[j], None)\n",
    "            trace['y'] += (y_coordinates[i], y_coordinates[j], None)\n",
    "            trace['z'] += (z_coordinates[i], z_coordinates[j], None)\n",
    "        return trace\n",
    "    \n",
    "    bonds = get_bonds()\n",
    "    \n",
    "    zipped = zip(range(len(elements)), x_coordinates, y_coordinates, z_coordinates)\n",
    "    annotations_id = [dict(text=num, x=x, y=y, z=z, showarrow=False, yshift=15, font = dict(color = \"blue\"))\n",
    "                   for num, x, y, z in zipped]\n",
    "    \n",
    "    annotations_length = []\n",
    "    for (i, j), dist in bonds.items():\n",
    "        p_i, p_j = Point3D(coordinates[i]), Point3D(coordinates[j])\n",
    "        p = p_i.midpoint(p_j)\n",
    "        annotation = dict(text=dist, x=float(p.x), y=float(p.y), z=float(p.z), showarrow=False, yshift=15)\n",
    "        annotations_length.append(annotation)   \n",
    "    \n",
    "    updatemenus = list([\n",
    "        dict(buttons=list([\n",
    "                 dict(label = 'Atom indices',\n",
    "                      method = 'relayout',\n",
    "                      args = [{'scene.annotations': annotations_id}]),\n",
    "                 dict(label = 'Bond lengths',\n",
    "                      method = 'relayout',\n",
    "                      args = [{'scene.annotations': annotations_length}]),\n",
    "                 dict(label = 'Atom indices & Bond lengths',\n",
    "                      method = 'relayout',\n",
    "                      args = [{'scene.annotations': annotations_id + annotations_length}]),\n",
    "                 dict(label = 'Hide all',\n",
    "                      method = 'relayout',\n",
    "                      args = [{'scene.annotations': []}])\n",
    "                 ]),\n",
    "                 direction='down',\n",
    "                 xanchor = 'left',\n",
    "                 yanchor = 'top'\n",
    "            ),        \n",
    "    ])\n",
    "    \n",
    "    data = [atom_trace(), bond_trace()]\n",
    "    axis_params = dict(showgrid=False, showbackground=False, showticklabels=False, zeroline=False, titlefont=dict(color='white'))\n",
    "    layout = dict(scene=dict(xaxis=axis_params, yaxis=axis_params, zaxis=axis_params, annotations=annotations_id), \n",
    "                  margin=dict(r=0, l=0, b=0, t=0), showlegend=False, updatemenus=updatemenus)\n",
    "\n",
    "    fig = go.Figure(data=data, layout=layout)\n",
    "    iplot(fig)"
   ]
  },
  {
   "cell_type": "markdown",
   "metadata": {},
   "source": [
    "# Read necessary files"
   ]
  },
  {
   "cell_type": "code",
   "execution_count": 3,
   "metadata": {},
   "outputs": [],
   "source": [
    "struct = pd.read_csv('../data/structures.csv')\n",
    "train = pd.read_csv('../data/train.csv')\n",
    "tes = pd.read_csv('../data/test.csv')"
   ]
  },
  {
   "cell_type": "code",
   "execution_count": 4,
   "metadata": {},
   "outputs": [
    {
     "data": {
      "text/html": [
       "<div>\n",
       "<style scoped>\n",
       "    .dataframe tbody tr th:only-of-type {\n",
       "        vertical-align: middle;\n",
       "    }\n",
       "\n",
       "    .dataframe tbody tr th {\n",
       "        vertical-align: top;\n",
       "    }\n",
       "\n",
       "    .dataframe thead th {\n",
       "        text-align: right;\n",
       "    }\n",
       "</style>\n",
       "<table border=\"1\" class=\"dataframe\">\n",
       "  <thead>\n",
       "    <tr style=\"text-align: right;\">\n",
       "      <th></th>\n",
       "      <th>molecule_name</th>\n",
       "      <th>atom_index</th>\n",
       "      <th>atom</th>\n",
       "      <th>x</th>\n",
       "      <th>y</th>\n",
       "      <th>z</th>\n",
       "    </tr>\n",
       "  </thead>\n",
       "  <tbody>\n",
       "    <tr>\n",
       "      <th>0</th>\n",
       "      <td>dsgdb9nsd_000001</td>\n",
       "      <td>0</td>\n",
       "      <td>C</td>\n",
       "      <td>-0.012698</td>\n",
       "      <td>1.085804</td>\n",
       "      <td>0.008001</td>\n",
       "    </tr>\n",
       "    <tr>\n",
       "      <th>1</th>\n",
       "      <td>dsgdb9nsd_000001</td>\n",
       "      <td>1</td>\n",
       "      <td>H</td>\n",
       "      <td>0.002150</td>\n",
       "      <td>-0.006031</td>\n",
       "      <td>0.001976</td>\n",
       "    </tr>\n",
       "    <tr>\n",
       "      <th>2</th>\n",
       "      <td>dsgdb9nsd_000001</td>\n",
       "      <td>2</td>\n",
       "      <td>H</td>\n",
       "      <td>1.011731</td>\n",
       "      <td>1.463751</td>\n",
       "      <td>0.000277</td>\n",
       "    </tr>\n",
       "  </tbody>\n",
       "</table>\n",
       "</div>"
      ],
      "text/plain": [
       "      molecule_name  atom_index atom         x         y         z\n",
       "0  dsgdb9nsd_000001           0    C -0.012698  1.085804  0.008001\n",
       "1  dsgdb9nsd_000001           1    H  0.002150 -0.006031  0.001976\n",
       "2  dsgdb9nsd_000001           2    H  1.011731  1.463751  0.000277"
      ]
     },
     "execution_count": 4,
     "metadata": {},
     "output_type": "execute_result"
    }
   ],
   "source": [
    "struct.head(3)"
   ]
  },
  {
   "cell_type": "code",
   "execution_count": 5,
   "metadata": {},
   "outputs": [
    {
     "data": {
      "text/html": [
       "<div>\n",
       "<style scoped>\n",
       "    .dataframe tbody tr th:only-of-type {\n",
       "        vertical-align: middle;\n",
       "    }\n",
       "\n",
       "    .dataframe tbody tr th {\n",
       "        vertical-align: top;\n",
       "    }\n",
       "\n",
       "    .dataframe thead th {\n",
       "        text-align: right;\n",
       "    }\n",
       "</style>\n",
       "<table border=\"1\" class=\"dataframe\">\n",
       "  <thead>\n",
       "    <tr style=\"text-align: right;\">\n",
       "      <th></th>\n",
       "      <th>id</th>\n",
       "      <th>molecule_name</th>\n",
       "      <th>atom_index_0</th>\n",
       "      <th>atom_index_1</th>\n",
       "      <th>type</th>\n",
       "      <th>scalar_coupling_constant</th>\n",
       "    </tr>\n",
       "  </thead>\n",
       "  <tbody>\n",
       "    <tr>\n",
       "      <th>0</th>\n",
       "      <td>0</td>\n",
       "      <td>dsgdb9nsd_000001</td>\n",
       "      <td>1</td>\n",
       "      <td>0</td>\n",
       "      <td>1JHC</td>\n",
       "      <td>84.8076</td>\n",
       "    </tr>\n",
       "    <tr>\n",
       "      <th>1</th>\n",
       "      <td>1</td>\n",
       "      <td>dsgdb9nsd_000001</td>\n",
       "      <td>1</td>\n",
       "      <td>2</td>\n",
       "      <td>2JHH</td>\n",
       "      <td>-11.2570</td>\n",
       "    </tr>\n",
       "    <tr>\n",
       "      <th>2</th>\n",
       "      <td>2</td>\n",
       "      <td>dsgdb9nsd_000001</td>\n",
       "      <td>1</td>\n",
       "      <td>3</td>\n",
       "      <td>2JHH</td>\n",
       "      <td>-11.2548</td>\n",
       "    </tr>\n",
       "  </tbody>\n",
       "</table>\n",
       "</div>"
      ],
      "text/plain": [
       "   id     molecule_name  atom_index_0  atom_index_1  type  \\\n",
       "0   0  dsgdb9nsd_000001             1             0  1JHC   \n",
       "1   1  dsgdb9nsd_000001             1             2  2JHH   \n",
       "2   2  dsgdb9nsd_000001             1             3  2JHH   \n",
       "\n",
       "   scalar_coupling_constant  \n",
       "0                   84.8076  \n",
       "1                  -11.2570  \n",
       "2                  -11.2548  "
      ]
     },
     "execution_count": 5,
     "metadata": {},
     "output_type": "execute_result"
    }
   ],
   "source": [
    "train.head(3)"
   ]
  },
  {
   "cell_type": "markdown",
   "metadata": {},
   "source": [
    "# Pybel MVP"
   ]
  },
  {
   "cell_type": "code",
   "execution_count": 6,
   "metadata": {},
   "outputs": [],
   "source": [
    "mol_file = '../data/structures/dsgdb9nsd_035567.xyz'"
   ]
  },
  {
   "cell_type": "code",
   "execution_count": 7,
   "metadata": {},
   "outputs": [
    {
     "data": {
      "application/vnd.plotly.v1+json": {
       "config": {
        "linkText": "Export to plot.ly",
        "plotlyServerURL": "https://plot.ly",
        "showLink": false
       },
       "data": [
        {
         "marker": {
          "color": [
           "black",
           "black",
           "black",
           "black",
           "black",
           "red",
           "black",
           "black",
           "black",
           "white",
           "white",
           "white",
           "white",
           "white",
           "white",
           "white",
           "white",
           "white",
           "white"
          ],
          "line": {
           "color": "lightgray",
           "width": 2
          },
          "opacity": 0.8,
          "size": 7,
          "symbol": "circle"
         },
         "mode": "markers",
         "name": "",
         "text": [
          "C",
          "C",
          "C",
          "C",
          "C",
          "O",
          "C",
          "C",
          "C",
          "H",
          "H",
          "H",
          "H",
          "H",
          "H",
          "H",
          "H",
          "H",
          "H"
         ],
         "type": "scatter3d",
         "x": [
          -0.38239974979999997,
          -0.2422790422,
          -0.048406284400000006,
          0.021807796400000003,
          1.3870833630000001,
          2.505971985,
          2.862274452,
          2.580494813,
          1.385281056,
          -0.5228651586,
          -0.7992209348999999,
          -0.7902302123999999,
          0.0977897477,
          1.4020135440000001,
          3.91212902,
          2.260216573,
          3.4362704510000004,
          2.3730796169999997,
          1.414655345
         ],
         "y": [
          -1.229992594,
          -0.0689343446,
          1.31971093,
          1.667970206,
          2.38058843,
          1.7873174269999998,
          0.6307285035,
          0.9930725840000001,
          1.94813651,
          -2.250838897,
          1.9324154040000001,
          2.304538949,
          0.7951963951000001,
          3.447064952,
          0.4099115245,
          -0.23790280879999998,
          1.522980582,
          0.1140448791,
          2.73712749
         ],
         "z": [
          -0.5503032606,
          -0.2655537186,
          0.0960822457,
          1.6227061580000002,
          1.4027505569999998,
          2.026731457,
          1.2713433379999999,
          -0.1970303562,
          -0.0982327949,
          -0.8067017183,
          -0.41182272600000003,
          1.979932745,
          2.27336947,
          1.636005739,
          1.4796543119999999,
          1.57722157,
          -0.6253831464,
          -0.81180425,
          -0.8500826611
         ]
        },
        {
         "hoverinfo": "none",
         "marker": {
          "color": "grey",
          "opacity": 1,
          "size": 7
         },
         "mode": "lines",
         "type": "scatter3d",
         "x": [
          -0.38239974979999997,
          -0.2422790422,
          null,
          -0.2422790422,
          -0.048406284400000006,
          null,
          -0.048406284400000006,
          0.021807796400000003,
          null,
          0.021807796400000003,
          1.3870833630000001,
          null,
          1.3870833630000001,
          2.505971985,
          null,
          2.505971985,
          2.862274452,
          null,
          2.862274452,
          2.580494813,
          null,
          1.385281056,
          2.580494813,
          null,
          1.385281056,
          1.3870833630000001,
          null,
          1.385281056,
          -0.048406284400000006,
          null,
          -0.048406284400000006,
          -0.7992209348999999,
          null,
          -0.7902302123999999,
          0.021807796400000003,
          null,
          2.862274452,
          3.91212902,
          null,
          -0.38239974979999997,
          -0.5228651586,
          null,
          0.021807796400000003,
          0.0977897477,
          null,
          1.3870833630000001,
          1.4020135440000001,
          null,
          2.862274452,
          2.260216573,
          null,
          3.4362704510000004,
          2.580494813,
          null,
          2.3730796169999997,
          2.580494813,
          null,
          1.385281056,
          1.414655345,
          null
         ],
         "y": [
          -1.229992594,
          -0.0689343446,
          null,
          -0.0689343446,
          1.31971093,
          null,
          1.31971093,
          1.667970206,
          null,
          1.667970206,
          2.38058843,
          null,
          2.38058843,
          1.7873174269999998,
          null,
          1.7873174269999998,
          0.6307285035,
          null,
          0.6307285035,
          0.9930725840000001,
          null,
          1.94813651,
          0.9930725840000001,
          null,
          1.94813651,
          2.38058843,
          null,
          1.94813651,
          1.31971093,
          null,
          1.31971093,
          1.9324154040000001,
          null,
          2.304538949,
          1.667970206,
          null,
          0.6307285035,
          0.4099115245,
          null,
          -1.229992594,
          -2.250838897,
          null,
          1.667970206,
          0.7951963951000001,
          null,
          2.38058843,
          3.447064952,
          null,
          0.6307285035,
          -0.23790280879999998,
          null,
          1.522980582,
          0.9930725840000001,
          null,
          0.1140448791,
          0.9930725840000001,
          null,
          1.94813651,
          2.73712749,
          null
         ],
         "z": [
          -0.5503032606,
          -0.2655537186,
          null,
          -0.2655537186,
          0.0960822457,
          null,
          0.0960822457,
          1.6227061580000002,
          null,
          1.6227061580000002,
          1.4027505569999998,
          null,
          1.4027505569999998,
          2.026731457,
          null,
          2.026731457,
          1.2713433379999999,
          null,
          1.2713433379999999,
          -0.1970303562,
          null,
          -0.0982327949,
          -0.1970303562,
          null,
          -0.0982327949,
          1.4027505569999998,
          null,
          -0.0982327949,
          0.0960822457,
          null,
          0.0960822457,
          -0.41182272600000003,
          null,
          1.979932745,
          1.6227061580000002,
          null,
          1.2713433379999999,
          1.4796543119999999,
          null,
          -0.5503032606,
          -0.8067017183,
          null,
          1.6227061580000002,
          2.27336947,
          null,
          1.4027505569999998,
          1.636005739,
          null,
          1.2713433379999999,
          1.57722157,
          null,
          -0.6253831464,
          -0.1970303562,
          null,
          -0.81180425,
          -0.1970303562,
          null,
          -0.0982327949,
          -0.8500826611,
          null
         ]
        }
       ],
       "layout": {
        "margin": {
         "b": 0,
         "l": 0,
         "r": 0,
         "t": 0
        },
        "scene": {
         "annotations": [
          {
           "font": {
            "color": "blue"
           },
           "showarrow": false,
           "text": "0",
           "x": -0.38239974979999997,
           "y": -1.229992594,
           "yshift": 15,
           "z": -0.5503032606
          },
          {
           "font": {
            "color": "blue"
           },
           "showarrow": false,
           "text": "1",
           "x": -0.2422790422,
           "y": -0.0689343446,
           "yshift": 15,
           "z": -0.2655537186
          },
          {
           "font": {
            "color": "blue"
           },
           "showarrow": false,
           "text": "2",
           "x": -0.048406284400000006,
           "y": 1.31971093,
           "yshift": 15,
           "z": 0.0960822457
          },
          {
           "font": {
            "color": "blue"
           },
           "showarrow": false,
           "text": "3",
           "x": 0.021807796400000003,
           "y": 1.667970206,
           "yshift": 15,
           "z": 1.6227061580000002
          },
          {
           "font": {
            "color": "blue"
           },
           "showarrow": false,
           "text": "4",
           "x": 1.3870833630000001,
           "y": 2.38058843,
           "yshift": 15,
           "z": 1.4027505569999998
          },
          {
           "font": {
            "color": "blue"
           },
           "showarrow": false,
           "text": "5",
           "x": 2.505971985,
           "y": 1.7873174269999998,
           "yshift": 15,
           "z": 2.026731457
          },
          {
           "font": {
            "color": "blue"
           },
           "showarrow": false,
           "text": "6",
           "x": 2.862274452,
           "y": 0.6307285035,
           "yshift": 15,
           "z": 1.2713433379999999
          },
          {
           "font": {
            "color": "blue"
           },
           "showarrow": false,
           "text": "7",
           "x": 2.580494813,
           "y": 0.9930725840000001,
           "yshift": 15,
           "z": -0.1970303562
          },
          {
           "font": {
            "color": "blue"
           },
           "showarrow": false,
           "text": "8",
           "x": 1.385281056,
           "y": 1.94813651,
           "yshift": 15,
           "z": -0.0982327949
          },
          {
           "font": {
            "color": "blue"
           },
           "showarrow": false,
           "text": "9",
           "x": -0.5228651586,
           "y": -2.250838897,
           "yshift": 15,
           "z": -0.8067017183
          },
          {
           "font": {
            "color": "blue"
           },
           "showarrow": false,
           "text": "10",
           "x": -0.7992209348999999,
           "y": 1.9324154040000001,
           "yshift": 15,
           "z": -0.41182272600000003
          },
          {
           "font": {
            "color": "blue"
           },
           "showarrow": false,
           "text": "11",
           "x": -0.7902302123999999,
           "y": 2.304538949,
           "yshift": 15,
           "z": 1.979932745
          },
          {
           "font": {
            "color": "blue"
           },
           "showarrow": false,
           "text": "12",
           "x": 0.0977897477,
           "y": 0.7951963951000001,
           "yshift": 15,
           "z": 2.27336947
          },
          {
           "font": {
            "color": "blue"
           },
           "showarrow": false,
           "text": "13",
           "x": 1.4020135440000001,
           "y": 3.447064952,
           "yshift": 15,
           "z": 1.636005739
          },
          {
           "font": {
            "color": "blue"
           },
           "showarrow": false,
           "text": "14",
           "x": 3.91212902,
           "y": 0.4099115245,
           "yshift": 15,
           "z": 1.4796543119999999
          },
          {
           "font": {
            "color": "blue"
           },
           "showarrow": false,
           "text": "15",
           "x": 2.260216573,
           "y": -0.23790280879999998,
           "yshift": 15,
           "z": 1.57722157
          },
          {
           "font": {
            "color": "blue"
           },
           "showarrow": false,
           "text": "16",
           "x": 3.4362704510000004,
           "y": 1.522980582,
           "yshift": 15,
           "z": -0.6253831464
          },
          {
           "font": {
            "color": "blue"
           },
           "showarrow": false,
           "text": "17",
           "x": 2.3730796169999997,
           "y": 0.1140448791,
           "yshift": 15,
           "z": -0.81180425
          },
          {
           "font": {
            "color": "blue"
           },
           "showarrow": false,
           "text": "18",
           "x": 1.414655345,
           "y": 2.73712749,
           "yshift": 15,
           "z": -0.8500826611
          }
         ],
         "xaxis": {
          "showbackground": false,
          "showgrid": false,
          "showticklabels": false,
          "title": {
           "font": {
            "color": "white"
           }
          },
          "zeroline": false
         },
         "yaxis": {
          "showbackground": false,
          "showgrid": false,
          "showticklabels": false,
          "title": {
           "font": {
            "color": "white"
           }
          },
          "zeroline": false
         },
         "zaxis": {
          "showbackground": false,
          "showgrid": false,
          "showticklabels": false,
          "title": {
           "font": {
            "color": "white"
           }
          },
          "zeroline": false
         }
        },
        "showlegend": false,
        "template": {
         "data": {
          "bar": [
           {
            "error_x": {
             "color": "#2a3f5f"
            },
            "error_y": {
             "color": "#2a3f5f"
            },
            "marker": {
             "line": {
              "color": "#E5ECF6",
              "width": 0.5
             }
            },
            "type": "bar"
           }
          ],
          "barpolar": [
           {
            "marker": {
             "line": {
              "color": "#E5ECF6",
              "width": 0.5
             }
            },
            "type": "barpolar"
           }
          ],
          "carpet": [
           {
            "aaxis": {
             "endlinecolor": "#2a3f5f",
             "gridcolor": "white",
             "linecolor": "white",
             "minorgridcolor": "white",
             "startlinecolor": "#2a3f5f"
            },
            "baxis": {
             "endlinecolor": "#2a3f5f",
             "gridcolor": "white",
             "linecolor": "white",
             "minorgridcolor": "white",
             "startlinecolor": "#2a3f5f"
            },
            "type": "carpet"
           }
          ],
          "choropleth": [
           {
            "colorbar": {
             "outlinewidth": 0,
             "ticks": ""
            },
            "type": "choropleth"
           }
          ],
          "contour": [
           {
            "colorbar": {
             "outlinewidth": 0,
             "ticks": ""
            },
            "colorscale": [
             [
              0,
              "#0d0887"
             ],
             [
              0.1111111111111111,
              "#46039f"
             ],
             [
              0.2222222222222222,
              "#7201a8"
             ],
             [
              0.3333333333333333,
              "#9c179e"
             ],
             [
              0.4444444444444444,
              "#bd3786"
             ],
             [
              0.5555555555555556,
              "#d8576b"
             ],
             [
              0.6666666666666666,
              "#ed7953"
             ],
             [
              0.7777777777777778,
              "#fb9f3a"
             ],
             [
              0.8888888888888888,
              "#fdca26"
             ],
             [
              1,
              "#f0f921"
             ]
            ],
            "type": "contour"
           }
          ],
          "contourcarpet": [
           {
            "colorbar": {
             "outlinewidth": 0,
             "ticks": ""
            },
            "type": "contourcarpet"
           }
          ],
          "heatmap": [
           {
            "colorbar": {
             "outlinewidth": 0,
             "ticks": ""
            },
            "colorscale": [
             [
              0,
              "#0d0887"
             ],
             [
              0.1111111111111111,
              "#46039f"
             ],
             [
              0.2222222222222222,
              "#7201a8"
             ],
             [
              0.3333333333333333,
              "#9c179e"
             ],
             [
              0.4444444444444444,
              "#bd3786"
             ],
             [
              0.5555555555555556,
              "#d8576b"
             ],
             [
              0.6666666666666666,
              "#ed7953"
             ],
             [
              0.7777777777777778,
              "#fb9f3a"
             ],
             [
              0.8888888888888888,
              "#fdca26"
             ],
             [
              1,
              "#f0f921"
             ]
            ],
            "type": "heatmap"
           }
          ],
          "heatmapgl": [
           {
            "colorbar": {
             "outlinewidth": 0,
             "ticks": ""
            },
            "colorscale": [
             [
              0,
              "#0d0887"
             ],
             [
              0.1111111111111111,
              "#46039f"
             ],
             [
              0.2222222222222222,
              "#7201a8"
             ],
             [
              0.3333333333333333,
              "#9c179e"
             ],
             [
              0.4444444444444444,
              "#bd3786"
             ],
             [
              0.5555555555555556,
              "#d8576b"
             ],
             [
              0.6666666666666666,
              "#ed7953"
             ],
             [
              0.7777777777777778,
              "#fb9f3a"
             ],
             [
              0.8888888888888888,
              "#fdca26"
             ],
             [
              1,
              "#f0f921"
             ]
            ],
            "type": "heatmapgl"
           }
          ],
          "histogram": [
           {
            "marker": {
             "colorbar": {
              "outlinewidth": 0,
              "ticks": ""
             }
            },
            "type": "histogram"
           }
          ],
          "histogram2d": [
           {
            "colorbar": {
             "outlinewidth": 0,
             "ticks": ""
            },
            "colorscale": [
             [
              0,
              "#0d0887"
             ],
             [
              0.1111111111111111,
              "#46039f"
             ],
             [
              0.2222222222222222,
              "#7201a8"
             ],
             [
              0.3333333333333333,
              "#9c179e"
             ],
             [
              0.4444444444444444,
              "#bd3786"
             ],
             [
              0.5555555555555556,
              "#d8576b"
             ],
             [
              0.6666666666666666,
              "#ed7953"
             ],
             [
              0.7777777777777778,
              "#fb9f3a"
             ],
             [
              0.8888888888888888,
              "#fdca26"
             ],
             [
              1,
              "#f0f921"
             ]
            ],
            "type": "histogram2d"
           }
          ],
          "histogram2dcontour": [
           {
            "colorbar": {
             "outlinewidth": 0,
             "ticks": ""
            },
            "colorscale": [
             [
              0,
              "#0d0887"
             ],
             [
              0.1111111111111111,
              "#46039f"
             ],
             [
              0.2222222222222222,
              "#7201a8"
             ],
             [
              0.3333333333333333,
              "#9c179e"
             ],
             [
              0.4444444444444444,
              "#bd3786"
             ],
             [
              0.5555555555555556,
              "#d8576b"
             ],
             [
              0.6666666666666666,
              "#ed7953"
             ],
             [
              0.7777777777777778,
              "#fb9f3a"
             ],
             [
              0.8888888888888888,
              "#fdca26"
             ],
             [
              1,
              "#f0f921"
             ]
            ],
            "type": "histogram2dcontour"
           }
          ],
          "mesh3d": [
           {
            "colorbar": {
             "outlinewidth": 0,
             "ticks": ""
            },
            "type": "mesh3d"
           }
          ],
          "parcoords": [
           {
            "line": {
             "colorbar": {
              "outlinewidth": 0,
              "ticks": ""
             }
            },
            "type": "parcoords"
           }
          ],
          "scatter": [
           {
            "marker": {
             "colorbar": {
              "outlinewidth": 0,
              "ticks": ""
             }
            },
            "type": "scatter"
           }
          ],
          "scatter3d": [
           {
            "line": {
             "colorbar": {
              "outlinewidth": 0,
              "ticks": ""
             }
            },
            "marker": {
             "colorbar": {
              "outlinewidth": 0,
              "ticks": ""
             }
            },
            "type": "scatter3d"
           }
          ],
          "scattercarpet": [
           {
            "marker": {
             "colorbar": {
              "outlinewidth": 0,
              "ticks": ""
             }
            },
            "type": "scattercarpet"
           }
          ],
          "scattergeo": [
           {
            "marker": {
             "colorbar": {
              "outlinewidth": 0,
              "ticks": ""
             }
            },
            "type": "scattergeo"
           }
          ],
          "scattergl": [
           {
            "marker": {
             "colorbar": {
              "outlinewidth": 0,
              "ticks": ""
             }
            },
            "type": "scattergl"
           }
          ],
          "scattermapbox": [
           {
            "marker": {
             "colorbar": {
              "outlinewidth": 0,
              "ticks": ""
             }
            },
            "type": "scattermapbox"
           }
          ],
          "scatterpolar": [
           {
            "marker": {
             "colorbar": {
              "outlinewidth": 0,
              "ticks": ""
             }
            },
            "type": "scatterpolar"
           }
          ],
          "scatterpolargl": [
           {
            "marker": {
             "colorbar": {
              "outlinewidth": 0,
              "ticks": ""
             }
            },
            "type": "scatterpolargl"
           }
          ],
          "scatterternary": [
           {
            "marker": {
             "colorbar": {
              "outlinewidth": 0,
              "ticks": ""
             }
            },
            "type": "scatterternary"
           }
          ],
          "surface": [
           {
            "colorbar": {
             "outlinewidth": 0,
             "ticks": ""
            },
            "colorscale": [
             [
              0,
              "#0d0887"
             ],
             [
              0.1111111111111111,
              "#46039f"
             ],
             [
              0.2222222222222222,
              "#7201a8"
             ],
             [
              0.3333333333333333,
              "#9c179e"
             ],
             [
              0.4444444444444444,
              "#bd3786"
             ],
             [
              0.5555555555555556,
              "#d8576b"
             ],
             [
              0.6666666666666666,
              "#ed7953"
             ],
             [
              0.7777777777777778,
              "#fb9f3a"
             ],
             [
              0.8888888888888888,
              "#fdca26"
             ],
             [
              1,
              "#f0f921"
             ]
            ],
            "type": "surface"
           }
          ],
          "table": [
           {
            "cells": {
             "fill": {
              "color": "#EBF0F8"
             },
             "line": {
              "color": "white"
             }
            },
            "header": {
             "fill": {
              "color": "#C8D4E3"
             },
             "line": {
              "color": "white"
             }
            },
            "type": "table"
           }
          ]
         },
         "layout": {
          "annotationdefaults": {
           "arrowcolor": "#2a3f5f",
           "arrowhead": 0,
           "arrowwidth": 1
          },
          "colorscale": {
           "diverging": [
            [
             0,
             "#8e0152"
            ],
            [
             0.1,
             "#c51b7d"
            ],
            [
             0.2,
             "#de77ae"
            ],
            [
             0.3,
             "#f1b6da"
            ],
            [
             0.4,
             "#fde0ef"
            ],
            [
             0.5,
             "#f7f7f7"
            ],
            [
             0.6,
             "#e6f5d0"
            ],
            [
             0.7,
             "#b8e186"
            ],
            [
             0.8,
             "#7fbc41"
            ],
            [
             0.9,
             "#4d9221"
            ],
            [
             1,
             "#276419"
            ]
           ],
           "sequential": [
            [
             0,
             "#0d0887"
            ],
            [
             0.1111111111111111,
             "#46039f"
            ],
            [
             0.2222222222222222,
             "#7201a8"
            ],
            [
             0.3333333333333333,
             "#9c179e"
            ],
            [
             0.4444444444444444,
             "#bd3786"
            ],
            [
             0.5555555555555556,
             "#d8576b"
            ],
            [
             0.6666666666666666,
             "#ed7953"
            ],
            [
             0.7777777777777778,
             "#fb9f3a"
            ],
            [
             0.8888888888888888,
             "#fdca26"
            ],
            [
             1,
             "#f0f921"
            ]
           ],
           "sequentialminus": [
            [
             0,
             "#0d0887"
            ],
            [
             0.1111111111111111,
             "#46039f"
            ],
            [
             0.2222222222222222,
             "#7201a8"
            ],
            [
             0.3333333333333333,
             "#9c179e"
            ],
            [
             0.4444444444444444,
             "#bd3786"
            ],
            [
             0.5555555555555556,
             "#d8576b"
            ],
            [
             0.6666666666666666,
             "#ed7953"
            ],
            [
             0.7777777777777778,
             "#fb9f3a"
            ],
            [
             0.8888888888888888,
             "#fdca26"
            ],
            [
             1,
             "#f0f921"
            ]
           ]
          },
          "colorway": [
           "#636efa",
           "#EF553B",
           "#00cc96",
           "#ab63fa",
           "#FFA15A",
           "#19d3f3",
           "#FF6692",
           "#B6E880",
           "#FF97FF",
           "#FECB52"
          ],
          "font": {
           "color": "#2a3f5f"
          },
          "geo": {
           "bgcolor": "white",
           "lakecolor": "white",
           "landcolor": "#E5ECF6",
           "showlakes": true,
           "showland": true,
           "subunitcolor": "white"
          },
          "hoverlabel": {
           "align": "left"
          },
          "hovermode": "closest",
          "mapbox": {
           "style": "light"
          },
          "paper_bgcolor": "white",
          "plot_bgcolor": "#E5ECF6",
          "polar": {
           "angularaxis": {
            "gridcolor": "white",
            "linecolor": "white",
            "ticks": ""
           },
           "bgcolor": "#E5ECF6",
           "radialaxis": {
            "gridcolor": "white",
            "linecolor": "white",
            "ticks": ""
           }
          },
          "scene": {
           "xaxis": {
            "backgroundcolor": "#E5ECF6",
            "gridcolor": "white",
            "gridwidth": 2,
            "linecolor": "white",
            "showbackground": true,
            "ticks": "",
            "zerolinecolor": "white"
           },
           "yaxis": {
            "backgroundcolor": "#E5ECF6",
            "gridcolor": "white",
            "gridwidth": 2,
            "linecolor": "white",
            "showbackground": true,
            "ticks": "",
            "zerolinecolor": "white"
           },
           "zaxis": {
            "backgroundcolor": "#E5ECF6",
            "gridcolor": "white",
            "gridwidth": 2,
            "linecolor": "white",
            "showbackground": true,
            "ticks": "",
            "zerolinecolor": "white"
           }
          },
          "shapedefaults": {
           "line": {
            "color": "#2a3f5f"
           }
          },
          "ternary": {
           "aaxis": {
            "gridcolor": "white",
            "linecolor": "white",
            "ticks": ""
           },
           "baxis": {
            "gridcolor": "white",
            "linecolor": "white",
            "ticks": ""
           },
           "bgcolor": "#E5ECF6",
           "caxis": {
            "gridcolor": "white",
            "linecolor": "white",
            "ticks": ""
           }
          },
          "title": {
           "x": 0.05
          },
          "xaxis": {
           "automargin": true,
           "gridcolor": "white",
           "linecolor": "white",
           "ticks": "",
           "zerolinecolor": "white",
           "zerolinewidth": 2
          },
          "yaxis": {
           "automargin": true,
           "gridcolor": "white",
           "linecolor": "white",
           "ticks": "",
           "zerolinecolor": "white",
           "zerolinewidth": 2
          }
         }
        },
        "updatemenus": [
         {
          "buttons": [
           {
            "args": [
             {
              "scene.annotations": [
               {
                "font": {
                 "color": "blue"
                },
                "showarrow": false,
                "text": 0,
                "x": -0.38239974979999997,
                "y": -1.229992594,
                "yshift": 15,
                "z": -0.5503032606
               },
               {
                "font": {
                 "color": "blue"
                },
                "showarrow": false,
                "text": 1,
                "x": -0.2422790422,
                "y": -0.0689343446,
                "yshift": 15,
                "z": -0.2655537186
               },
               {
                "font": {
                 "color": "blue"
                },
                "showarrow": false,
                "text": 2,
                "x": -0.048406284400000006,
                "y": 1.31971093,
                "yshift": 15,
                "z": 0.0960822457
               },
               {
                "font": {
                 "color": "blue"
                },
                "showarrow": false,
                "text": 3,
                "x": 0.021807796400000003,
                "y": 1.667970206,
                "yshift": 15,
                "z": 1.6227061580000002
               },
               {
                "font": {
                 "color": "blue"
                },
                "showarrow": false,
                "text": 4,
                "x": 1.3870833630000001,
                "y": 2.38058843,
                "yshift": 15,
                "z": 1.4027505569999998
               },
               {
                "font": {
                 "color": "blue"
                },
                "showarrow": false,
                "text": 5,
                "x": 2.505971985,
                "y": 1.7873174269999998,
                "yshift": 15,
                "z": 2.026731457
               },
               {
                "font": {
                 "color": "blue"
                },
                "showarrow": false,
                "text": 6,
                "x": 2.862274452,
                "y": 0.6307285035,
                "yshift": 15,
                "z": 1.2713433379999999
               },
               {
                "font": {
                 "color": "blue"
                },
                "showarrow": false,
                "text": 7,
                "x": 2.580494813,
                "y": 0.9930725840000001,
                "yshift": 15,
                "z": -0.1970303562
               },
               {
                "font": {
                 "color": "blue"
                },
                "showarrow": false,
                "text": 8,
                "x": 1.385281056,
                "y": 1.94813651,
                "yshift": 15,
                "z": -0.0982327949
               },
               {
                "font": {
                 "color": "blue"
                },
                "showarrow": false,
                "text": 9,
                "x": -0.5228651586,
                "y": -2.250838897,
                "yshift": 15,
                "z": -0.8067017183
               },
               {
                "font": {
                 "color": "blue"
                },
                "showarrow": false,
                "text": 10,
                "x": -0.7992209348999999,
                "y": 1.9324154040000001,
                "yshift": 15,
                "z": -0.41182272600000003
               },
               {
                "font": {
                 "color": "blue"
                },
                "showarrow": false,
                "text": 11,
                "x": -0.7902302123999999,
                "y": 2.304538949,
                "yshift": 15,
                "z": 1.979932745
               },
               {
                "font": {
                 "color": "blue"
                },
                "showarrow": false,
                "text": 12,
                "x": 0.0977897477,
                "y": 0.7951963951000001,
                "yshift": 15,
                "z": 2.27336947
               },
               {
                "font": {
                 "color": "blue"
                },
                "showarrow": false,
                "text": 13,
                "x": 1.4020135440000001,
                "y": 3.447064952,
                "yshift": 15,
                "z": 1.636005739
               },
               {
                "font": {
                 "color": "blue"
                },
                "showarrow": false,
                "text": 14,
                "x": 3.91212902,
                "y": 0.4099115245,
                "yshift": 15,
                "z": 1.4796543119999999
               },
               {
                "font": {
                 "color": "blue"
                },
                "showarrow": false,
                "text": 15,
                "x": 2.260216573,
                "y": -0.23790280879999998,
                "yshift": 15,
                "z": 1.57722157
               },
               {
                "font": {
                 "color": "blue"
                },
                "showarrow": false,
                "text": 16,
                "x": 3.4362704510000004,
                "y": 1.522980582,
                "yshift": 15,
                "z": -0.6253831464
               },
               {
                "font": {
                 "color": "blue"
                },
                "showarrow": false,
                "text": 17,
                "x": 2.3730796169999997,
                "y": 0.1140448791,
                "yshift": 15,
                "z": -0.81180425
               },
               {
                "font": {
                 "color": "blue"
                },
                "showarrow": false,
                "text": 18,
                "x": 1.414655345,
                "y": 2.73712749,
                "yshift": 15,
                "z": -0.8500826611
               }
              ]
             }
            ],
            "label": "Atom indices",
            "method": "relayout"
           },
           {
            "args": [
             {
              "scene.annotations": [
               {
                "showarrow": false,
                "text": 1.2,
                "x": -0.312339396,
                "y": -0.6494634693,
                "yshift": 15,
                "z": -0.4079284896
               },
               {
                "showarrow": false,
                "text": 1.45,
                "x": -0.1453426633,
                "y": 0.6253882927,
                "yshift": 15,
                "z": -0.08473573645
               },
               {
                "showarrow": false,
                "text": 1.57,
                "x": -0.013299244,
                "y": 1.493840568,
                "yshift": 15,
                "z": 0.85939420185
               },
               {
                "showarrow": false,
                "text": 1.56,
                "x": 0.7044455797,
                "y": 2.024279318,
                "yshift": 15,
                "z": 1.5127283575
               },
               {
                "showarrow": false,
                "text": 1.41,
                "x": 1.946527674,
                "y": 2.0839529285,
                "yshift": 15,
                "z": 1.714741007
               },
               {
                "showarrow": false,
                "text": 1.43,
                "x": 2.6841232185,
                "y": 1.20902296525,
                "yshift": 15,
                "z": 1.6490373975
               },
               {
                "showarrow": false,
                "text": 1.54,
                "x": 2.7213846325,
                "y": 0.81190054375,
                "yshift": 15,
                "z": 0.5371564909
               },
               {
                "showarrow": false,
                "text": 1.53,
                "x": 1.9828879345,
                "y": 1.470604547,
                "yshift": 15,
                "z": -0.14763157555
               },
               {
                "showarrow": false,
                "text": 1.56,
                "x": 1.3861822095,
                "y": 2.16436247,
                "yshift": 15,
                "z": 0.65225888105
               },
               {
                "showarrow": false,
                "text": 1.58,
                "x": 0.6684373858,
                "y": 1.63392372,
                "yshift": 15,
                "z": -0.0010752746
               },
               {
                "showarrow": false,
                "text": 1.09,
                "x": -0.42381360965,
                "y": 1.626063167,
                "yshift": 15,
                "z": -0.15787024015
               },
               {
                "showarrow": false,
                "text": 1.09,
                "x": -0.384211208,
                "y": 1.9862545775,
                "yshift": 15,
                "z": 1.8013194515
               },
               {
                "showarrow": false,
                "text": 1.09,
                "x": 3.387201736,
                "y": 0.520320014,
                "yshift": 15,
                "z": 1.375498825
               },
               {
                "showarrow": false,
                "text": 1.06,
                "x": -0.4526324542,
                "y": -1.7404157455,
                "yshift": 15,
                "z": -0.67850248945
               },
               {
                "showarrow": false,
                "text": 1.09,
                "x": 0.05979877205,
                "y": 1.23158330055,
                "yshift": 15,
                "z": 1.948037814
               },
               {
                "showarrow": false,
                "text": 1.09,
                "x": 1.3945484535,
                "y": 2.913826691,
                "yshift": 15,
                "z": 1.519378148
               },
               {
                "showarrow": false,
                "text": 1.1,
                "x": 2.5612455125,
                "y": 0.19641284735,
                "yshift": 15,
                "z": 1.424282454
               },
               {
                "showarrow": false,
                "text": 1.09,
                "x": 3.008382632,
                "y": 1.258026583,
                "yshift": 15,
                "z": -0.4112067513
               },
               {
                "showarrow": false,
                "text": 1.09,
                "x": 2.476787215,
                "y": 0.55355873155,
                "yshift": 15,
                "z": -0.5044173031
               },
               {
                "showarrow": false,
                "text": 1.09,
                "x": 1.3999682005,
                "y": 2.342632,
                "yshift": 15,
                "z": -0.474157728
               }
              ]
             }
            ],
            "label": "Bond lengths",
            "method": "relayout"
           },
           {
            "args": [
             {
              "scene.annotations": [
               {
                "font": {
                 "color": "blue"
                },
                "showarrow": false,
                "text": 0,
                "x": -0.38239974979999997,
                "y": -1.229992594,
                "yshift": 15,
                "z": -0.5503032606
               },
               {
                "font": {
                 "color": "blue"
                },
                "showarrow": false,
                "text": 1,
                "x": -0.2422790422,
                "y": -0.0689343446,
                "yshift": 15,
                "z": -0.2655537186
               },
               {
                "font": {
                 "color": "blue"
                },
                "showarrow": false,
                "text": 2,
                "x": -0.048406284400000006,
                "y": 1.31971093,
                "yshift": 15,
                "z": 0.0960822457
               },
               {
                "font": {
                 "color": "blue"
                },
                "showarrow": false,
                "text": 3,
                "x": 0.021807796400000003,
                "y": 1.667970206,
                "yshift": 15,
                "z": 1.6227061580000002
               },
               {
                "font": {
                 "color": "blue"
                },
                "showarrow": false,
                "text": 4,
                "x": 1.3870833630000001,
                "y": 2.38058843,
                "yshift": 15,
                "z": 1.4027505569999998
               },
               {
                "font": {
                 "color": "blue"
                },
                "showarrow": false,
                "text": 5,
                "x": 2.505971985,
                "y": 1.7873174269999998,
                "yshift": 15,
                "z": 2.026731457
               },
               {
                "font": {
                 "color": "blue"
                },
                "showarrow": false,
                "text": 6,
                "x": 2.862274452,
                "y": 0.6307285035,
                "yshift": 15,
                "z": 1.2713433379999999
               },
               {
                "font": {
                 "color": "blue"
                },
                "showarrow": false,
                "text": 7,
                "x": 2.580494813,
                "y": 0.9930725840000001,
                "yshift": 15,
                "z": -0.1970303562
               },
               {
                "font": {
                 "color": "blue"
                },
                "showarrow": false,
                "text": 8,
                "x": 1.385281056,
                "y": 1.94813651,
                "yshift": 15,
                "z": -0.0982327949
               },
               {
                "font": {
                 "color": "blue"
                },
                "showarrow": false,
                "text": 9,
                "x": -0.5228651586,
                "y": -2.250838897,
                "yshift": 15,
                "z": -0.8067017183
               },
               {
                "font": {
                 "color": "blue"
                },
                "showarrow": false,
                "text": 10,
                "x": -0.7992209348999999,
                "y": 1.9324154040000001,
                "yshift": 15,
                "z": -0.41182272600000003
               },
               {
                "font": {
                 "color": "blue"
                },
                "showarrow": false,
                "text": 11,
                "x": -0.7902302123999999,
                "y": 2.304538949,
                "yshift": 15,
                "z": 1.979932745
               },
               {
                "font": {
                 "color": "blue"
                },
                "showarrow": false,
                "text": 12,
                "x": 0.0977897477,
                "y": 0.7951963951000001,
                "yshift": 15,
                "z": 2.27336947
               },
               {
                "font": {
                 "color": "blue"
                },
                "showarrow": false,
                "text": 13,
                "x": 1.4020135440000001,
                "y": 3.447064952,
                "yshift": 15,
                "z": 1.636005739
               },
               {
                "font": {
                 "color": "blue"
                },
                "showarrow": false,
                "text": 14,
                "x": 3.91212902,
                "y": 0.4099115245,
                "yshift": 15,
                "z": 1.4796543119999999
               },
               {
                "font": {
                 "color": "blue"
                },
                "showarrow": false,
                "text": 15,
                "x": 2.260216573,
                "y": -0.23790280879999998,
                "yshift": 15,
                "z": 1.57722157
               },
               {
                "font": {
                 "color": "blue"
                },
                "showarrow": false,
                "text": 16,
                "x": 3.4362704510000004,
                "y": 1.522980582,
                "yshift": 15,
                "z": -0.6253831464
               },
               {
                "font": {
                 "color": "blue"
                },
                "showarrow": false,
                "text": 17,
                "x": 2.3730796169999997,
                "y": 0.1140448791,
                "yshift": 15,
                "z": -0.81180425
               },
               {
                "font": {
                 "color": "blue"
                },
                "showarrow": false,
                "text": 18,
                "x": 1.414655345,
                "y": 2.73712749,
                "yshift": 15,
                "z": -0.8500826611
               },
               {
                "showarrow": false,
                "text": 1.2,
                "x": -0.312339396,
                "y": -0.6494634693,
                "yshift": 15,
                "z": -0.4079284896
               },
               {
                "showarrow": false,
                "text": 1.45,
                "x": -0.1453426633,
                "y": 0.6253882927,
                "yshift": 15,
                "z": -0.08473573645
               },
               {
                "showarrow": false,
                "text": 1.57,
                "x": -0.013299244,
                "y": 1.493840568,
                "yshift": 15,
                "z": 0.85939420185
               },
               {
                "showarrow": false,
                "text": 1.56,
                "x": 0.7044455797,
                "y": 2.024279318,
                "yshift": 15,
                "z": 1.5127283575
               },
               {
                "showarrow": false,
                "text": 1.41,
                "x": 1.946527674,
                "y": 2.0839529285,
                "yshift": 15,
                "z": 1.714741007
               },
               {
                "showarrow": false,
                "text": 1.43,
                "x": 2.6841232185,
                "y": 1.20902296525,
                "yshift": 15,
                "z": 1.6490373975
               },
               {
                "showarrow": false,
                "text": 1.54,
                "x": 2.7213846325,
                "y": 0.81190054375,
                "yshift": 15,
                "z": 0.5371564909
               },
               {
                "showarrow": false,
                "text": 1.53,
                "x": 1.9828879345,
                "y": 1.470604547,
                "yshift": 15,
                "z": -0.14763157555
               },
               {
                "showarrow": false,
                "text": 1.56,
                "x": 1.3861822095,
                "y": 2.16436247,
                "yshift": 15,
                "z": 0.65225888105
               },
               {
                "showarrow": false,
                "text": 1.58,
                "x": 0.6684373858,
                "y": 1.63392372,
                "yshift": 15,
                "z": -0.0010752746
               },
               {
                "showarrow": false,
                "text": 1.09,
                "x": -0.42381360965,
                "y": 1.626063167,
                "yshift": 15,
                "z": -0.15787024015
               },
               {
                "showarrow": false,
                "text": 1.09,
                "x": -0.384211208,
                "y": 1.9862545775,
                "yshift": 15,
                "z": 1.8013194515
               },
               {
                "showarrow": false,
                "text": 1.09,
                "x": 3.387201736,
                "y": 0.520320014,
                "yshift": 15,
                "z": 1.375498825
               },
               {
                "showarrow": false,
                "text": 1.06,
                "x": -0.4526324542,
                "y": -1.7404157455,
                "yshift": 15,
                "z": -0.67850248945
               },
               {
                "showarrow": false,
                "text": 1.09,
                "x": 0.05979877205,
                "y": 1.23158330055,
                "yshift": 15,
                "z": 1.948037814
               },
               {
                "showarrow": false,
                "text": 1.09,
                "x": 1.3945484535,
                "y": 2.913826691,
                "yshift": 15,
                "z": 1.519378148
               },
               {
                "showarrow": false,
                "text": 1.1,
                "x": 2.5612455125,
                "y": 0.19641284735,
                "yshift": 15,
                "z": 1.424282454
               },
               {
                "showarrow": false,
                "text": 1.09,
                "x": 3.008382632,
                "y": 1.258026583,
                "yshift": 15,
                "z": -0.4112067513
               },
               {
                "showarrow": false,
                "text": 1.09,
                "x": 2.476787215,
                "y": 0.55355873155,
                "yshift": 15,
                "z": -0.5044173031
               },
               {
                "showarrow": false,
                "text": 1.09,
                "x": 1.3999682005,
                "y": 2.342632,
                "yshift": 15,
                "z": -0.474157728
               }
              ]
             }
            ],
            "label": "Atom indices & Bond lengths",
            "method": "relayout"
           },
           {
            "args": [
             {
              "scene.annotations": []
             }
            ],
            "label": "Hide all",
            "method": "relayout"
           }
          ],
          "direction": "down",
          "xanchor": "left",
          "yanchor": "top"
         }
        ]
       }
      },
      "text/html": [
       "<div>\n",
       "        \n",
       "        \n",
       "            <div id=\"9a45c936-9381-442a-8b6c-54c99fd49cb6\" class=\"plotly-graph-div\" style=\"height:525px; width:100%;\"></div>\n",
       "            <script type=\"text/javascript\">\n",
       "                require([\"plotly\"], function(Plotly) {\n",
       "                    window.PLOTLYENV=window.PLOTLYENV || {};\n",
       "                    \n",
       "                if (document.getElementById(\"9a45c936-9381-442a-8b6c-54c99fd49cb6\")) {\n",
       "                    Plotly.newPlot(\n",
       "                        '9a45c936-9381-442a-8b6c-54c99fd49cb6',\n",
       "                        [{\"marker\": {\"color\": [\"black\", \"black\", \"black\", \"black\", \"black\", \"red\", \"black\", \"black\", \"black\", \"white\", \"white\", \"white\", \"white\", \"white\", \"white\", \"white\", \"white\", \"white\", \"white\"], \"line\": {\"color\": \"lightgray\", \"width\": 2}, \"opacity\": 0.8, \"size\": 7, \"symbol\": \"circle\"}, \"mode\": \"markers\", \"name\": \"\", \"text\": [\"C\", \"C\", \"C\", \"C\", \"C\", \"O\", \"C\", \"C\", \"C\", \"H\", \"H\", \"H\", \"H\", \"H\", \"H\", \"H\", \"H\", \"H\", \"H\"], \"type\": \"scatter3d\", \"x\": [-0.38239974979999997, -0.2422790422, -0.048406284400000006, 0.021807796400000003, 1.3870833630000001, 2.505971985, 2.862274452, 2.580494813, 1.385281056, -0.5228651586, -0.7992209348999999, -0.7902302123999999, 0.0977897477, 1.4020135440000001, 3.91212902, 2.260216573, 3.4362704510000004, 2.3730796169999997, 1.414655345], \"y\": [-1.229992594, -0.0689343446, 1.31971093, 1.667970206, 2.38058843, 1.7873174269999998, 0.6307285035, 0.9930725840000001, 1.94813651, -2.250838897, 1.9324154040000001, 2.304538949, 0.7951963951000001, 3.447064952, 0.4099115245, -0.23790280879999998, 1.522980582, 0.1140448791, 2.73712749], \"z\": [-0.5503032606, -0.2655537186, 0.0960822457, 1.6227061580000002, 1.4027505569999998, 2.026731457, 1.2713433379999999, -0.1970303562, -0.0982327949, -0.8067017183, -0.41182272600000003, 1.979932745, 2.27336947, 1.636005739, 1.4796543119999999, 1.57722157, -0.6253831464, -0.81180425, -0.8500826611]}, {\"hoverinfo\": \"none\", \"marker\": {\"color\": \"grey\", \"opacity\": 1, \"size\": 7}, \"mode\": \"lines\", \"type\": \"scatter3d\", \"x\": [-0.38239974979999997, -0.2422790422, null, -0.2422790422, -0.048406284400000006, null, -0.048406284400000006, 0.021807796400000003, null, 0.021807796400000003, 1.3870833630000001, null, 1.3870833630000001, 2.505971985, null, 2.505971985, 2.862274452, null, 2.862274452, 2.580494813, null, 1.385281056, 2.580494813, null, 1.385281056, 1.3870833630000001, null, 1.385281056, -0.048406284400000006, null, -0.048406284400000006, -0.7992209348999999, null, -0.7902302123999999, 0.021807796400000003, null, 2.862274452, 3.91212902, null, -0.38239974979999997, -0.5228651586, null, 0.021807796400000003, 0.0977897477, null, 1.3870833630000001, 1.4020135440000001, null, 2.862274452, 2.260216573, null, 3.4362704510000004, 2.580494813, null, 2.3730796169999997, 2.580494813, null, 1.385281056, 1.414655345, null], \"y\": [-1.229992594, -0.0689343446, null, -0.0689343446, 1.31971093, null, 1.31971093, 1.667970206, null, 1.667970206, 2.38058843, null, 2.38058843, 1.7873174269999998, null, 1.7873174269999998, 0.6307285035, null, 0.6307285035, 0.9930725840000001, null, 1.94813651, 0.9930725840000001, null, 1.94813651, 2.38058843, null, 1.94813651, 1.31971093, null, 1.31971093, 1.9324154040000001, null, 2.304538949, 1.667970206, null, 0.6307285035, 0.4099115245, null, -1.229992594, -2.250838897, null, 1.667970206, 0.7951963951000001, null, 2.38058843, 3.447064952, null, 0.6307285035, -0.23790280879999998, null, 1.522980582, 0.9930725840000001, null, 0.1140448791, 0.9930725840000001, null, 1.94813651, 2.73712749, null], \"z\": [-0.5503032606, -0.2655537186, null, -0.2655537186, 0.0960822457, null, 0.0960822457, 1.6227061580000002, null, 1.6227061580000002, 1.4027505569999998, null, 1.4027505569999998, 2.026731457, null, 2.026731457, 1.2713433379999999, null, 1.2713433379999999, -0.1970303562, null, -0.0982327949, -0.1970303562, null, -0.0982327949, 1.4027505569999998, null, -0.0982327949, 0.0960822457, null, 0.0960822457, -0.41182272600000003, null, 1.979932745, 1.6227061580000002, null, 1.2713433379999999, 1.4796543119999999, null, -0.5503032606, -0.8067017183, null, 1.6227061580000002, 2.27336947, null, 1.4027505569999998, 1.636005739, null, 1.2713433379999999, 1.57722157, null, -0.6253831464, -0.1970303562, null, -0.81180425, -0.1970303562, null, -0.0982327949, -0.8500826611, null]}],\n",
       "                        {\"margin\": {\"b\": 0, \"l\": 0, \"r\": 0, \"t\": 0}, \"scene\": {\"annotations\": [{\"font\": {\"color\": \"blue\"}, \"showarrow\": false, \"text\": \"0\", \"x\": -0.38239974979999997, \"y\": -1.229992594, \"yshift\": 15, \"z\": -0.5503032606}, {\"font\": {\"color\": \"blue\"}, \"showarrow\": false, \"text\": \"1\", \"x\": -0.2422790422, \"y\": -0.0689343446, \"yshift\": 15, \"z\": -0.2655537186}, {\"font\": {\"color\": \"blue\"}, \"showarrow\": false, \"text\": \"2\", \"x\": -0.048406284400000006, \"y\": 1.31971093, \"yshift\": 15, \"z\": 0.0960822457}, {\"font\": {\"color\": \"blue\"}, \"showarrow\": false, \"text\": \"3\", \"x\": 0.021807796400000003, \"y\": 1.667970206, \"yshift\": 15, \"z\": 1.6227061580000002}, {\"font\": {\"color\": \"blue\"}, \"showarrow\": false, \"text\": \"4\", \"x\": 1.3870833630000001, \"y\": 2.38058843, \"yshift\": 15, \"z\": 1.4027505569999998}, {\"font\": {\"color\": \"blue\"}, \"showarrow\": false, \"text\": \"5\", \"x\": 2.505971985, \"y\": 1.7873174269999998, \"yshift\": 15, \"z\": 2.026731457}, {\"font\": {\"color\": \"blue\"}, \"showarrow\": false, \"text\": \"6\", \"x\": 2.862274452, \"y\": 0.6307285035, \"yshift\": 15, \"z\": 1.2713433379999999}, {\"font\": {\"color\": \"blue\"}, \"showarrow\": false, \"text\": \"7\", \"x\": 2.580494813, \"y\": 0.9930725840000001, \"yshift\": 15, \"z\": -0.1970303562}, {\"font\": {\"color\": \"blue\"}, \"showarrow\": false, \"text\": \"8\", \"x\": 1.385281056, \"y\": 1.94813651, \"yshift\": 15, \"z\": -0.0982327949}, {\"font\": {\"color\": \"blue\"}, \"showarrow\": false, \"text\": \"9\", \"x\": -0.5228651586, \"y\": -2.250838897, \"yshift\": 15, \"z\": -0.8067017183}, {\"font\": {\"color\": \"blue\"}, \"showarrow\": false, \"text\": \"10\", \"x\": -0.7992209348999999, \"y\": 1.9324154040000001, \"yshift\": 15, \"z\": -0.41182272600000003}, {\"font\": {\"color\": \"blue\"}, \"showarrow\": false, \"text\": \"11\", \"x\": -0.7902302123999999, \"y\": 2.304538949, \"yshift\": 15, \"z\": 1.979932745}, {\"font\": {\"color\": \"blue\"}, \"showarrow\": false, \"text\": \"12\", \"x\": 0.0977897477, \"y\": 0.7951963951000001, \"yshift\": 15, \"z\": 2.27336947}, {\"font\": {\"color\": \"blue\"}, \"showarrow\": false, \"text\": \"13\", \"x\": 1.4020135440000001, \"y\": 3.447064952, \"yshift\": 15, \"z\": 1.636005739}, {\"font\": {\"color\": \"blue\"}, \"showarrow\": false, \"text\": \"14\", \"x\": 3.91212902, \"y\": 0.4099115245, \"yshift\": 15, \"z\": 1.4796543119999999}, {\"font\": {\"color\": \"blue\"}, \"showarrow\": false, \"text\": \"15\", \"x\": 2.260216573, \"y\": -0.23790280879999998, \"yshift\": 15, \"z\": 1.57722157}, {\"font\": {\"color\": \"blue\"}, \"showarrow\": false, \"text\": \"16\", \"x\": 3.4362704510000004, \"y\": 1.522980582, \"yshift\": 15, \"z\": -0.6253831464}, {\"font\": {\"color\": \"blue\"}, \"showarrow\": false, \"text\": \"17\", \"x\": 2.3730796169999997, \"y\": 0.1140448791, \"yshift\": 15, \"z\": -0.81180425}, {\"font\": {\"color\": \"blue\"}, \"showarrow\": false, \"text\": \"18\", \"x\": 1.414655345, \"y\": 2.73712749, \"yshift\": 15, \"z\": -0.8500826611}], \"xaxis\": {\"showbackground\": false, \"showgrid\": false, \"showticklabels\": false, \"title\": {\"font\": {\"color\": \"white\"}}, \"zeroline\": false}, \"yaxis\": {\"showbackground\": false, \"showgrid\": false, \"showticklabels\": false, \"title\": {\"font\": {\"color\": \"white\"}}, \"zeroline\": false}, \"zaxis\": {\"showbackground\": false, \"showgrid\": false, \"showticklabels\": false, \"title\": {\"font\": {\"color\": \"white\"}}, \"zeroline\": false}}, \"showlegend\": false, \"template\": {\"data\": {\"bar\": [{\"error_x\": {\"color\": \"#2a3f5f\"}, \"error_y\": {\"color\": \"#2a3f5f\"}, \"marker\": {\"line\": {\"color\": \"#E5ECF6\", \"width\": 0.5}}, \"type\": \"bar\"}], \"barpolar\": [{\"marker\": {\"line\": {\"color\": \"#E5ECF6\", \"width\": 0.5}}, \"type\": \"barpolar\"}], \"carpet\": [{\"aaxis\": {\"endlinecolor\": \"#2a3f5f\", \"gridcolor\": \"white\", \"linecolor\": \"white\", \"minorgridcolor\": \"white\", \"startlinecolor\": \"#2a3f5f\"}, \"baxis\": {\"endlinecolor\": \"#2a3f5f\", \"gridcolor\": \"white\", \"linecolor\": \"white\", \"minorgridcolor\": \"white\", \"startlinecolor\": \"#2a3f5f\"}, \"type\": \"carpet\"}], \"choropleth\": [{\"colorbar\": {\"outlinewidth\": 0, \"ticks\": \"\"}, \"type\": \"choropleth\"}], \"contour\": [{\"colorbar\": {\"outlinewidth\": 0, \"ticks\": \"\"}, \"colorscale\": [[0.0, \"#0d0887\"], [0.1111111111111111, \"#46039f\"], [0.2222222222222222, \"#7201a8\"], [0.3333333333333333, \"#9c179e\"], [0.4444444444444444, \"#bd3786\"], [0.5555555555555556, \"#d8576b\"], [0.6666666666666666, \"#ed7953\"], [0.7777777777777778, \"#fb9f3a\"], [0.8888888888888888, \"#fdca26\"], [1.0, \"#f0f921\"]], \"type\": \"contour\"}], \"contourcarpet\": [{\"colorbar\": {\"outlinewidth\": 0, \"ticks\": \"\"}, \"type\": \"contourcarpet\"}], \"heatmap\": [{\"colorbar\": {\"outlinewidth\": 0, \"ticks\": \"\"}, \"colorscale\": [[0.0, \"#0d0887\"], [0.1111111111111111, \"#46039f\"], [0.2222222222222222, \"#7201a8\"], [0.3333333333333333, \"#9c179e\"], [0.4444444444444444, \"#bd3786\"], [0.5555555555555556, \"#d8576b\"], [0.6666666666666666, \"#ed7953\"], [0.7777777777777778, \"#fb9f3a\"], [0.8888888888888888, \"#fdca26\"], [1.0, \"#f0f921\"]], \"type\": \"heatmap\"}], \"heatmapgl\": [{\"colorbar\": {\"outlinewidth\": 0, \"ticks\": \"\"}, \"colorscale\": [[0.0, \"#0d0887\"], [0.1111111111111111, \"#46039f\"], [0.2222222222222222, \"#7201a8\"], [0.3333333333333333, \"#9c179e\"], [0.4444444444444444, \"#bd3786\"], [0.5555555555555556, \"#d8576b\"], [0.6666666666666666, \"#ed7953\"], [0.7777777777777778, \"#fb9f3a\"], [0.8888888888888888, \"#fdca26\"], [1.0, \"#f0f921\"]], \"type\": \"heatmapgl\"}], \"histogram\": [{\"marker\": {\"colorbar\": {\"outlinewidth\": 0, \"ticks\": \"\"}}, \"type\": \"histogram\"}], \"histogram2d\": [{\"colorbar\": {\"outlinewidth\": 0, \"ticks\": \"\"}, \"colorscale\": [[0.0, \"#0d0887\"], [0.1111111111111111, \"#46039f\"], [0.2222222222222222, \"#7201a8\"], [0.3333333333333333, \"#9c179e\"], [0.4444444444444444, \"#bd3786\"], [0.5555555555555556, \"#d8576b\"], [0.6666666666666666, \"#ed7953\"], [0.7777777777777778, \"#fb9f3a\"], [0.8888888888888888, \"#fdca26\"], [1.0, \"#f0f921\"]], \"type\": \"histogram2d\"}], \"histogram2dcontour\": [{\"colorbar\": {\"outlinewidth\": 0, \"ticks\": \"\"}, \"colorscale\": [[0.0, \"#0d0887\"], [0.1111111111111111, \"#46039f\"], [0.2222222222222222, \"#7201a8\"], [0.3333333333333333, \"#9c179e\"], [0.4444444444444444, \"#bd3786\"], [0.5555555555555556, \"#d8576b\"], [0.6666666666666666, \"#ed7953\"], [0.7777777777777778, \"#fb9f3a\"], [0.8888888888888888, \"#fdca26\"], [1.0, \"#f0f921\"]], \"type\": \"histogram2dcontour\"}], \"mesh3d\": [{\"colorbar\": {\"outlinewidth\": 0, \"ticks\": \"\"}, \"type\": \"mesh3d\"}], \"parcoords\": [{\"line\": {\"colorbar\": {\"outlinewidth\": 0, \"ticks\": \"\"}}, \"type\": \"parcoords\"}], \"scatter\": [{\"marker\": {\"colorbar\": {\"outlinewidth\": 0, \"ticks\": \"\"}}, \"type\": \"scatter\"}], \"scatter3d\": [{\"line\": {\"colorbar\": {\"outlinewidth\": 0, \"ticks\": \"\"}}, \"marker\": {\"colorbar\": {\"outlinewidth\": 0, \"ticks\": \"\"}}, \"type\": \"scatter3d\"}], \"scattercarpet\": [{\"marker\": {\"colorbar\": {\"outlinewidth\": 0, \"ticks\": \"\"}}, \"type\": \"scattercarpet\"}], \"scattergeo\": [{\"marker\": {\"colorbar\": {\"outlinewidth\": 0, \"ticks\": \"\"}}, \"type\": \"scattergeo\"}], \"scattergl\": [{\"marker\": {\"colorbar\": {\"outlinewidth\": 0, \"ticks\": \"\"}}, \"type\": \"scattergl\"}], \"scattermapbox\": [{\"marker\": {\"colorbar\": {\"outlinewidth\": 0, \"ticks\": \"\"}}, \"type\": \"scattermapbox\"}], \"scatterpolar\": [{\"marker\": {\"colorbar\": {\"outlinewidth\": 0, \"ticks\": \"\"}}, \"type\": \"scatterpolar\"}], \"scatterpolargl\": [{\"marker\": {\"colorbar\": {\"outlinewidth\": 0, \"ticks\": \"\"}}, \"type\": \"scatterpolargl\"}], \"scatterternary\": [{\"marker\": {\"colorbar\": {\"outlinewidth\": 0, \"ticks\": \"\"}}, \"type\": \"scatterternary\"}], \"surface\": [{\"colorbar\": {\"outlinewidth\": 0, \"ticks\": \"\"}, \"colorscale\": [[0.0, \"#0d0887\"], [0.1111111111111111, \"#46039f\"], [0.2222222222222222, \"#7201a8\"], [0.3333333333333333, \"#9c179e\"], [0.4444444444444444, \"#bd3786\"], [0.5555555555555556, \"#d8576b\"], [0.6666666666666666, \"#ed7953\"], [0.7777777777777778, \"#fb9f3a\"], [0.8888888888888888, \"#fdca26\"], [1.0, \"#f0f921\"]], \"type\": \"surface\"}], \"table\": [{\"cells\": {\"fill\": {\"color\": \"#EBF0F8\"}, \"line\": {\"color\": \"white\"}}, \"header\": {\"fill\": {\"color\": \"#C8D4E3\"}, \"line\": {\"color\": \"white\"}}, \"type\": \"table\"}]}, \"layout\": {\"annotationdefaults\": {\"arrowcolor\": \"#2a3f5f\", \"arrowhead\": 0, \"arrowwidth\": 1}, \"colorscale\": {\"diverging\": [[0, \"#8e0152\"], [0.1, \"#c51b7d\"], [0.2, \"#de77ae\"], [0.3, \"#f1b6da\"], [0.4, \"#fde0ef\"], [0.5, \"#f7f7f7\"], [0.6, \"#e6f5d0\"], [0.7, \"#b8e186\"], [0.8, \"#7fbc41\"], [0.9, \"#4d9221\"], [1, \"#276419\"]], \"sequential\": [[0.0, \"#0d0887\"], [0.1111111111111111, \"#46039f\"], [0.2222222222222222, \"#7201a8\"], [0.3333333333333333, \"#9c179e\"], [0.4444444444444444, \"#bd3786\"], [0.5555555555555556, \"#d8576b\"], [0.6666666666666666, \"#ed7953\"], [0.7777777777777778, \"#fb9f3a\"], [0.8888888888888888, \"#fdca26\"], [1.0, \"#f0f921\"]], \"sequentialminus\": [[0.0, \"#0d0887\"], [0.1111111111111111, \"#46039f\"], [0.2222222222222222, \"#7201a8\"], [0.3333333333333333, \"#9c179e\"], [0.4444444444444444, \"#bd3786\"], [0.5555555555555556, \"#d8576b\"], [0.6666666666666666, \"#ed7953\"], [0.7777777777777778, \"#fb9f3a\"], [0.8888888888888888, \"#fdca26\"], [1.0, \"#f0f921\"]]}, \"colorway\": [\"#636efa\", \"#EF553B\", \"#00cc96\", \"#ab63fa\", \"#FFA15A\", \"#19d3f3\", \"#FF6692\", \"#B6E880\", \"#FF97FF\", \"#FECB52\"], \"font\": {\"color\": \"#2a3f5f\"}, \"geo\": {\"bgcolor\": \"white\", \"lakecolor\": \"white\", \"landcolor\": \"#E5ECF6\", \"showlakes\": true, \"showland\": true, \"subunitcolor\": \"white\"}, \"hoverlabel\": {\"align\": \"left\"}, \"hovermode\": \"closest\", \"mapbox\": {\"style\": \"light\"}, \"paper_bgcolor\": \"white\", \"plot_bgcolor\": \"#E5ECF6\", \"polar\": {\"angularaxis\": {\"gridcolor\": \"white\", \"linecolor\": \"white\", \"ticks\": \"\"}, \"bgcolor\": \"#E5ECF6\", \"radialaxis\": {\"gridcolor\": \"white\", \"linecolor\": \"white\", \"ticks\": \"\"}}, \"scene\": {\"xaxis\": {\"backgroundcolor\": \"#E5ECF6\", \"gridcolor\": \"white\", \"gridwidth\": 2, \"linecolor\": \"white\", \"showbackground\": true, \"ticks\": \"\", \"zerolinecolor\": \"white\"}, \"yaxis\": {\"backgroundcolor\": \"#E5ECF6\", \"gridcolor\": \"white\", \"gridwidth\": 2, \"linecolor\": \"white\", \"showbackground\": true, \"ticks\": \"\", \"zerolinecolor\": \"white\"}, \"zaxis\": {\"backgroundcolor\": \"#E5ECF6\", \"gridcolor\": \"white\", \"gridwidth\": 2, \"linecolor\": \"white\", \"showbackground\": true, \"ticks\": \"\", \"zerolinecolor\": \"white\"}}, \"shapedefaults\": {\"line\": {\"color\": \"#2a3f5f\"}}, \"ternary\": {\"aaxis\": {\"gridcolor\": \"white\", \"linecolor\": \"white\", \"ticks\": \"\"}, \"baxis\": {\"gridcolor\": \"white\", \"linecolor\": \"white\", \"ticks\": \"\"}, \"bgcolor\": \"#E5ECF6\", \"caxis\": {\"gridcolor\": \"white\", \"linecolor\": \"white\", \"ticks\": \"\"}}, \"title\": {\"x\": 0.05}, \"xaxis\": {\"automargin\": true, \"gridcolor\": \"white\", \"linecolor\": \"white\", \"ticks\": \"\", \"zerolinecolor\": \"white\", \"zerolinewidth\": 2}, \"yaxis\": {\"automargin\": true, \"gridcolor\": \"white\", \"linecolor\": \"white\", \"ticks\": \"\", \"zerolinecolor\": \"white\", \"zerolinewidth\": 2}}}, \"updatemenus\": [{\"buttons\": [{\"args\": [{\"scene.annotations\": [{\"font\": {\"color\": \"blue\"}, \"showarrow\": false, \"text\": 0, \"x\": -0.38239974979999997, \"y\": -1.229992594, \"yshift\": 15, \"z\": -0.5503032606}, {\"font\": {\"color\": \"blue\"}, \"showarrow\": false, \"text\": 1, \"x\": -0.2422790422, \"y\": -0.0689343446, \"yshift\": 15, \"z\": -0.2655537186}, {\"font\": {\"color\": \"blue\"}, \"showarrow\": false, \"text\": 2, \"x\": -0.048406284400000006, \"y\": 1.31971093, \"yshift\": 15, \"z\": 0.0960822457}, {\"font\": {\"color\": \"blue\"}, \"showarrow\": false, \"text\": 3, \"x\": 0.021807796400000003, \"y\": 1.667970206, \"yshift\": 15, \"z\": 1.6227061580000002}, {\"font\": {\"color\": \"blue\"}, \"showarrow\": false, \"text\": 4, \"x\": 1.3870833630000001, \"y\": 2.38058843, \"yshift\": 15, \"z\": 1.4027505569999998}, {\"font\": {\"color\": \"blue\"}, \"showarrow\": false, \"text\": 5, \"x\": 2.505971985, \"y\": 1.7873174269999998, \"yshift\": 15, \"z\": 2.026731457}, {\"font\": {\"color\": \"blue\"}, \"showarrow\": false, \"text\": 6, \"x\": 2.862274452, \"y\": 0.6307285035, \"yshift\": 15, \"z\": 1.2713433379999999}, {\"font\": {\"color\": \"blue\"}, \"showarrow\": false, \"text\": 7, \"x\": 2.580494813, \"y\": 0.9930725840000001, \"yshift\": 15, \"z\": -0.1970303562}, {\"font\": {\"color\": \"blue\"}, \"showarrow\": false, \"text\": 8, \"x\": 1.385281056, \"y\": 1.94813651, \"yshift\": 15, \"z\": -0.0982327949}, {\"font\": {\"color\": \"blue\"}, \"showarrow\": false, \"text\": 9, \"x\": -0.5228651586, \"y\": -2.250838897, \"yshift\": 15, \"z\": -0.8067017183}, {\"font\": {\"color\": \"blue\"}, \"showarrow\": false, \"text\": 10, \"x\": -0.7992209348999999, \"y\": 1.9324154040000001, \"yshift\": 15, \"z\": -0.41182272600000003}, {\"font\": {\"color\": \"blue\"}, \"showarrow\": false, \"text\": 11, \"x\": -0.7902302123999999, \"y\": 2.304538949, \"yshift\": 15, \"z\": 1.979932745}, {\"font\": {\"color\": \"blue\"}, \"showarrow\": false, \"text\": 12, \"x\": 0.0977897477, \"y\": 0.7951963951000001, \"yshift\": 15, \"z\": 2.27336947}, {\"font\": {\"color\": \"blue\"}, \"showarrow\": false, \"text\": 13, \"x\": 1.4020135440000001, \"y\": 3.447064952, \"yshift\": 15, \"z\": 1.636005739}, {\"font\": {\"color\": \"blue\"}, \"showarrow\": false, \"text\": 14, \"x\": 3.91212902, \"y\": 0.4099115245, \"yshift\": 15, \"z\": 1.4796543119999999}, {\"font\": {\"color\": \"blue\"}, \"showarrow\": false, \"text\": 15, \"x\": 2.260216573, \"y\": -0.23790280879999998, \"yshift\": 15, \"z\": 1.57722157}, {\"font\": {\"color\": \"blue\"}, \"showarrow\": false, \"text\": 16, \"x\": 3.4362704510000004, \"y\": 1.522980582, \"yshift\": 15, \"z\": -0.6253831464}, {\"font\": {\"color\": \"blue\"}, \"showarrow\": false, \"text\": 17, \"x\": 2.3730796169999997, \"y\": 0.1140448791, \"yshift\": 15, \"z\": -0.81180425}, {\"font\": {\"color\": \"blue\"}, \"showarrow\": false, \"text\": 18, \"x\": 1.414655345, \"y\": 2.73712749, \"yshift\": 15, \"z\": -0.8500826611}]}], \"label\": \"Atom indices\", \"method\": \"relayout\"}, {\"args\": [{\"scene.annotations\": [{\"showarrow\": false, \"text\": 1.2, \"x\": -0.312339396, \"y\": -0.6494634693, \"yshift\": 15, \"z\": -0.4079284896}, {\"showarrow\": false, \"text\": 1.45, \"x\": -0.1453426633, \"y\": 0.6253882927, \"yshift\": 15, \"z\": -0.08473573645}, {\"showarrow\": false, \"text\": 1.57, \"x\": -0.013299244, \"y\": 1.493840568, \"yshift\": 15, \"z\": 0.85939420185}, {\"showarrow\": false, \"text\": 1.56, \"x\": 0.7044455797, \"y\": 2.024279318, \"yshift\": 15, \"z\": 1.5127283575}, {\"showarrow\": false, \"text\": 1.41, \"x\": 1.946527674, \"y\": 2.0839529285, \"yshift\": 15, \"z\": 1.714741007}, {\"showarrow\": false, \"text\": 1.43, \"x\": 2.6841232185, \"y\": 1.20902296525, \"yshift\": 15, \"z\": 1.6490373975}, {\"showarrow\": false, \"text\": 1.54, \"x\": 2.7213846325, \"y\": 0.81190054375, \"yshift\": 15, \"z\": 0.5371564909}, {\"showarrow\": false, \"text\": 1.53, \"x\": 1.9828879345, \"y\": 1.470604547, \"yshift\": 15, \"z\": -0.14763157555}, {\"showarrow\": false, \"text\": 1.56, \"x\": 1.3861822095, \"y\": 2.16436247, \"yshift\": 15, \"z\": 0.65225888105}, {\"showarrow\": false, \"text\": 1.58, \"x\": 0.6684373858, \"y\": 1.63392372, \"yshift\": 15, \"z\": -0.0010752746}, {\"showarrow\": false, \"text\": 1.09, \"x\": -0.42381360965, \"y\": 1.626063167, \"yshift\": 15, \"z\": -0.15787024015}, {\"showarrow\": false, \"text\": 1.09, \"x\": -0.384211208, \"y\": 1.9862545775, \"yshift\": 15, \"z\": 1.8013194515}, {\"showarrow\": false, \"text\": 1.09, \"x\": 3.387201736, \"y\": 0.520320014, \"yshift\": 15, \"z\": 1.375498825}, {\"showarrow\": false, \"text\": 1.06, \"x\": -0.4526324542, \"y\": -1.7404157455, \"yshift\": 15, \"z\": -0.67850248945}, {\"showarrow\": false, \"text\": 1.09, \"x\": 0.05979877205, \"y\": 1.23158330055, \"yshift\": 15, \"z\": 1.948037814}, {\"showarrow\": false, \"text\": 1.09, \"x\": 1.3945484535, \"y\": 2.913826691, \"yshift\": 15, \"z\": 1.519378148}, {\"showarrow\": false, \"text\": 1.1, \"x\": 2.5612455125, \"y\": 0.19641284735, \"yshift\": 15, \"z\": 1.424282454}, {\"showarrow\": false, \"text\": 1.09, \"x\": 3.008382632, \"y\": 1.258026583, \"yshift\": 15, \"z\": -0.4112067513}, {\"showarrow\": false, \"text\": 1.09, \"x\": 2.476787215, \"y\": 0.55355873155, \"yshift\": 15, \"z\": -0.5044173031}, {\"showarrow\": false, \"text\": 1.09, \"x\": 1.3999682005, \"y\": 2.342632, \"yshift\": 15, \"z\": -0.474157728}]}], \"label\": \"Bond lengths\", \"method\": \"relayout\"}, {\"args\": [{\"scene.annotations\": [{\"font\": {\"color\": \"blue\"}, \"showarrow\": false, \"text\": 0, \"x\": -0.38239974979999997, \"y\": -1.229992594, \"yshift\": 15, \"z\": -0.5503032606}, {\"font\": {\"color\": \"blue\"}, \"showarrow\": false, \"text\": 1, \"x\": -0.2422790422, \"y\": -0.0689343446, \"yshift\": 15, \"z\": -0.2655537186}, {\"font\": {\"color\": \"blue\"}, \"showarrow\": false, \"text\": 2, \"x\": -0.048406284400000006, \"y\": 1.31971093, \"yshift\": 15, \"z\": 0.0960822457}, {\"font\": {\"color\": \"blue\"}, \"showarrow\": false, \"text\": 3, \"x\": 0.021807796400000003, \"y\": 1.667970206, \"yshift\": 15, \"z\": 1.6227061580000002}, {\"font\": {\"color\": \"blue\"}, \"showarrow\": false, \"text\": 4, \"x\": 1.3870833630000001, \"y\": 2.38058843, \"yshift\": 15, \"z\": 1.4027505569999998}, {\"font\": {\"color\": \"blue\"}, \"showarrow\": false, \"text\": 5, \"x\": 2.505971985, \"y\": 1.7873174269999998, \"yshift\": 15, \"z\": 2.026731457}, {\"font\": {\"color\": \"blue\"}, \"showarrow\": false, \"text\": 6, \"x\": 2.862274452, \"y\": 0.6307285035, \"yshift\": 15, \"z\": 1.2713433379999999}, {\"font\": {\"color\": \"blue\"}, \"showarrow\": false, \"text\": 7, \"x\": 2.580494813, \"y\": 0.9930725840000001, \"yshift\": 15, \"z\": -0.1970303562}, {\"font\": {\"color\": \"blue\"}, \"showarrow\": false, \"text\": 8, \"x\": 1.385281056, \"y\": 1.94813651, \"yshift\": 15, \"z\": -0.0982327949}, {\"font\": {\"color\": \"blue\"}, \"showarrow\": false, \"text\": 9, \"x\": -0.5228651586, \"y\": -2.250838897, \"yshift\": 15, \"z\": -0.8067017183}, {\"font\": {\"color\": \"blue\"}, \"showarrow\": false, \"text\": 10, \"x\": -0.7992209348999999, \"y\": 1.9324154040000001, \"yshift\": 15, \"z\": -0.41182272600000003}, {\"font\": {\"color\": \"blue\"}, \"showarrow\": false, \"text\": 11, \"x\": -0.7902302123999999, \"y\": 2.304538949, \"yshift\": 15, \"z\": 1.979932745}, {\"font\": {\"color\": \"blue\"}, \"showarrow\": false, \"text\": 12, \"x\": 0.0977897477, \"y\": 0.7951963951000001, \"yshift\": 15, \"z\": 2.27336947}, {\"font\": {\"color\": \"blue\"}, \"showarrow\": false, \"text\": 13, \"x\": 1.4020135440000001, \"y\": 3.447064952, \"yshift\": 15, \"z\": 1.636005739}, {\"font\": {\"color\": \"blue\"}, \"showarrow\": false, \"text\": 14, \"x\": 3.91212902, \"y\": 0.4099115245, \"yshift\": 15, \"z\": 1.4796543119999999}, {\"font\": {\"color\": \"blue\"}, \"showarrow\": false, \"text\": 15, \"x\": 2.260216573, \"y\": -0.23790280879999998, \"yshift\": 15, \"z\": 1.57722157}, {\"font\": {\"color\": \"blue\"}, \"showarrow\": false, \"text\": 16, \"x\": 3.4362704510000004, \"y\": 1.522980582, \"yshift\": 15, \"z\": -0.6253831464}, {\"font\": {\"color\": \"blue\"}, \"showarrow\": false, \"text\": 17, \"x\": 2.3730796169999997, \"y\": 0.1140448791, \"yshift\": 15, \"z\": -0.81180425}, {\"font\": {\"color\": \"blue\"}, \"showarrow\": false, \"text\": 18, \"x\": 1.414655345, \"y\": 2.73712749, \"yshift\": 15, \"z\": -0.8500826611}, {\"showarrow\": false, \"text\": 1.2, \"x\": -0.312339396, \"y\": -0.6494634693, \"yshift\": 15, \"z\": -0.4079284896}, {\"showarrow\": false, \"text\": 1.45, \"x\": -0.1453426633, \"y\": 0.6253882927, \"yshift\": 15, \"z\": -0.08473573645}, {\"showarrow\": false, \"text\": 1.57, \"x\": -0.013299244, \"y\": 1.493840568, \"yshift\": 15, \"z\": 0.85939420185}, {\"showarrow\": false, \"text\": 1.56, \"x\": 0.7044455797, \"y\": 2.024279318, \"yshift\": 15, \"z\": 1.5127283575}, {\"showarrow\": false, \"text\": 1.41, \"x\": 1.946527674, \"y\": 2.0839529285, \"yshift\": 15, \"z\": 1.714741007}, {\"showarrow\": false, \"text\": 1.43, \"x\": 2.6841232185, \"y\": 1.20902296525, \"yshift\": 15, \"z\": 1.6490373975}, {\"showarrow\": false, \"text\": 1.54, \"x\": 2.7213846325, \"y\": 0.81190054375, \"yshift\": 15, \"z\": 0.5371564909}, {\"showarrow\": false, \"text\": 1.53, \"x\": 1.9828879345, \"y\": 1.470604547, \"yshift\": 15, \"z\": -0.14763157555}, {\"showarrow\": false, \"text\": 1.56, \"x\": 1.3861822095, \"y\": 2.16436247, \"yshift\": 15, \"z\": 0.65225888105}, {\"showarrow\": false, \"text\": 1.58, \"x\": 0.6684373858, \"y\": 1.63392372, \"yshift\": 15, \"z\": -0.0010752746}, {\"showarrow\": false, \"text\": 1.09, \"x\": -0.42381360965, \"y\": 1.626063167, \"yshift\": 15, \"z\": -0.15787024015}, {\"showarrow\": false, \"text\": 1.09, \"x\": -0.384211208, \"y\": 1.9862545775, \"yshift\": 15, \"z\": 1.8013194515}, {\"showarrow\": false, \"text\": 1.09, \"x\": 3.387201736, \"y\": 0.520320014, \"yshift\": 15, \"z\": 1.375498825}, {\"showarrow\": false, \"text\": 1.06, \"x\": -0.4526324542, \"y\": -1.7404157455, \"yshift\": 15, \"z\": -0.67850248945}, {\"showarrow\": false, \"text\": 1.09, \"x\": 0.05979877205, \"y\": 1.23158330055, \"yshift\": 15, \"z\": 1.948037814}, {\"showarrow\": false, \"text\": 1.09, \"x\": 1.3945484535, \"y\": 2.913826691, \"yshift\": 15, \"z\": 1.519378148}, {\"showarrow\": false, \"text\": 1.1, \"x\": 2.5612455125, \"y\": 0.19641284735, \"yshift\": 15, \"z\": 1.424282454}, {\"showarrow\": false, \"text\": 1.09, \"x\": 3.008382632, \"y\": 1.258026583, \"yshift\": 15, \"z\": -0.4112067513}, {\"showarrow\": false, \"text\": 1.09, \"x\": 2.476787215, \"y\": 0.55355873155, \"yshift\": 15, \"z\": -0.5044173031}, {\"showarrow\": false, \"text\": 1.09, \"x\": 1.3999682005, \"y\": 2.342632, \"yshift\": 15, \"z\": -0.474157728}]}], \"label\": \"Atom indices & Bond lengths\", \"method\": \"relayout\"}, {\"args\": [{\"scene.annotations\": []}], \"label\": \"Hide all\", \"method\": \"relayout\"}], \"direction\": \"down\", \"xanchor\": \"left\", \"yanchor\": \"top\"}]},\n",
       "                        {\"responsive\": true}\n",
       "                    ).then(function(){\n",
       "                            \n",
       "var gd = document.getElementById('9a45c936-9381-442a-8b6c-54c99fd49cb6');\n",
       "var x = new MutationObserver(function (mutations, observer) {{\n",
       "        var display = window.getComputedStyle(gd).display;\n",
       "        if (!display || display === 'none') {{\n",
       "            console.log([gd, 'removed!']);\n",
       "            Plotly.purge(gd);\n",
       "            observer.disconnect();\n",
       "        }}\n",
       "}});\n",
       "\n",
       "// Listen for the removal of the full notebook cells\n",
       "var notebookContainer = gd.closest('#notebook-container');\n",
       "if (notebookContainer) {{\n",
       "    x.observe(notebookContainer, {childList: true});\n",
       "}}\n",
       "\n",
       "// Listen for the clearing of the current output cell\n",
       "var outputEl = gd.closest('.output');\n",
       "if (outputEl) {{\n",
       "    x.observe(outputEl, {childList: true});\n",
       "}}\n",
       "\n",
       "                        })\n",
       "                };\n",
       "                });\n",
       "            </script>\n",
       "        </div>"
      ]
     },
     "metadata": {},
     "output_type": "display_data"
    }
   ],
   "source": [
    "plot_molecule(mol_file.split('/')[-1].split('.')[0], struct)"
   ]
  },
  {
   "cell_type": "code",
   "execution_count": 8,
   "metadata": {},
   "outputs": [],
   "source": [
    "def gen_lookups(df, gb_col):\n",
    "    '''\n",
    "    return a cumsum array starting at 0 and a dict to map gb_col to its positions\n",
    "    '''\n",
    "    ss = df.groupby(gb_col).size().cumsum()\n",
    "    ssx = np.zeros(len(ss)+1).astype(int)\n",
    "    ssx[1:] = ss.values\n",
    "    ssdict = {}\n",
    "    for i, col in enumerate(ss.index):\n",
    "        ssdict[col] = i\n",
    "    return ssx, ssdict"
   ]
  },
  {
   "cell_type": "code",
   "execution_count": 9,
   "metadata": {},
   "outputs": [],
   "source": [
    "# Load data\n",
    "structures = pd.read_csv('../data/structures.csv')\n",
    "train = pd.read_csv('../data/train.csv')\n",
    "test = pd.read_csv('../data/test.csv')"
   ]
  },
  {
   "cell_type": "code",
   "execution_count": 10,
   "metadata": {},
   "outputs": [],
   "source": [
    "# structures.head(2), train.head(2)\n",
    "# def reorder_pairs\n",
    "# train = pd.merge(\n",
    "#     train, df, how='left'\n",
    "#     left_on=['molecule_name', f'atom_index_{atom_ix:d}'],\n",
    "#     right_on=['molecule_name', f'atom_index'],\n",
    "# )"
   ]
  },
  {
   "cell_type": "code",
   "execution_count": 11,
   "metadata": {},
   "outputs": [],
   "source": [
    "# Fast lookups\n",
    "xyz_ssx, xyz_dict = gen_lookups(structures, 'molecule_name')\n",
    "train_ssx, train_dict = gen_lookups(train, 'molecule_name')\n",
    "test_ssx, test_dict = gen_lookups(test, 'molecule_name')\n",
    "\n",
    "TYPE_DICT = {\n",
    "    '1JHN':0,\n",
    "    '1JHC':1,\n",
    "    '2JHH':2,\n",
    "    '2JHN':3,\n",
    "    '2JHC':4,\n",
    "    '3JHH':5,\n",
    "    '3JHC':6,\n",
    "    '3JHN':7,\n",
    "}\n",
    "\n",
    "# Numpy data\n",
    "xyz = structures[['x', 'y', 'z']].values.astype(np.float32)\n",
    "xyz_atom = structures['atom'].map({'H':1, 'C':6, 'N':7, 'O':8, 'F':9}).values.astype(np.uint8)\n",
    "train_pairs = train[['atom_index_0', 'atom_index_1']].values.astype(np.int8)\n",
    "train_types = train['type'].map(TYPE_DICT).values.astype(np.uint8)\n",
    "train_ptypes = np.hstack([train_pairs, train_types[:, None]])\n",
    "test_pairs = test[['atom_index_0', 'atom_index_1']].values.astype(np.int8)\n",
    "test_types = test['type'].map(TYPE_DICT).values.astype(np.uint8)\n",
    "test_ptypes = np.hstack([test_pairs, test_types[:, None]])\n",
    "\n",
    "mol_names = [g.split('/')[-1].split('.')[0] for g in glob.glob('../data/structures/*.xyz')[:]]"
   ]
  },
  {
   "cell_type": "code",
   "execution_count": 21,
   "metadata": {},
   "outputs": [
    {
     "ename": "TypingError",
     "evalue": "Failed in nopython mode pipeline (step: nopython frontend)\nUntyped global name 'numba_find_line': cannot determine Numba type of <class 'numba.ir.UndefinedType'>\n\nFile \"<ipython-input-14-dcb6e6352e0e>\", line 18:\ndef numba_fill_paths(abt, angle_mat, torsion_mat):\n    <source elided>\n            sub_amat = np.vstack((angle_mat[:, 0], angle_mat[:, 2])).T\n            angle_ixs = numba_find_line(pair, sub_amat)\n            ^\n\nThis is not usually a problem with Numba itself but instead often caused by\nthe use of unsupported features or an issue in resolving types.\n\nTo see Python/NumPy features supported by the latest release of Numba visit:\nhttp://numba.pydata.org/numba-doc/latest/reference/pysupported.html\nand\nhttp://numba.pydata.org/numba-doc/latest/reference/numpysupported.html\n\nFor more information about typing errors and how to debug them visit:\nhttp://numba.pydata.org/numba-doc/latest/user/troubleshoot.html#my-code-doesn-t-compile\n\nIf you think your code should work with Numba, please report the error message\nand traceback, along with a minimal reproducer at:\nhttps://github.com/numba/numba/issues/new\n\nThis is not usually a problem with Numba itself but instead often caused by\nthe use of unsupported features or an issue in resolving types.\n\nTo see Python/NumPy features supported by the latest release of Numba visit:\nhttp://numba.pydata.org/numba-doc/latest/reference/pysupported.html\nand\nhttp://numba.pydata.org/numba-doc/latest/reference/numpysupported.html\n\nFor more information about typing errors and how to debug them visit:\nhttp://numba.pydata.org/numba-doc/latest/user/troubleshoot.html#my-code-doesn-t-compile\n\nIf you think your code should work with Numba, please report the error message\nand traceback, along with a minimal reproducer at:\nhttps://github.com/numba/numba/issues/new\n\nThis is not usually a problem with Numba itself but instead often caused by\nthe use of unsupported features or an issue in resolving types.\n\nTo see Python/NumPy features supported by the latest release of Numba visit:\nhttp://numba.pydata.org/numba-doc/latest/reference/pysupported.html\nand\nhttp://numba.pydata.org/numba-doc/latest/reference/numpysupported.html\n\nFor more information about typing errors and how to debug them visit:\nhttp://numba.pydata.org/numba-doc/latest/user/troubleshoot.html#my-code-doesn-t-compile\n\nIf you think your code should work with Numba, please report the error message\nand traceback, along with a minimal reproducer at:\nhttps://github.com/numba/numba/issues/new\n\nThis is not usually a problem with Numba itself but instead often caused by\nthe use of unsupported features or an issue in resolving types.\n\nTo see Python/NumPy features supported by the latest release of Numba visit:\nhttp://numba.pydata.org/numba-doc/latest/reference/pysupported.html\nand\nhttp://numba.pydata.org/numba-doc/latest/reference/numpysupported.html\n\nFor more information about typing errors and how to debug them visit:\nhttp://numba.pydata.org/numba-doc/latest/user/troubleshoot.html#my-code-doesn-t-compile\n\nIf you think your code should work with Numba, please report the error message\nand traceback, along with a minimal reproducer at:\nhttps://github.com/numba/numba/issues/new\n",
     "output_type": "error",
     "traceback": [
      "\u001b[0;31m---------------------------------------------------------------------------\u001b[0m",
      "\u001b[0;31mTypingError\u001b[0m                               Traceback (most recent call last)",
      "\u001b[0;32m<timed exec>\u001b[0m in \u001b[0;36m<module>\u001b[0;34m\u001b[0m\n",
      "\u001b[0;32m~/anaconda3/envs/kaggle/lib/python3.7/site-packages/numba/dispatcher.py\u001b[0m in \u001b[0;36m_compile_for_args\u001b[0;34m(self, *args, **kws)\u001b[0m\n\u001b[1;32m    374\u001b[0m                 \u001b[0me\u001b[0m\u001b[0;34m.\u001b[0m\u001b[0mpatch_message\u001b[0m\u001b[0;34m(\u001b[0m\u001b[0mmsg\u001b[0m\u001b[0;34m)\u001b[0m\u001b[0;34m\u001b[0m\u001b[0;34m\u001b[0m\u001b[0m\n\u001b[1;32m    375\u001b[0m \u001b[0;34m\u001b[0m\u001b[0m\n\u001b[0;32m--> 376\u001b[0;31m             \u001b[0merror_rewrite\u001b[0m\u001b[0;34m(\u001b[0m\u001b[0me\u001b[0m\u001b[0;34m,\u001b[0m \u001b[0;34m'typing'\u001b[0m\u001b[0;34m)\u001b[0m\u001b[0;34m\u001b[0m\u001b[0;34m\u001b[0m\u001b[0m\n\u001b[0m\u001b[1;32m    377\u001b[0m         \u001b[0;32mexcept\u001b[0m \u001b[0merrors\u001b[0m\u001b[0;34m.\u001b[0m\u001b[0mUnsupportedError\u001b[0m \u001b[0;32mas\u001b[0m \u001b[0me\u001b[0m\u001b[0;34m:\u001b[0m\u001b[0;34m\u001b[0m\u001b[0;34m\u001b[0m\u001b[0m\n\u001b[1;32m    378\u001b[0m             \u001b[0;31m# Something unsupported is present in the user code, add help info\u001b[0m\u001b[0;34m\u001b[0m\u001b[0;34m\u001b[0m\u001b[0;34m\u001b[0m\u001b[0m\n",
      "\u001b[0;32m~/anaconda3/envs/kaggle/lib/python3.7/site-packages/numba/dispatcher.py\u001b[0m in \u001b[0;36merror_rewrite\u001b[0;34m(e, issue_type)\u001b[0m\n\u001b[1;32m    341\u001b[0m                 \u001b[0;32mraise\u001b[0m \u001b[0me\u001b[0m\u001b[0;34m\u001b[0m\u001b[0;34m\u001b[0m\u001b[0m\n\u001b[1;32m    342\u001b[0m             \u001b[0;32melse\u001b[0m\u001b[0;34m:\u001b[0m\u001b[0;34m\u001b[0m\u001b[0;34m\u001b[0m\u001b[0m\n\u001b[0;32m--> 343\u001b[0;31m                 \u001b[0mreraise\u001b[0m\u001b[0;34m(\u001b[0m\u001b[0mtype\u001b[0m\u001b[0;34m(\u001b[0m\u001b[0me\u001b[0m\u001b[0;34m)\u001b[0m\u001b[0;34m,\u001b[0m \u001b[0me\u001b[0m\u001b[0;34m,\u001b[0m \u001b[0;32mNone\u001b[0m\u001b[0;34m)\u001b[0m\u001b[0;34m\u001b[0m\u001b[0;34m\u001b[0m\u001b[0m\n\u001b[0m\u001b[1;32m    344\u001b[0m \u001b[0;34m\u001b[0m\u001b[0m\n\u001b[1;32m    345\u001b[0m         \u001b[0margtypes\u001b[0m \u001b[0;34m=\u001b[0m \u001b[0;34m[\u001b[0m\u001b[0;34m]\u001b[0m\u001b[0;34m\u001b[0m\u001b[0;34m\u001b[0m\u001b[0m\n",
      "\u001b[0;32m~/anaconda3/envs/kaggle/lib/python3.7/site-packages/numba/six.py\u001b[0m in \u001b[0;36mreraise\u001b[0;34m(tp, value, tb)\u001b[0m\n\u001b[1;32m    656\u001b[0m             \u001b[0mvalue\u001b[0m \u001b[0;34m=\u001b[0m \u001b[0mtp\u001b[0m\u001b[0;34m(\u001b[0m\u001b[0;34m)\u001b[0m\u001b[0;34m\u001b[0m\u001b[0;34m\u001b[0m\u001b[0m\n\u001b[1;32m    657\u001b[0m         \u001b[0;32mif\u001b[0m \u001b[0mvalue\u001b[0m\u001b[0;34m.\u001b[0m\u001b[0m__traceback__\u001b[0m \u001b[0;32mis\u001b[0m \u001b[0;32mnot\u001b[0m \u001b[0mtb\u001b[0m\u001b[0;34m:\u001b[0m\u001b[0;34m\u001b[0m\u001b[0;34m\u001b[0m\u001b[0m\n\u001b[0;32m--> 658\u001b[0;31m             \u001b[0;32mraise\u001b[0m \u001b[0mvalue\u001b[0m\u001b[0;34m.\u001b[0m\u001b[0mwith_traceback\u001b[0m\u001b[0;34m(\u001b[0m\u001b[0mtb\u001b[0m\u001b[0;34m)\u001b[0m\u001b[0;34m\u001b[0m\u001b[0;34m\u001b[0m\u001b[0m\n\u001b[0m\u001b[1;32m    659\u001b[0m         \u001b[0;32mraise\u001b[0m \u001b[0mvalue\u001b[0m\u001b[0;34m\u001b[0m\u001b[0;34m\u001b[0m\u001b[0m\n\u001b[1;32m    660\u001b[0m \u001b[0;34m\u001b[0m\u001b[0m\n",
      "\u001b[0;31mTypingError\u001b[0m: Failed in nopython mode pipeline (step: nopython frontend)\nUntyped global name 'numba_find_line': cannot determine Numba type of <class 'numba.ir.UndefinedType'>\n\nFile \"<ipython-input-14-dcb6e6352e0e>\", line 18:\ndef numba_fill_paths(abt, angle_mat, torsion_mat):\n    <source elided>\n            sub_amat = np.vstack((angle_mat[:, 0], angle_mat[:, 2])).T\n            angle_ixs = numba_find_line(pair, sub_amat)\n            ^\n\nThis is not usually a problem with Numba itself but instead often caused by\nthe use of unsupported features or an issue in resolving types.\n\nTo see Python/NumPy features supported by the latest release of Numba visit:\nhttp://numba.pydata.org/numba-doc/latest/reference/pysupported.html\nand\nhttp://numba.pydata.org/numba-doc/latest/reference/numpysupported.html\n\nFor more information about typing errors and how to debug them visit:\nhttp://numba.pydata.org/numba-doc/latest/user/troubleshoot.html#my-code-doesn-t-compile\n\nIf you think your code should work with Numba, please report the error message\nand traceback, along with a minimal reproducer at:\nhttps://github.com/numba/numba/issues/new\n\nThis is not usually a problem with Numba itself but instead often caused by\nthe use of unsupported features or an issue in resolving types.\n\nTo see Python/NumPy features supported by the latest release of Numba visit:\nhttp://numba.pydata.org/numba-doc/latest/reference/pysupported.html\nand\nhttp://numba.pydata.org/numba-doc/latest/reference/numpysupported.html\n\nFor more information about typing errors and how to debug them visit:\nhttp://numba.pydata.org/numba-doc/latest/user/troubleshoot.html#my-code-doesn-t-compile\n\nIf you think your code should work with Numba, please report the error message\nand traceback, along with a minimal reproducer at:\nhttps://github.com/numba/numba/issues/new\n\nThis is not usually a problem with Numba itself but instead often caused by\nthe use of unsupported features or an issue in resolving types.\n\nTo see Python/NumPy features supported by the latest release of Numba visit:\nhttp://numba.pydata.org/numba-doc/latest/reference/pysupported.html\nand\nhttp://numba.pydata.org/numba-doc/latest/reference/numpysupported.html\n\nFor more information about typing errors and how to debug them visit:\nhttp://numba.pydata.org/numba-doc/latest/user/troubleshoot.html#my-code-doesn-t-compile\n\nIf you think your code should work with Numba, please report the error message\nand traceback, along with a minimal reproducer at:\nhttps://github.com/numba/numba/issues/new\n\nThis is not usually a problem with Numba itself but instead often caused by\nthe use of unsupported features or an issue in resolving types.\n\nTo see Python/NumPy features supported by the latest release of Numba visit:\nhttp://numba.pydata.org/numba-doc/latest/reference/pysupported.html\nand\nhttp://numba.pydata.org/numba-doc/latest/reference/numpysupported.html\n\nFor more information about typing errors and how to debug them visit:\nhttp://numba.pydata.org/numba-doc/latest/user/troubleshoot.html#my-code-doesn-t-compile\n\nIf you think your code should work with Numba, please report the error message\nand traceback, along with a minimal reproducer at:\nhttps://github.com/numba/numba/issues/new\n"
     ]
    }
   ],
   "source": [
    "%%time\n",
    "ring_feature_base_names = [\n",
    "    'min_ring_size',\n",
    "    'max_ring_size',\n",
    "    'delta_ring_size',\n",
    "    'nrings',\n",
    "]\n",
    "\n",
    "# 'dsgdb9nsd_005567'\n",
    "for mol_name in ['dsgdb9nsd_035567']:\n",
    "    for mol in readfile('xyz', f'../data/structures/{mol_name}.xyz'):\n",
    "        mol = mol.OBMol\n",
    "\n",
    "    # Bond types matrix to allow for custom features for each bond type\n",
    "    mol_pairs_ix = train_dict[mol_name]\n",
    "    mol_ptypes = train_ptypes[train_ssx[mol_pairs_ix]:train_ssx[mol_pairs_ix + 1], :]\n",
    "    \n",
    "    # Fill orders, angles and torsions matrices\n",
    "    bonds = []\n",
    "    for bond in OBMolBondIter(mol):\n",
    "        beg_ix = bond.GetBeginAtomIdx()\n",
    "        end_ix = bond.GetEndAtomIdx()\n",
    "        order = bond.GetBondOrder()\n",
    "        bonds.append([beg_ix - 1, end_ix - 1, order])\n",
    "    bond_mat = np.vstack(bonds)\n",
    "    \n",
    "    angles = []\n",
    "    for angle in OBMolAngleIter(mol):\n",
    "        # WARNING : angles come with center atom first, hence the 1 0 2 order to compute the correct angle\n",
    "        angle_in_degrees = mol.GetAngle(mol.GetAtom(angle[1]+1), mol.GetAtom(angle[0]+1), mol.GetAtom(angle[2]+1))\n",
    "        angles.append([angle[1], angle[0], angle[2], angle_in_degrees])\n",
    "    angle_mat = np.vstack(angles)\n",
    "\n",
    "    torsions = []\n",
    "    for torsion in OBMolTorsionIter(mol):\n",
    "        torsion_in_degrees = mol.GetTorsion(torsion[0]+1, torsion[1]+1, torsion[2]+1, torsion[3]+1)\n",
    "        torsions.append([torsion[0], torsion[1], torsion[2], torsion[3], torsion_in_degrees])\n",
    "    torsion_mat = np.vstack(torsions)\n",
    "    \n",
    "    # Ring info\n",
    "    \n",
    "    rmat = None\n",
    "    ring_infos = []\n",
    "    for ring in mol.GetSSSR():\n",
    "        RSIZE = ring.Size()\n",
    "        rixs = np.array(ring._path)-1\n",
    "        rsize = np.ones(RSIZE)*RSIZE\n",
    "        ring_infos.append(np.vstack([rixs, rsize]))\n",
    "    if ring_infos:\n",
    "        rmat = np.hstack(ring_infos).T\n",
    "    \n",
    "    # Feat engineering\n",
    "\n",
    "    NPAIRS = mol_ptypes.shape[0]\n",
    "    feature_chunk = np.empty(shape=(NPAIRS, len(ring_feature_base_names)), dtype=np.float32)\n",
    "    feature_chunk.fill(np.nan)\n",
    "    mn_mat = numba_fill_paths(abt=mol_ptypes, angle_mat=angle_mat, torsion_mat=torsion_mat)\n",
    "mn_mat\n",
    "# a=pd.DataFrame(data=feature_chunk, columns=feature_names).astype(feature_names)\n",
    "# pd.concat([train.loc[train.molecule_name == 'dsgdb9nsd_005567', :].reset_index(), a.reset_index()], axis=1).head(2)"
   ]
  },
  {
   "cell_type": "code",
   "execution_count": 14,
   "metadata": {},
   "outputs": [
    {
     "data": {
      "text/plain": [
       "array([[ 0,  0,  0,  0],\n",
       "       [ 0,  0,  0,  0],\n",
       "       [ 4, 10,  6,  2],\n",
       "       [ 4, 10,  6,  2]], dtype=uint8)"
      ]
     },
     "execution_count": 14,
     "metadata": {},
     "output_type": "execute_result"
    }
   ],
   "source": [
    "@jit(nopython=True)\n",
    "def numba_fill_paths(abt, angle_mat, torsion_mat):\n",
    "    '''\n",
    "    given abt, with pair ixs on first 2 cols and encoded bond type on 3rd col\n",
    "    returns a 2col matrix with first col filled with middle ix for 2J or 1st and 2nd cols\n",
    "    filled for 3J\n",
    "    '''\n",
    "    \n",
    "    NA = -1\n",
    "    mn = np.ones((abt.shape[0], 2)) * NA\n",
    "    for i, line in enumerate(abt):\n",
    "        pair = line[:2]\n",
    "        t = line[2] \n",
    "        if t==0 or t==1:\n",
    "            continue\n",
    "        elif t==2 or t==3 or t==4:\n",
    "            sub_amat = np.vstack((angle_mat[:, 0], angle_mat[:, 2])).T\n",
    "            angle_ixs = numba_find_line(pair, sub_amat)\n",
    "            m_ix = angle_mat[angle_ixs[0], 1]\n",
    "            mn[i, 0] = m_ix      \n",
    "        else:\n",
    "            sub_tmat = np.vstack((torsion_mat[:, 0], torsion_mat[:, 3])).T\n",
    "            torsion_ixs = numba_find_line(pair, sub_tmat)\n",
    "            m_ix = torsion_mat[torsion_ixs[0], 1]\n",
    "            n_ix = torsion_mat[torsion_ixs[0], 2]\n",
    "            mn[i, 0] = m_ix\n",
    "            mn[i, 1] = n_ix\n",
    "    return mn\n",
    "\n",
    "ixs = np.array([7,8,3,3])\n",
    "numba_ring_mat_feats(rmat=rmat, ixs=ixs)"
   ]
  },
  {
   "cell_type": "code",
   "execution_count": 32,
   "metadata": {
    "collapsed": true
   },
   "outputs": [
    {
     "data": {
      "application/vnd.jupyter.widget-view+json": {
       "model_id": "63b4decd9a334db39a9901a956aafcad",
       "version_major": 2,
       "version_minor": 0
      },
      "text/plain": [
       "HBox(children=(IntProgress(value=0, max=130775), HTML(value='')))"
      ]
     },
     "metadata": {},
     "output_type": "display_data"
    },
    {
     "name": "stdout",
     "output_type": "stream",
     "text": [
      "\n"
     ]
    },
    {
     "ename": "KeyboardInterrupt",
     "evalue": "",
     "output_type": "error",
     "traceback": [
      "\u001b[0;31m---------------------------------------------------------------------------\u001b[0m",
      "\u001b[0;31mKeyboardInterrupt\u001b[0m                         Traceback (most recent call last)",
      "\u001b[0;32m<ipython-input-32-c580cd700b6a>\u001b[0m in \u001b[0;36m<module>\u001b[0;34m\u001b[0m\n\u001b[1;32m     12\u001b[0m     \u001b[0mmol\u001b[0m \u001b[0;34m=\u001b[0m \u001b[0mMolecule\u001b[0m\u001b[0;34m(\u001b[0m\u001b[0mmol\u001b[0m\u001b[0;34m)\u001b[0m\u001b[0;34m\u001b[0m\u001b[0;34m\u001b[0m\u001b[0m\n\u001b[1;32m     13\u001b[0m     \u001b[0mmol\u001b[0m\u001b[0;34m.\u001b[0m\u001b[0mOBMol\u001b[0m\u001b[0;34m.\u001b[0m\u001b[0mConnectTheDots\u001b[0m\u001b[0;34m(\u001b[0m\u001b[0;34m)\u001b[0m\u001b[0;34m\u001b[0m\u001b[0;34m\u001b[0m\u001b[0m\n\u001b[0;32m---> 14\u001b[0;31m     \u001b[0mmol\u001b[0m\u001b[0;34m.\u001b[0m\u001b[0mOBMol\u001b[0m\u001b[0;34m.\u001b[0m\u001b[0mPerceiveBondOrders\u001b[0m\u001b[0;34m(\u001b[0m\u001b[0;34m)\u001b[0m\u001b[0;34m\u001b[0m\u001b[0;34m\u001b[0m\u001b[0m\n\u001b[0m\u001b[1;32m     15\u001b[0m     \u001b[0mmol\u001b[0m\u001b[0;34m.\u001b[0m\u001b[0mOBMol\u001b[0m\u001b[0;34m.\u001b[0m\u001b[0mFindAngles\u001b[0m\u001b[0;34m(\u001b[0m\u001b[0;34m)\u001b[0m\u001b[0;34m\u001b[0m\u001b[0;34m\u001b[0m\u001b[0m\n\u001b[1;32m     16\u001b[0m     \u001b[0mmol\u001b[0m\u001b[0;34m.\u001b[0m\u001b[0mOBMol\u001b[0m\u001b[0;34m.\u001b[0m\u001b[0mFindTorsions\u001b[0m\u001b[0;34m(\u001b[0m\u001b[0;34m)\u001b[0m\u001b[0;34m\u001b[0m\u001b[0;34m\u001b[0m\u001b[0m\n",
      "\u001b[0;31mKeyboardInterrupt\u001b[0m: "
     ]
    }
   ],
   "source": [
    "for mol_name in tqdm_notebook(mol_names):\n",
    "    mol_ix = xyz_dict[mol_name]\n",
    "    mol_xyz = xyz[xyz_ssx[mol_ix]:xyz_ssx[mol_ix + 1], :]\n",
    "    mol_atom = xyz_atom[xyz_ssx[mol_ix]:xyz_ssx[mol_ix + 1]]\n",
    "    \n",
    "    mol = OBMol()\n",
    "    for i in range(mol_xyz.shape[0]):\n",
    "        atm = OBAtom()\n",
    "        atm.SetAtomicNum(int(mol_atom[i]))\n",
    "        atm.SetVector(float(mol_xyz[i, 0]), float(mol_xyz[i, 1]), float(mol_xyz[i, 2]))\n",
    "        mol.AddAtom(atm)\n",
    "    mol = Molecule(mol)\n",
    "    mol.OBMol.ConnectTheDots()\n",
    "    mol.OBMol.PerceiveBondOrders()\n",
    "    mol.OBMol.FindAngles()\n",
    "    mol.OBMol.FindTorsions()\n",
    "    for atm in mol:\n",
    "            ix = atm.idx - 1"
   ]
  },
  {
   "cell_type": "code",
   "execution_count": 13,
   "metadata": {},
   "outputs": [],
   "source": [
    "@jit(nopython=True)\n",
    "def numba_ring_mat_feats(rmat, ixs):\n",
    "    '''\n",
    "    Given rmat with 2 columns, where column 1 is atom_ix and column 2 is the size of the ring where it was found\n",
    "    compute a number of ring features for atoms with ixs specified in 'ixs'\n",
    "    \n",
    "    One atom ix can appear more than once on rmat's column 1\n",
    "    '''\n",
    "    \n",
    "    NFEATS = 4\n",
    "    MAX_NUM_RINGS = 8\n",
    "    NRMAT = rmat.shape[0]\n",
    "    NIXS = ixs.shape[0]\n",
    "    \n",
    "    fmat = np.empty(shape=(NIXS, NFEATS), dtype=np.uint8)\n",
    "    for i in range(NIXS):\n",
    "        ix = ixs[i]\n",
    "        rsf = np.zeros(MAX_NUM_RINGS, dtype=np.uint8)\n",
    "        iii = 0\n",
    "        for j in range(NRMAT):\n",
    "            if rmat[j, 0] == ix:\n",
    "                rsf[iii] = rmat[j, 1]\n",
    "                iii += 1\n",
    "\n",
    "        # default feat vals\n",
    "        min_r_size = 0\n",
    "        max_r_size = 0\n",
    "        delta_r_size = 0\n",
    "        nrings = iii\n",
    "\n",
    "        # if rings found\n",
    "        if nrings > 0:\n",
    "            rsf = rsf[rsf > 0]\n",
    "            min_r_size = np.min(rsf)\n",
    "            max_r_size = np.max(rsf)\n",
    "            delta_r_size = max_r_size - min_r_size\n",
    "\n",
    "        fmat[i, 0] = min_r_size\n",
    "        fmat[i, 1] = max_r_size\n",
    "        fmat[i, 2] = delta_r_size\n",
    "        fmat[i, 3] = nrings\n",
    "    \n",
    "    return fmat\n",
    "\n",
    "rmat = np.array([\n",
    "    [3,4],\n",
    "    [2,4],\n",
    "    [3,10],\n",
    "    [11,4]\n",
    "])"
   ]
  },
  {
   "cell_type": "code",
   "execution_count": 16,
   "metadata": {},
   "outputs": [
    {
     "data": {
      "application/vnd.jupyter.widget-view+json": {
       "model_id": "33d5a9025d74461d8fcf146a86a9b55c",
       "version_major": 2,
       "version_minor": 0
      },
      "text/plain": [
       "HBox(children=(IntProgress(value=0, max=130775), HTML(value='')))"
      ]
     },
     "metadata": {},
     "output_type": "display_data"
    },
    {
     "name": "stdout",
     "output_type": "stream",
     "text": [
      "\n"
     ]
    }
   ],
   "source": [
    "for mol_name in tqdm_notebook(mol_names):\n",
    "    for mol in readfile('xyz', f'../data/structures/{mol_name}.xyz'):\n",
    "        for atm in mol:\n",
    "            ix = atm.idx - 1\n",
    "#             bonds = []\n",
    "#             for bond in OBAtomBondIter(atm.OBAtom):\n",
    "#                 beg_ix = bond.GetBeginAtomIdx() - 1\n",
    "#                 end_ix = bond.GetEndAtomIdx() - 1\n",
    "#                 bond_order = bond.GetBondOrder()\n",
    "#                 bonds.append(f'{bond_order:d}-bond | {beg_ix:d}-{end_ix:d}')\n",
    "\n",
    "    \n",
    "    # Create molecule\n",
    "    \n",
    "#     mol_ix = xyz_dict[mol_name]\n",
    "#     mol_xyz = xyz[xyz_ssx[mol_ix]:xyz_ssx[mol_ix + 1], :]\n",
    "#     mol_atom = xyz_atom[xyz_ssx[mol_ix]:xyz_ssx[mol_ix + 1]]\n",
    "#     mol_pairs_ix = train_dict[mol_name]\n",
    "#     mol_pairs = train_pairs[train_ssx[mol_pairs_ix]:train_ssx[mol_pairs_ix + 1], :]\n",
    "    \n",
    "#     mol = OBMol()\n",
    "#     for i in range(mol_xyz.shape[0]):\n",
    "#         atm = OBAtom()\n",
    "#         atm.SetAtomicNum(int(mol_atom[i]))\n",
    "#         atm.SetVector(float(mol_xyz[i, 0]), float(mol_xyz[i, 1]), float(mol_xyz[i, 2]))\n",
    "#         mol.AddAtom(atm)\n",
    "        \n",
    "#     mol.ConnectTheDots()\n",
    "#     mol.PerceiveBondOrders()\n",
    "#     mol.FindAngles()\n",
    "#     mol.FindTorsions()"
   ]
  },
  {
   "cell_type": "code",
   "execution_count": 20,
   "metadata": {},
   "outputs": [],
   "source": [
    "def find_line(line, arr, accept_reverse=True):\n",
    "    l = list(np.argwhere(np.equal(arr,line).all(axis=1))[:,0])\n",
    "    if accept_reverse:\n",
    "        l.extend(np.argwhere(np.equal(arr,line[::-1]).all(axis=1))[:,0])\n",
    "    return l\n",
    "\n"
   ]
  },
  {
   "cell_type": "code",
   "execution_count": 95,
   "metadata": {},
   "outputs": [
    {
     "name": "stdout",
     "output_type": "stream",
     "text": [
      "35.8 µs ± 3.28 µs per loop (mean ± std. dev. of 7 runs, 10000 loops each)\n"
     ]
    }
   ],
   "source": [
    "%%timeit\n",
    "a = np.array([[17,2],[10,20],[1,72]])\n",
    "find_line([10,20], a)"
   ]
  },
  {
   "cell_type": "code",
   "execution_count": 119,
   "metadata": {},
   "outputs": [
    {
     "name": "stdout",
     "output_type": "stream",
     "text": [
      "4.22 µs ± 54.5 ns per loop (mean ± std. dev. of 7 runs, 100000 loops each)\n"
     ]
    }
   ],
   "source": [
    "%%timeit\n",
    "a = np.array([[17,2],[10,20],[1,72]])\n",
    "numba_find_line(np.array([10,20]), a)"
   ]
  },
  {
   "cell_type": "code",
   "execution_count": 32,
   "metadata": {},
   "outputs": [
    {
     "data": {
      "text/html": [
       "<div>\n",
       "<style scoped>\n",
       "    .dataframe tbody tr th:only-of-type {\n",
       "        vertical-align: middle;\n",
       "    }\n",
       "\n",
       "    .dataframe tbody tr th {\n",
       "        vertical-align: top;\n",
       "    }\n",
       "\n",
       "    .dataframe thead th {\n",
       "        text-align: right;\n",
       "    }\n",
       "</style>\n",
       "<table border=\"1\" class=\"dataframe\">\n",
       "  <thead>\n",
       "    <tr style=\"text-align: right;\">\n",
       "      <th></th>\n",
       "      <th>id</th>\n",
       "      <th>molecule_name</th>\n",
       "      <th>atom_index_0</th>\n",
       "      <th>atom_index_1</th>\n",
       "      <th>type</th>\n",
       "      <th>scalar_coupling_constant</th>\n",
       "      <th>x_min_ring_size</th>\n",
       "      <th>x_max_ring_size</th>\n",
       "      <th>x_delta_ring_size</th>\n",
       "      <th>x_nrings</th>\n",
       "      <th>y_min_ring_size</th>\n",
       "      <th>y_max_ring_size</th>\n",
       "      <th>y_delta_ring_size</th>\n",
       "      <th>y_nrings</th>\n",
       "      <th>z_min_ring_size</th>\n",
       "      <th>z_max_ring_size</th>\n",
       "      <th>z_delta_ring_size</th>\n",
       "      <th>z_nrings</th>\n",
       "    </tr>\n",
       "  </thead>\n",
       "  <tbody>\n",
       "    <tr>\n",
       "      <th>0</th>\n",
       "      <td>0</td>\n",
       "      <td>dsgdb9nsd_000001</td>\n",
       "      <td>1</td>\n",
       "      <td>0</td>\n",
       "      <td>1JHC</td>\n",
       "      <td>84.8076</td>\n",
       "      <td>3.0</td>\n",
       "      <td>3.0</td>\n",
       "      <td>0.0</td>\n",
       "      <td>1.0</td>\n",
       "      <td>0.0</td>\n",
       "      <td>0.0</td>\n",
       "      <td>0.0</td>\n",
       "      <td>0.0</td>\n",
       "      <td>0.0</td>\n",
       "      <td>0.0</td>\n",
       "      <td>0.0</td>\n",
       "      <td>0.0</td>\n",
       "    </tr>\n",
       "    <tr>\n",
       "      <th>1</th>\n",
       "      <td>1</td>\n",
       "      <td>dsgdb9nsd_000001</td>\n",
       "      <td>1</td>\n",
       "      <td>2</td>\n",
       "      <td>2JHH</td>\n",
       "      <td>-11.2570</td>\n",
       "      <td>3.0</td>\n",
       "      <td>3.0</td>\n",
       "      <td>0.0</td>\n",
       "      <td>1.0</td>\n",
       "      <td>3.0</td>\n",
       "      <td>3.0</td>\n",
       "      <td>0.0</td>\n",
       "      <td>1.0</td>\n",
       "      <td>0.0</td>\n",
       "      <td>0.0</td>\n",
       "      <td>0.0</td>\n",
       "      <td>0.0</td>\n",
       "    </tr>\n",
       "    <tr>\n",
       "      <th>2</th>\n",
       "      <td>2</td>\n",
       "      <td>dsgdb9nsd_000001</td>\n",
       "      <td>1</td>\n",
       "      <td>3</td>\n",
       "      <td>2JHH</td>\n",
       "      <td>-11.2548</td>\n",
       "      <td>0.0</td>\n",
       "      <td>0.0</td>\n",
       "      <td>0.0</td>\n",
       "      <td>0.0</td>\n",
       "      <td>3.0</td>\n",
       "      <td>3.0</td>\n",
       "      <td>0.0</td>\n",
       "      <td>1.0</td>\n",
       "      <td>0.0</td>\n",
       "      <td>0.0</td>\n",
       "      <td>0.0</td>\n",
       "      <td>0.0</td>\n",
       "    </tr>\n",
       "    <tr>\n",
       "      <th>3</th>\n",
       "      <td>3</td>\n",
       "      <td>dsgdb9nsd_000001</td>\n",
       "      <td>1</td>\n",
       "      <td>4</td>\n",
       "      <td>2JHH</td>\n",
       "      <td>-11.2543</td>\n",
       "      <td>0.0</td>\n",
       "      <td>0.0</td>\n",
       "      <td>0.0</td>\n",
       "      <td>0.0</td>\n",
       "      <td>3.0</td>\n",
       "      <td>3.0</td>\n",
       "      <td>0.0</td>\n",
       "      <td>1.0</td>\n",
       "      <td>3.0</td>\n",
       "      <td>3.0</td>\n",
       "      <td>0.0</td>\n",
       "      <td>1.0</td>\n",
       "    </tr>\n",
       "    <tr>\n",
       "      <th>4</th>\n",
       "      <td>4</td>\n",
       "      <td>dsgdb9nsd_000001</td>\n",
       "      <td>2</td>\n",
       "      <td>0</td>\n",
       "      <td>1JHC</td>\n",
       "      <td>84.8074</td>\n",
       "      <td>0.0</td>\n",
       "      <td>0.0</td>\n",
       "      <td>0.0</td>\n",
       "      <td>0.0</td>\n",
       "      <td>3.0</td>\n",
       "      <td>3.0</td>\n",
       "      <td>0.0</td>\n",
       "      <td>1.0</td>\n",
       "      <td>3.0</td>\n",
       "      <td>3.0</td>\n",
       "      <td>0.0</td>\n",
       "      <td>1.0</td>\n",
       "    </tr>\n",
       "  </tbody>\n",
       "</table>\n",
       "</div>"
      ],
      "text/plain": [
       "   id     molecule_name  atom_index_0  atom_index_1  type  \\\n",
       "0   0  dsgdb9nsd_000001             1             0  1JHC   \n",
       "1   1  dsgdb9nsd_000001             1             2  2JHH   \n",
       "2   2  dsgdb9nsd_000001             1             3  2JHH   \n",
       "3   3  dsgdb9nsd_000001             1             4  2JHH   \n",
       "4   4  dsgdb9nsd_000001             2             0  1JHC   \n",
       "\n",
       "   scalar_coupling_constant  x_min_ring_size  x_max_ring_size  \\\n",
       "0                   84.8076              3.0              3.0   \n",
       "1                  -11.2570              3.0              3.0   \n",
       "2                  -11.2548              0.0              0.0   \n",
       "3                  -11.2543              0.0              0.0   \n",
       "4                   84.8074              0.0              0.0   \n",
       "\n",
       "   x_delta_ring_size  x_nrings  y_min_ring_size  y_max_ring_size  \\\n",
       "0                0.0       1.0              0.0              0.0   \n",
       "1                0.0       1.0              3.0              3.0   \n",
       "2                0.0       0.0              3.0              3.0   \n",
       "3                0.0       0.0              3.0              3.0   \n",
       "4                0.0       0.0              3.0              3.0   \n",
       "\n",
       "   y_delta_ring_size  y_nrings  z_min_ring_size  z_max_ring_size  \\\n",
       "0                0.0       0.0              0.0              0.0   \n",
       "1                0.0       1.0              0.0              0.0   \n",
       "2                0.0       1.0              0.0              0.0   \n",
       "3                0.0       1.0              3.0              3.0   \n",
       "4                0.0       1.0              3.0              3.0   \n",
       "\n",
       "   z_delta_ring_size  z_nrings  \n",
       "0                0.0       0.0  \n",
       "1                0.0       0.0  \n",
       "2                0.0       0.0  \n",
       "3                0.0       1.0  \n",
       "4                0.0       1.0  "
      ]
     },
     "execution_count": 32,
     "metadata": {},
     "output_type": "execute_result"
    }
   ],
   "source": [
    "train = pd.read_csv('../data/train.csv')\n",
    "f = pd.read_hdf('../features/ring_feats_train.h5')\n",
    "j = pd.concat([train.reset_index(drop=True), f.reset_index(drop=True)], axis=1)\n",
    "j.head()"
   ]
  },
  {
   "cell_type": "code",
   "execution_count": 41,
   "metadata": {},
   "outputs": [
    {
     "data": {
      "text/plain": [
       "<matplotlib.axes._subplots.AxesSubplot at 0x7fa5afa1c4e0>"
      ]
     },
     "execution_count": 41,
     "metadata": {},
     "output_type": "execute_result"
    },
    {
     "data": {
      "image/png": "[encoded data removed]",
      "text/plain": [
       "<Figure size 432x288 with 1 Axes>"
      ]
     },
     "metadata": {
      "needs_background": "light"
     },
     "output_type": "display_data"
    }
   ],
   "source": [
    "import seaborn as sns\n",
    "v = j['x_nrings']\n",
    "v = v[~np.isnan(v)]\n",
    "sns.distplot(v, kde=False)"
   ]
  },
  {
   "cell_type": "code",
   "execution_count": 48,
   "metadata": {},
   "outputs": [
    {
     "data": {
      "text/plain": [
       "<matplotlib.collections.PathCollection at 0x7fa5ab95f438>"
      ]
     },
     "execution_count": 48,
     "metadata": {},
     "output_type": "execute_result"
    },
    {
     "data": {
      "image/png": "[encoded data removed]",
      "text/plain": [
       "<Figure size 432x288 with 1 Axes>"
      ]
     },
     "metadata": {
      "needs_background": "light"
     },
     "output_type": "display_data"
    }
   ],
   "source": [
    "import matplotlib.pyplot as plt\n",
    "v = j['x_delta_ring_size']\n",
    "v2 = v[~np.isnan(v)]\n",
    "u = j['scalar_coupling_constant']\n",
    "u = u[~np.isnan(v)]\n",
    "plt.scatter(v2, u)"
   ]
  },
  {
   "cell_type": "code",
   "execution_count": 52,
   "metadata": {},
   "outputs": [
    {
     "data": {
      "text/html": [
       "<div>\n",
       "<style scoped>\n",
       "    .dataframe tbody tr th:only-of-type {\n",
       "        vertical-align: middle;\n",
       "    }\n",
       "\n",
       "    .dataframe tbody tr th {\n",
       "        vertical-align: top;\n",
       "    }\n",
       "\n",
       "    .dataframe thead th {\n",
       "        text-align: right;\n",
       "    }\n",
       "</style>\n",
       "<table border=\"1\" class=\"dataframe\">\n",
       "  <thead>\n",
       "    <tr style=\"text-align: right;\">\n",
       "      <th></th>\n",
       "      <th>d0_0</th>\n",
       "      <th>d0_1</th>\n",
       "      <th>d0_2</th>\n",
       "      <th>d0_3</th>\n",
       "      <th>d1_0</th>\n",
       "      <th>d1_1</th>\n",
       "      <th>d1_2</th>\n",
       "      <th>d1_3</th>\n",
       "      <th>d2_0</th>\n",
       "      <th>d2_1</th>\n",
       "      <th>...</th>\n",
       "      <th>d12_2</th>\n",
       "      <th>d12_3</th>\n",
       "      <th>d13_0</th>\n",
       "      <th>d13_1</th>\n",
       "      <th>d13_2</th>\n",
       "      <th>d13_3</th>\n",
       "      <th>d14_0</th>\n",
       "      <th>d14_1</th>\n",
       "      <th>d14_2</th>\n",
       "      <th>d14_3</th>\n",
       "    </tr>\n",
       "  </thead>\n",
       "  <tbody>\n",
       "    <tr>\n",
       "      <th>0</th>\n",
       "      <td>0.0</td>\n",
       "      <td>1.091953</td>\n",
       "      <td>1.783120</td>\n",
       "      <td>1.783147</td>\n",
       "      <td>1.091953</td>\n",
       "      <td>0.0</td>\n",
       "      <td>1.091952</td>\n",
       "      <td>1.091946</td>\n",
       "      <td>1.783120</td>\n",
       "      <td>1.091952</td>\n",
       "      <td>...</td>\n",
       "      <td>NaN</td>\n",
       "      <td>NaN</td>\n",
       "      <td>NaN</td>\n",
       "      <td>NaN</td>\n",
       "      <td>NaN</td>\n",
       "      <td>NaN</td>\n",
       "      <td>NaN</td>\n",
       "      <td>NaN</td>\n",
       "      <td>NaN</td>\n",
       "      <td>NaN</td>\n",
       "    </tr>\n",
       "    <tr>\n",
       "      <th>1</th>\n",
       "      <td>0.0</td>\n",
       "      <td>1.783120</td>\n",
       "      <td>1.091953</td>\n",
       "      <td>1.783157</td>\n",
       "      <td>1.783120</td>\n",
       "      <td>0.0</td>\n",
       "      <td>1.091952</td>\n",
       "      <td>1.783148</td>\n",
       "      <td>1.091953</td>\n",
       "      <td>1.091952</td>\n",
       "      <td>...</td>\n",
       "      <td>NaN</td>\n",
       "      <td>NaN</td>\n",
       "      <td>NaN</td>\n",
       "      <td>NaN</td>\n",
       "      <td>NaN</td>\n",
       "      <td>NaN</td>\n",
       "      <td>NaN</td>\n",
       "      <td>NaN</td>\n",
       "      <td>NaN</td>\n",
       "      <td>NaN</td>\n",
       "    </tr>\n",
       "  </tbody>\n",
       "</table>\n",
       "<p>2 rows × 60 columns</p>\n",
       "</div>"
      ],
      "text/plain": [
       "   d0_0      d0_1      d0_2      d0_3      d1_0  d1_1      d1_2      d1_3  \\\n",
       "0   0.0  1.091953  1.783120  1.783147  1.091953   0.0  1.091952  1.091946   \n",
       "1   0.0  1.783120  1.091953  1.783157  1.783120   0.0  1.091952  1.783148   \n",
       "\n",
       "       d2_0      d2_1  ...  d12_2  d12_3  d13_0  d13_1  d13_2  d13_3  d14_0  \\\n",
       "0  1.783120  1.091952  ...    NaN    NaN    NaN    NaN    NaN    NaN    NaN   \n",
       "1  1.091953  1.091952  ...    NaN    NaN    NaN    NaN    NaN    NaN    NaN   \n",
       "\n",
       "   d14_1  d14_2  d14_3  \n",
       "0    NaN    NaN    NaN  \n",
       "1    NaN    NaN    NaN  \n",
       "\n",
       "[2 rows x 60 columns]"
      ]
     },
     "execution_count": 52,
     "metadata": {},
     "output_type": "execute_result"
    }
   ],
   "source": [
    "f = pd.read_hdf('../features/gps_base_train.h5')\n",
    "f.head(2)"
   ]
  },
  {
   "cell_type": "code",
   "execution_count": 53,
   "metadata": {},
   "outputs": [
    {
     "data": {
      "text/plain": [
       "<matplotlib.axes._subplots.AxesSubplot at 0x7fa5aac64630>"
      ]
     },
     "execution_count": 53,
     "metadata": {},
     "output_type": "execute_result"
    },
    {
     "data": {
      "image/png": "[encoded data removed]",
      "text/plain": [
       "<Figure size 432x288 with 1 Axes>"
      ]
     },
     "metadata": {
      "needs_background": "light"
     },
     "output_type": "display_data"
    }
   ],
   "source": [
    "sns.distplot(f['d0_1'].values, kde=False)"
   ]
  },
  {
   "cell_type": "code",
   "execution_count": 54,
   "metadata": {},
   "outputs": [
    {
     "data": {
      "text/html": [
       "<div>\n",
       "<style scoped>\n",
       "    .dataframe tbody tr th:only-of-type {\n",
       "        vertical-align: middle;\n",
       "    }\n",
       "\n",
       "    .dataframe tbody tr th {\n",
       "        vertical-align: top;\n",
       "    }\n",
       "\n",
       "    .dataframe thead th {\n",
       "        text-align: right;\n",
       "    }\n",
       "</style>\n",
       "<table border=\"1\" class=\"dataframe\">\n",
       "  <thead>\n",
       "    <tr style=\"text-align: right;\">\n",
       "      <th></th>\n",
       "      <th>cyl_r_0.10</th>\n",
       "      <th>cyl_r_0.20</th>\n",
       "      <th>cyl_r_0.50</th>\n",
       "      <th>cyl_r_1.00</th>\n",
       "      <th>cyl_r_1.50</th>\n",
       "      <th>cyl_r_2.00</th>\n",
       "      <th>cyl_r_3.00</th>\n",
       "    </tr>\n",
       "  </thead>\n",
       "  <tbody>\n",
       "    <tr>\n",
       "      <th>0</th>\n",
       "      <td>0.0</td>\n",
       "      <td>0.0</td>\n",
       "      <td>0.0</td>\n",
       "      <td>0.0</td>\n",
       "      <td>0.0</td>\n",
       "      <td>0.0</td>\n",
       "      <td>0.0</td>\n",
       "    </tr>\n",
       "    <tr>\n",
       "      <th>1</th>\n",
       "      <td>0.0</td>\n",
       "      <td>0.0</td>\n",
       "      <td>0.0</td>\n",
       "      <td>1.0</td>\n",
       "      <td>1.0</td>\n",
       "      <td>3.0</td>\n",
       "      <td>3.0</td>\n",
       "    </tr>\n",
       "    <tr>\n",
       "      <th>2</th>\n",
       "      <td>0.0</td>\n",
       "      <td>0.0</td>\n",
       "      <td>0.0</td>\n",
       "      <td>1.0</td>\n",
       "      <td>1.0</td>\n",
       "      <td>3.0</td>\n",
       "      <td>3.0</td>\n",
       "    </tr>\n",
       "    <tr>\n",
       "      <th>3</th>\n",
       "      <td>0.0</td>\n",
       "      <td>0.0</td>\n",
       "      <td>0.0</td>\n",
       "      <td>1.0</td>\n",
       "      <td>1.0</td>\n",
       "      <td>3.0</td>\n",
       "      <td>3.0</td>\n",
       "    </tr>\n",
       "    <tr>\n",
       "      <th>4</th>\n",
       "      <td>0.0</td>\n",
       "      <td>0.0</td>\n",
       "      <td>0.0</td>\n",
       "      <td>0.0</td>\n",
       "      <td>0.0</td>\n",
       "      <td>0.0</td>\n",
       "      <td>0.0</td>\n",
       "    </tr>\n",
       "  </tbody>\n",
       "</table>\n",
       "</div>"
      ],
      "text/plain": [
       "   cyl_r_0.10  cyl_r_0.20  cyl_r_0.50  cyl_r_1.00  cyl_r_1.50  cyl_r_2.00  \\\n",
       "0         0.0         0.0         0.0         0.0         0.0         0.0   \n",
       "1         0.0         0.0         0.0         1.0         1.0         3.0   \n",
       "2         0.0         0.0         0.0         1.0         1.0         3.0   \n",
       "3         0.0         0.0         0.0         1.0         1.0         3.0   \n",
       "4         0.0         0.0         0.0         0.0         0.0         0.0   \n",
       "\n",
       "   cyl_r_3.00  \n",
       "0         0.0  \n",
       "1         3.0  \n",
       "2         3.0  \n",
       "3         3.0  \n",
       "4         0.0  "
      ]
     },
     "execution_count": 54,
     "metadata": {},
     "output_type": "execute_result"
    }
   ],
   "source": [
    "ss = pd.read_hdf('../features/cyl_feats_train.h5')\n",
    "ss.head()"
   ]
  },
  {
   "cell_type": "code",
   "execution_count": 55,
   "metadata": {},
   "outputs": [
    {
     "data": {
      "text/plain": [
       "array([   33914.,    54473.,   616505.,  5094603.,  8644197., 14532945.,\n",
       "       27247196.], dtype=float32)"
      ]
     },
     "execution_count": 55,
     "metadata": {},
     "output_type": "execute_result"
    }
   ],
   "source": [
    "vs = ss.values\n",
    "np.sum(vs, axis=0)"
   ]
  },
  {
   "cell_type": "code",
   "execution_count": null,
   "metadata": {},
   "outputs": [],
   "source": [
    "for c in ss.columns:\n",
    "    print(f'\\n')"
   ]
  }
 ],
 "metadata": {
  "kernelspec": {
   "display_name": "Python 3",
   "language": "python",
   "name": "python3"
  },
  "language_info": {
   "codemirror_mode": {
    "name": "ipython",
    "version": 3
   },
   "file_extension": ".py",
   "mimetype": "text/x-python",
   "name": "python",
   "nbconvert_exporter": "python",
   "pygments_lexer": "ipython3",
   "version": "3.7.3"
  }
 },
 "nbformat": 4,
 "nbformat_minor": 2
}
